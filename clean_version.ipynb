{
 "cells": [
  {
   "cell_type": "code",
   "execution_count": 6,
   "id": "073f6eb2",
   "metadata": {
    "scrolled": false
   },
   "outputs": [],
   "source": [
    "import numpy as np \n",
    "import pandas as pd \n",
    "from tqdm.notebook import tqdm\n",
    "import json\n",
    "from bertopic import BERTopic\n",
    "from umap import UMAP\n",
    "import random \n",
    "# custom scripts\n",
    "from text_preprocessing import text_preprocessing\n",
    "%matplotlib inline"
   ]
  },
  {
   "cell_type": "markdown",
   "id": "23383ad2",
   "metadata": {},
   "source": [
    "# Num of lines per json chunks:  \n",
    "* num of lines in test5.json is 1354309\n",
    "* num of lines in test4.json is 1000000\n",
    "* num of lines in test3.json is 1000000\n",
    "* num of lines in test1.json is 1000000\n",
    "* num of lines in test2.json is 1000000\n"
   ]
  },
  {
   "cell_type": "code",
   "execution_count": 10,
   "id": "b215cf55",
   "metadata": {},
   "outputs": [],
   "source": [
    "# path = 'data/articles_data/'\n",
    "# chunks = os.listdir(path)\n",
    "# all_keys = set()\n",
    "# count = 0\n",
    "# for elem in chunks:\n",
    "#     with open(path + elem, 'rb') as f:\n",
    "#         cnt = 0\n",
    "#         for _ in range(10**7):\n",
    "#             try:\n",
    "#                 all_keys.update(json.loads(next(f)))\n",
    "#                 cnt += 1\n",
    "#             except StopIteration:\n",
    "#                 print(f'num of lines in {elem} is {cnt}')\n",
    "#                 break\n",
    "# print(all_keys)"
   ]
  },
  {
   "cell_type": "markdown",
   "id": "c31b5be3",
   "metadata": {},
   "source": [
    "# Abstract preprocessing"
   ]
  },
  {
   "cell_type": "code",
   "execution_count": 11,
   "id": "06363373",
   "metadata": {
    "scrolled": true
   },
   "outputs": [],
   "source": [
    "# preproc in the same way\n",
    "# for idx, paper in enumerate(tqdm(abstracts)):\n",
    "#     abstracts[idx][1] = text_preprocessing(paper[1])"
   ]
  },
  {
   "cell_type": "markdown",
   "id": "644cb6dd",
   "metadata": {},
   "source": [
    "# Model training"
   ]
  },
  {
   "cell_type": "code",
   "execution_count": 2,
   "id": "c6880068",
   "metadata": {},
   "outputs": [],
   "source": [
    "# already saved proprocessed texts\n",
    "abstracts = np.load('all_data/preprocessed_data_2015_abstracts.npy', allow_pickle = True).item()"
   ]
  },
  {
   "cell_type": "code",
   "execution_count": 14,
   "id": "07eefd34",
   "metadata": {},
   "outputs": [],
   "source": [
    "idx = list(abstracts.keys())\n",
    "random.shuffle(idx)"
   ]
  },
  {
   "cell_type": "code",
   "execution_count": 16,
   "id": "db3a3464",
   "metadata": {},
   "outputs": [],
   "source": [
    "train_idx = idx[: len(idx) // 2]\n",
    "test_idx = idx[len(idx) // 2:]"
   ]
  },
  {
   "cell_type": "code",
   "execution_count": 20,
   "id": "f9d582d4",
   "metadata": {},
   "outputs": [],
   "source": [
    "train_data = []\n",
    "for key in train_idx:\n",
    "    train_data.append(abstracts[key])"
   ]
  },
  {
   "cell_type": "code",
   "execution_count": null,
   "id": "13693ce2",
   "metadata": {},
   "outputs": [
    {
     "data": {
      "application/vnd.jupyter.widget-view+json": {
       "model_id": "b4b0610263aa4b749266aab70bd6bb92",
       "version_major": 2,
       "version_minor": 0
      },
      "text/plain": [
       "Batches:   0%|          | 0/12156 [00:00<?, ?it/s]"
      ]
     },
     "metadata": {},
     "output_type": "display_data"
    }
   ],
   "source": [
    "# for reproducibility \n",
    "# https://maartengr.github.io/BERTopic/faq.html#why-are-the-results-not-consistent-between-runs\n",
    "umap_model = UMAP(n_neighbors = 15, \n",
    "                  n_components = 5, \n",
    "                  min_dist = 0.0,\n",
    "                  metric = 'cosine', \n",
    "                  random_state = 42)\n",
    "\n",
    "model = BERTopic(language = \"english\",\n",
    "                 umap_model = umap_model,\n",
    "                 verbose = True)\n",
    "topics, probs = model.fit_transform(train_data)\n",
    "topics_info = model.get_topic_info();"
   ]
  },
  {
   "cell_type": "code",
   "execution_count": null,
   "id": "05d4951e",
   "metadata": {
    "scrolled": false
   },
   "outputs": [],
   "source": [
    "topics_info"
   ]
  },
  {
   "cell_type": "code",
   "execution_count": null,
   "id": "42345bbc",
   "metadata": {},
   "outputs": [],
   "source": [
    "model.save('bert_model_100k_new')"
   ]
  },
  {
   "cell_type": "code",
   "execution_count": null,
   "id": "2950ffae",
   "metadata": {},
   "outputs": [],
   "source": [
    "np.save(\"all_data/train_idx.npy\", train_idx)\n",
    "np.save(\"all_data/test_idx.npy\", test_idx)"
   ]
  },
  {
   "cell_type": "markdown",
   "id": "984c034f",
   "metadata": {},
   "source": [
    "# Example of the model inference"
   ]
  },
  {
   "cell_type": "code",
   "execution_count": 3,
   "id": "87f70b12",
   "metadata": {},
   "outputs": [],
   "source": [
    "# train_idx = np.load(\"all_data/train_idx.npy\")\n",
    "test_idx = np.load(\"all_data/test_idx.npy\")"
   ]
  },
  {
   "cell_type": "code",
   "execution_count": 4,
   "id": "6f21c5cf",
   "metadata": {},
   "outputs": [],
   "source": [
    "test_idx = test_idx.tolist()"
   ]
  },
  {
   "cell_type": "code",
   "execution_count": 5,
   "id": "ef4395f0",
   "metadata": {},
   "outputs": [],
   "source": [
    "test_data = {}\n",
    "cnt = 0\n",
    "for key in test_idx:\n",
    "    if key == \"nan\":\n",
    "        continue\n",
    "    test_data[key] = abstracts[key]"
   ]
  },
  {
   "cell_type": "code",
   "execution_count": 7,
   "id": "4e17b5bb",
   "metadata": {},
   "outputs": [],
   "source": [
    "np.save('all_data/test_articles.npy', test_data)"
   ]
  },
  {
   "cell_type": "code",
   "execution_count": 12,
   "id": "69f9196d",
   "metadata": {},
   "outputs": [],
   "source": [
    "tt = np.load('all_data/scored_train_data_2015.npy', allow_pickle=True)"
   ]
  },
  {
   "cell_type": "code",
   "execution_count": null,
   "id": "db4f998d",
   "metadata": {},
   "outputs": [],
   "source": [
    "test_data.items()[0]"
   ]
  },
  {
   "cell_type": "code",
   "execution_count": 7,
   "id": "3c00362f",
   "metadata": {},
   "outputs": [],
   "source": [
    "bert_model = BERTopic.load('bert_model_350k_2015_new')"
   ]
  },
  {
   "cell_type": "code",
   "execution_count": 9,
   "id": "4de35e31",
   "metadata": {},
   "outputs": [],
   "source": [
    "data = np.load(\"all_data/test_articles.npy\", allow_pickle=True).item()"
   ]
  },
  {
   "cell_type": "code",
   "execution_count": 14,
   "id": "72547792",
   "metadata": {},
   "outputs": [],
   "source": [
    "keys = []\n",
    "values = []\n",
    "for key, value in data.items():\n",
    "    keys.append(key)\n",
    "    values.append(value)"
   ]
  },
  {
   "cell_type": "code",
   "execution_count": 16,
   "id": "a15e2ed6",
   "metadata": {},
   "outputs": [
    {
     "data": {
      "application/vnd.jupyter.widget-view+json": {
       "model_id": "1c54a92fba384b97b78b6df6a4837af0",
       "version_major": 2,
       "version_minor": 0
      },
      "text/plain": [
       "Batches:   0%|          | 0/1 [00:00<?, ?it/s]"
      ]
     },
     "metadata": {},
     "output_type": "display_data"
    }
   ],
   "source": [
    "res = bert_model.transform(values[:10])"
   ]
  },
  {
   "cell_type": "code",
   "execution_count": 17,
   "id": "c94c5809",
   "metadata": {},
   "outputs": [
    {
     "data": {
      "text/plain": [
       "([85, -1, -1, 130, -1, 0, -1, 294, -1, 302],\n",
       " array([1.        , 0.        , 0.        , 0.65964381, 0.        ,\n",
       "        1.        , 0.        , 0.55053165, 0.        , 0.72066497]))"
      ]
     },
     "execution_count": 17,
     "metadata": {},
     "output_type": "execute_result"
    }
   ],
   "source": [
    "res"
   ]
  },
  {
   "cell_type": "code",
   "execution_count": 25,
   "id": "83668970",
   "metadata": {},
   "outputs": [
    {
     "data": {
      "text/plain": [
       "[(85, 1.0),\n",
       " (-1, 0.0),\n",
       " (-1, 0.0),\n",
       " (130, 0.6596438064660028),\n",
       " (-1, 0.0),\n",
       " (0, 1.0),\n",
       " (-1, 0.0),\n",
       " (294, 0.5505316454281876),\n",
       " (-1, 0.0),\n",
       " (302, 0.7206649735701612)]"
      ]
     },
     "execution_count": 25,
     "metadata": {},
     "output_type": "execute_result"
    }
   ],
   "source": [
    "list(zip(res[0], res[1]))"
   ]
  },
  {
   "cell_type": "code",
   "execution_count": 3,
   "id": "24fb6cc5",
   "metadata": {},
   "outputs": [],
   "source": [
    "topics_info = bert_model.get_topic_info()"
   ]
  },
  {
   "cell_type": "code",
   "execution_count": 4,
   "id": "4cf9a36b",
   "metadata": {},
   "outputs": [
    {
     "data": {
      "text/html": [
       "<div>\n",
       "<style scoped>\n",
       "    .dataframe tbody tr th:only-of-type {\n",
       "        vertical-align: middle;\n",
       "    }\n",
       "\n",
       "    .dataframe tbody tr th {\n",
       "        vertical-align: top;\n",
       "    }\n",
       "\n",
       "    .dataframe thead th {\n",
       "        text-align: right;\n",
       "    }\n",
       "</style>\n",
       "<table border=\"1\" class=\"dataframe\">\n",
       "  <thead>\n",
       "    <tr style=\"text-align: right;\">\n",
       "      <th></th>\n",
       "      <th>Topic</th>\n",
       "      <th>Count</th>\n",
       "      <th>Name</th>\n",
       "    </tr>\n",
       "  </thead>\n",
       "  <tbody>\n",
       "    <tr>\n",
       "      <th>0</th>\n",
       "      <td>-1</td>\n",
       "      <td>191566</td>\n",
       "      <td>-1_student_social_datum_user</td>\n",
       "    </tr>\n",
       "    <tr>\n",
       "      <th>1</th>\n",
       "      <td>0</td>\n",
       "      <td>3039</td>\n",
       "      <td>0_dnn_cnn_cifar_deep</td>\n",
       "    </tr>\n",
       "    <tr>\n",
       "      <th>2</th>\n",
       "      <td>1</td>\n",
       "      <td>2054</td>\n",
       "      <td>1_indoor_localization_positioning_rss</td>\n",
       "    </tr>\n",
       "    <tr>\n",
       "      <th>3</th>\n",
       "      <td>2</td>\n",
       "      <td>1745</td>\n",
       "      <td>2_quantum_qubit_entanglement_classical</td>\n",
       "    </tr>\n",
       "    <tr>\n",
       "      <th>4</th>\n",
       "      <td>3</td>\n",
       "      <td>1411</td>\n",
       "      <td>3_convex_gradient_proximal_convergence</td>\n",
       "    </tr>\n",
       "    <tr>\n",
       "      <th>...</th>\n",
       "      <td>...</td>\n",
       "      <td>...</td>\n",
       "      <td>...</td>\n",
       "    </tr>\n",
       "    <tr>\n",
       "      <th>2517</th>\n",
       "      <td>2516</td>\n",
       "      <td>10</td>\n",
       "      <td>2516_rem_kriging_krige_interpolation</td>\n",
       "    </tr>\n",
       "    <tr>\n",
       "      <th>2518</th>\n",
       "      <td>2517</td>\n",
       "      <td>10</td>\n",
       "      <td>2517_evapotranspiration_seb_et_arid</td>\n",
       "    </tr>\n",
       "    <tr>\n",
       "      <th>2519</th>\n",
       "      <td>2518</td>\n",
       "      <td>10</td>\n",
       "      <td>2518_tensor_nonnegative_odeco_symmetric</td>\n",
       "    </tr>\n",
       "    <tr>\n",
       "      <th>2520</th>\n",
       "      <td>2519</td>\n",
       "      <td>10</td>\n",
       "      <td>2519_carton_sheet_backordere_rework</td>\n",
       "    </tr>\n",
       "    <tr>\n",
       "      <th>2521</th>\n",
       "      <td>2520</td>\n",
       "      <td>10</td>\n",
       "      <td>2520_rsp_rdf_sparql_stream</td>\n",
       "    </tr>\n",
       "  </tbody>\n",
       "</table>\n",
       "<p>2522 rows × 3 columns</p>\n",
       "</div>"
      ],
      "text/plain": [
       "      Topic   Count                                     Name\n",
       "0        -1  191566             -1_student_social_datum_user\n",
       "1         0    3039                     0_dnn_cnn_cifar_deep\n",
       "2         1    2054    1_indoor_localization_positioning_rss\n",
       "3         2    1745   2_quantum_qubit_entanglement_classical\n",
       "4         3    1411   3_convex_gradient_proximal_convergence\n",
       "...     ...     ...                                      ...\n",
       "2517   2516      10     2516_rem_kriging_krige_interpolation\n",
       "2518   2517      10      2517_evapotranspiration_seb_et_arid\n",
       "2519   2518      10  2518_tensor_nonnegative_odeco_symmetric\n",
       "2520   2519      10      2519_carton_sheet_backordere_rework\n",
       "2521   2520      10               2520_rsp_rdf_sparql_stream\n",
       "\n",
       "[2522 rows x 3 columns]"
      ]
     },
     "execution_count": 4,
     "metadata": {},
     "output_type": "execute_result"
    }
   ],
   "source": [
    "topics_info"
   ]
  },
  {
   "cell_type": "code",
   "execution_count": 7,
   "id": "432ed862",
   "metadata": {},
   "outputs": [
    {
     "data": {
      "application/vnd.jupyter.widget-view+json": {
       "model_id": "9e7308122ec94f2db1fd47840a782cb3",
       "version_major": 2,
       "version_minor": 0
      },
      "text/plain": [
       "0it [00:00, ?it/s]"
      ]
     },
     "metadata": {},
     "output_type": "display_data"
    },
    {
     "data": {
      "application/vnd.jupyter.widget-view+json": {
       "model_id": "59460f199a7b4354906847935ce3aed2",
       "version_major": 2,
       "version_minor": 0
      },
      "text/plain": [
       "Batches:   0%|          | 0/1 [00:00<?, ?it/s]"
      ]
     },
     "metadata": {},
     "output_type": "display_data"
    },
    {
     "name": "stdout",
     "output_type": "stream",
     "text": [
      "[0.]\n"
     ]
    },
    {
     "data": {
      "application/vnd.jupyter.widget-view+json": {
       "model_id": "2e89f97059cf42f099e7671e84fa21a5",
       "version_major": 2,
       "version_minor": 0
      },
      "text/plain": [
       "Batches:   0%|          | 0/1 [00:00<?, ?it/s]"
      ]
     },
     "metadata": {},
     "output_type": "display_data"
    },
    {
     "name": "stdout",
     "output_type": "stream",
     "text": [
      "[0.]\n"
     ]
    },
    {
     "data": {
      "application/vnd.jupyter.widget-view+json": {
       "model_id": "5800129464f44d7db7aef0e4849c14d4",
       "version_major": 2,
       "version_minor": 0
      },
      "text/plain": [
       "Batches:   0%|          | 0/1 [00:00<?, ?it/s]"
      ]
     },
     "metadata": {},
     "output_type": "display_data"
    },
    {
     "name": "stdout",
     "output_type": "stream",
     "text": [
      "[1.]\n"
     ]
    },
    {
     "data": {
      "application/vnd.jupyter.widget-view+json": {
       "model_id": "464984ecc78d4d8c8e9cb5a1ce58f4b7",
       "version_major": 2,
       "version_minor": 0
      },
      "text/plain": [
       "Batches:   0%|          | 0/1 [00:00<?, ?it/s]"
      ]
     },
     "metadata": {},
     "output_type": "display_data"
    },
    {
     "name": "stdout",
     "output_type": "stream",
     "text": [
      "[0.]\n"
     ]
    },
    {
     "data": {
      "application/vnd.jupyter.widget-view+json": {
       "model_id": "75266d83286b47b392288c1ae4968886",
       "version_major": 2,
       "version_minor": 0
      },
      "text/plain": [
       "Batches:   0%|          | 0/1 [00:00<?, ?it/s]"
      ]
     },
     "metadata": {},
     "output_type": "display_data"
    },
    {
     "name": "stdout",
     "output_type": "stream",
     "text": [
      "[0.]\n"
     ]
    },
    {
     "data": {
      "application/vnd.jupyter.widget-view+json": {
       "model_id": "2cef4126abfd4c5790858ef32a8125ff",
       "version_major": 2,
       "version_minor": 0
      },
      "text/plain": [
       "Batches:   0%|          | 0/1 [00:00<?, ?it/s]"
      ]
     },
     "metadata": {},
     "output_type": "display_data"
    },
    {
     "name": "stdout",
     "output_type": "stream",
     "text": [
      "[0.]\n"
     ]
    },
    {
     "data": {
      "application/vnd.jupyter.widget-view+json": {
       "model_id": "2709693e7b554de8a976e2dbe1450aae",
       "version_major": 2,
       "version_minor": 0
      },
      "text/plain": [
       "Batches:   0%|          | 0/1 [00:00<?, ?it/s]"
      ]
     },
     "metadata": {},
     "output_type": "display_data"
    },
    {
     "name": "stdout",
     "output_type": "stream",
     "text": [
      "[0.]\n"
     ]
    },
    {
     "data": {
      "application/vnd.jupyter.widget-view+json": {
       "model_id": "f5d321730764400fb3e371bdbed259b9",
       "version_major": 2,
       "version_minor": 0
      },
      "text/plain": [
       "Batches:   0%|          | 0/1 [00:00<?, ?it/s]"
      ]
     },
     "metadata": {},
     "output_type": "display_data"
    },
    {
     "name": "stdout",
     "output_type": "stream",
     "text": [
      "[0.]\n"
     ]
    },
    {
     "data": {
      "application/vnd.jupyter.widget-view+json": {
       "model_id": "0732332fad74421995e081c447d6ab60",
       "version_major": 2,
       "version_minor": 0
      },
      "text/plain": [
       "Batches:   0%|          | 0/1 [00:00<?, ?it/s]"
      ]
     },
     "metadata": {},
     "output_type": "display_data"
    },
    {
     "name": "stdout",
     "output_type": "stream",
     "text": [
      "[0.8893339]\n"
     ]
    },
    {
     "data": {
      "application/vnd.jupyter.widget-view+json": {
       "model_id": "72d878e09eda41eda42158424b7922cc",
       "version_major": 2,
       "version_minor": 0
      },
      "text/plain": [
       "Batches:   0%|          | 0/1 [00:00<?, ?it/s]"
      ]
     },
     "metadata": {},
     "output_type": "display_data"
    },
    {
     "name": "stdout",
     "output_type": "stream",
     "text": [
      "[0.91513623]\n"
     ]
    },
    {
     "data": {
      "application/vnd.jupyter.widget-view+json": {
       "model_id": "c6a3546db3314cd7b9d288fb41d7b8ea",
       "version_major": 2,
       "version_minor": 0
      },
      "text/plain": [
       "Batches:   0%|          | 0/1 [00:00<?, ?it/s]"
      ]
     },
     "metadata": {},
     "output_type": "display_data"
    },
    {
     "name": "stdout",
     "output_type": "stream",
     "text": [
      "[0.]\n"
     ]
    },
    {
     "data": {
      "application/vnd.jupyter.widget-view+json": {
       "model_id": "12ddc5ce72704130963b7f44713770ca",
       "version_major": 2,
       "version_minor": 0
      },
      "text/plain": [
       "Batches:   0%|          | 0/1 [00:00<?, ?it/s]"
      ]
     },
     "metadata": {},
     "output_type": "display_data"
    },
    {
     "name": "stdout",
     "output_type": "stream",
     "text": [
      "[0.18314955]\n"
     ]
    },
    {
     "data": {
      "application/vnd.jupyter.widget-view+json": {
       "model_id": "5e9df0de84d9408fa9bfd2f96f0871f0",
       "version_major": 2,
       "version_minor": 0
      },
      "text/plain": [
       "Batches:   0%|          | 0/1 [00:00<?, ?it/s]"
      ]
     },
     "metadata": {},
     "output_type": "display_data"
    },
    {
     "name": "stdout",
     "output_type": "stream",
     "text": [
      "[1.]\n"
     ]
    },
    {
     "data": {
      "application/vnd.jupyter.widget-view+json": {
       "model_id": "576d48bb999a4fc2b407376ddc0f2396",
       "version_major": 2,
       "version_minor": 0
      },
      "text/plain": [
       "Batches:   0%|          | 0/1 [00:00<?, ?it/s]"
      ]
     },
     "metadata": {},
     "output_type": "display_data"
    },
    {
     "name": "stdout",
     "output_type": "stream",
     "text": [
      "[0.80538597]\n"
     ]
    },
    {
     "data": {
      "application/vnd.jupyter.widget-view+json": {
       "model_id": "d60747733f384f2b835889503a167973",
       "version_major": 2,
       "version_minor": 0
      },
      "text/plain": [
       "Batches:   0%|          | 0/1 [00:00<?, ?it/s]"
      ]
     },
     "metadata": {},
     "output_type": "display_data"
    },
    {
     "name": "stdout",
     "output_type": "stream",
     "text": [
      "[0.]\n"
     ]
    },
    {
     "data": {
      "application/vnd.jupyter.widget-view+json": {
       "model_id": "e847400e9bff470498e5c8d88d32f14e",
       "version_major": 2,
       "version_minor": 0
      },
      "text/plain": [
       "Batches:   0%|          | 0/1 [00:00<?, ?it/s]"
      ]
     },
     "metadata": {},
     "output_type": "display_data"
    },
    {
     "name": "stdout",
     "output_type": "stream",
     "text": [
      "[0.]\n"
     ]
    },
    {
     "data": {
      "application/vnd.jupyter.widget-view+json": {
       "model_id": "94fb90975e4a45158f3b79505961ee7b",
       "version_major": 2,
       "version_minor": 0
      },
      "text/plain": [
       "Batches:   0%|          | 0/1 [00:00<?, ?it/s]"
      ]
     },
     "metadata": {},
     "output_type": "display_data"
    },
    {
     "name": "stdout",
     "output_type": "stream",
     "text": [
      "[0.97741641]\n"
     ]
    },
    {
     "data": {
      "application/vnd.jupyter.widget-view+json": {
       "model_id": "638d8b82fbb2405185c64c183eb48ad2",
       "version_major": 2,
       "version_minor": 0
      },
      "text/plain": [
       "Batches:   0%|          | 0/1 [00:00<?, ?it/s]"
      ]
     },
     "metadata": {},
     "output_type": "display_data"
    },
    {
     "name": "stdout",
     "output_type": "stream",
     "text": [
      "[0.]\n"
     ]
    },
    {
     "data": {
      "application/vnd.jupyter.widget-view+json": {
       "model_id": "c0dd79e70abe4e4198c0b4a3e6102043",
       "version_major": 2,
       "version_minor": 0
      },
      "text/plain": [
       "Batches:   0%|          | 0/1 [00:00<?, ?it/s]"
      ]
     },
     "metadata": {},
     "output_type": "display_data"
    },
    {
     "name": "stdout",
     "output_type": "stream",
     "text": [
      "[0.]\n"
     ]
    },
    {
     "data": {
      "application/vnd.jupyter.widget-view+json": {
       "model_id": "306c8f1e909d49db9025d0aff63f118e",
       "version_major": 2,
       "version_minor": 0
      },
      "text/plain": [
       "Batches:   0%|          | 0/1 [00:00<?, ?it/s]"
      ]
     },
     "metadata": {},
     "output_type": "display_data"
    },
    {
     "name": "stdout",
     "output_type": "stream",
     "text": [
      "[0.67504664]\n",
      "53e9b06fb7602d9703ad307e  :  -1_graph_problem_design_application\n",
      "53e9b06fb7602d9703ad3097  :  -1_graph_problem_design_application\n",
      "53e9b06fb7602d9703ad30c6  :  143_ecg_fetal_heart_qrs\n",
      "53e9b06fb7602d9703ad30dc  :  -1_graph_problem_design_application\n",
      "53e9b06fb7602d9703ad3112  :  -1_graph_problem_design_application\n",
      "53e9b06fb7602d9703ad3125  :  -1_graph_problem_design_application\n",
      "53e9b06fb7602d9703ad3155  :  -1_graph_problem_design_application\n",
      "53e9b06fb7602d9703ad31ac  :  -1_graph_problem_design_application\n",
      "53e9b06fb7602d9703ad31b7  :  604_option_price_american_martingale\n",
      "53e9b06fb7602d9703ad31e4  :  74_painting_sketch_stroke_paint\n",
      "53e9b06fb7602d9703ad31f5  :  -1_graph_problem_design_application\n",
      "53e9b06fb7602d9703ad320f  :  143_ecg_fetal_heart_qrs\n",
      "53e9b06fb7602d9703ad322c  :  19_grid_resource_job_scheduling\n",
      "53e9b06fb7602d9703ad326a  :  46_testing_test_suite_coverage\n",
      "53e9b06fb7602d9703ad326f  :  -1_graph_problem_design_application\n",
      "53e9b06fb7602d9703ad3280  :  -1_graph_problem_design_application\n",
      "53e9b06fb7602d9703ad3287  :  483_plagiarism_authorship_attribution_author\n",
      "53e9b06fb7602d9703ad32bd  :  -1_graph_problem_design_application\n",
      "53e9b06fb7602d9703ad32e6  :  -1_graph_problem_design_application\n",
      "53e9b06fb7602d9703ad32ff  :  95_code_cyclic_dual_binary\n"
     ]
    }
   ],
   "source": [
    "# upload raw abstracts\n",
    "test_data = np.load('all_data/abstracts.npy', allow_pickle = True)[10**6 : 10**6 + 20]\n",
    "# preprocess and score on the go\n",
    "preds = {}\n",
    "for idx, paper in tqdm(enumerate(test_data)):\n",
    "    preprocesed_abstract = text_preprocessing(paper[1])\n",
    "    topics, prob = bert_model.transform(preprocesed_abstract)\n",
    "    print(prob)\n",
    "    preds[paper[0]] = topics_info[topics_info['Topic'] == topics[0]]['Name'].iloc[0]\n",
    "    \n",
    "for key, value in preds.items():\n",
    "    print(key, ' : ', value)"
   ]
  },
  {
   "cell_type": "markdown",
   "id": "ba893a0d",
   "metadata": {},
   "source": [
    "P.S. The first number in topics defines the class, so you can take it from there."
   ]
  },
  {
   "cell_type": "markdown",
   "id": "43677a88",
   "metadata": {},
   "source": [
    "# Save scored ids and their labels"
   ]
  },
  {
   "cell_type": "code",
   "execution_count": 10,
   "id": "60dbc7d6",
   "metadata": {},
   "outputs": [
    {
     "name": "stdout",
     "output_type": "stream",
     "text": [
      "0 2040\n",
      "1 -1\n",
      "2 1266\n",
      "3 -1\n",
      "4 2191\n",
      "5 218\n",
      "6 -1\n",
      "7 -1\n",
      "8 -1\n",
      "9 -1\n"
     ]
    }
   ],
   "source": [
    "for idx, elem in enumerate(bert_model.topics_[:10]):\n",
    "    print(idx, elem)"
   ]
  },
  {
   "cell_type": "code",
   "execution_count": 13,
   "id": "d3fc56d2",
   "metadata": {},
   "outputs": [],
   "source": [
    "topics_dict = dict(zip(bert_model.get_topic_info()['Topic'], bert_model.get_topic_info()['Name']))\n"
   ]
  },
  {
   "cell_type": "code",
   "execution_count": 1,
   "id": "7bace47e",
   "metadata": {},
   "outputs": [],
   "source": [
    "tt = {1: 1, 2: 3}"
   ]
  },
  {
   "cell_type": "code",
   "execution_count": 4,
   "id": "f84a9143",
   "metadata": {},
   "outputs": [
    {
     "name": "stdout",
     "output_type": "stream",
     "text": [
      "(1, 1)\n",
      "(2, 3)\n"
     ]
    }
   ],
   "source": [
    "for elem in tt.items():\n",
    "    print(elem)"
   ]
  },
  {
   "cell_type": "code",
   "execution_count": 75,
   "id": "5d6a44a0",
   "metadata": {},
   "outputs": [],
   "source": [
    "topics_dict = dict(zip(bert_model.get_topic_info()['Topic'], bert_model.get_topic_info()['Name']))\n",
    "result = []\n",
    "for idx, elem in enumerate(bert_model.topics_):\n",
    "    if train_idx[idx] == \"nan\":\n",
    "        continue\n",
    "    result.append([train_idx[idx], topics_dict[elem]])\n",
    "result = np.array(result)\n",
    "np.save('all_data/scored_train_data_2015.npy', result)"
   ]
  },
  {
   "cell_type": "code",
   "execution_count": 76,
   "id": "ab0148ef",
   "metadata": {},
   "outputs": [],
   "source": [
    "t = np.load(\"all_data/scored_train_data_2015.npy\")"
   ]
  },
  {
   "cell_type": "markdown",
   "id": "f7aa59ff",
   "metadata": {},
   "source": [
    "# Finally save valid papers' ids"
   ]
  },
  {
   "cell_type": "code",
   "execution_count": 47,
   "id": "35d744f6",
   "metadata": {},
   "outputs": [],
   "source": [
    "abst = np.load('all_data/abstracts.npy', allow_pickle = True)\n",
    "scored_abst = np.load('all_data/preprocessed_abstracts_100k.npy', allow_pickle = True)"
   ]
  },
  {
   "cell_type": "code",
   "execution_count": 48,
   "id": "28bc4204",
   "metadata": {},
   "outputs": [],
   "source": [
    "valid_id = abst[:, 0].tolist()\n",
    "\n",
    "with open('all_data/valid_id.json', 'w') as f:\n",
    "    f.write(json.dumps({'id': valid_id}))\n",
    "    \n",
    "data = {}\n",
    "with open('all_data/valid_id.json', 'rb') as f:\n",
    "    data = json.loads(next(f))"
   ]
  },
  {
   "cell_type": "code",
   "execution_count": 49,
   "id": "5b69d543",
   "metadata": {},
   "outputs": [
    {
     "data": {
      "text/plain": [
       "3010729"
      ]
     },
     "execution_count": 49,
     "metadata": {},
     "output_type": "execute_result"
    }
   ],
   "source": [
    "len(data['id'])"
   ]
  },
  {
   "cell_type": "code",
   "execution_count": 50,
   "id": "0708869e",
   "metadata": {},
   "outputs": [],
   "source": [
    "scores_id = scored_abst[:, 0].tolist()\n",
    "\n",
    "with open('all_data/scored_id.json', 'w') as f:\n",
    "    f.write(json.dumps({'id': scores_id}))\n",
    "    \n",
    "scored_data = {}\n",
    "with open('all_data/scored_id.json', 'rb') as f:\n",
    "    scored_data = json.loads(next(f))"
   ]
  },
  {
   "cell_type": "code",
   "execution_count": 51,
   "id": "14de0fd7",
   "metadata": {
    "scrolled": true
   },
   "outputs": [
    {
     "data": {
      "text/plain": [
       "100000"
      ]
     },
     "execution_count": 51,
     "metadata": {},
     "output_type": "execute_result"
    }
   ],
   "source": [
    "len(scored_data['id'])"
   ]
  },
  {
   "cell_type": "code",
   "execution_count": null,
   "id": "fbb47021",
   "metadata": {},
   "outputs": [],
   "source": []
  }
 ],
 "metadata": {
  "kernelspec": {
   "display_name": "Python 3 (ipykernel)",
   "language": "python",
   "name": "python3"
  },
  "language_info": {
   "codemirror_mode": {
    "name": "ipython",
    "version": 3
   },
   "file_extension": ".py",
   "mimetype": "text/x-python",
   "name": "python",
   "nbconvert_exporter": "python",
   "pygments_lexer": "ipython3",
   "version": "3.9.10"
  }
 },
 "nbformat": 4,
 "nbformat_minor": 5
}
