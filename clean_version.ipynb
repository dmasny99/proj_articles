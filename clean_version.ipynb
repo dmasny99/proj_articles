{
 "cells": [
  {
   "cell_type": "code",
   "execution_count": 23,
   "id": "073f6eb2",
   "metadata": {},
   "outputs": [],
   "source": [
    "import numpy as np \n",
    "import pandas as pd \n",
    "from tqdm.notebook import tqdm\n",
    "import json\n",
    "from bertopic import BERTopic\n",
    "from umap import UMAP\n",
    "\n",
    "# custom scripts\n",
    "from text_preprocessing import text_preprocessing\n",
    "%matplotlib inline"
   ]
  },
  {
   "cell_type": "markdown",
   "id": "23383ad2",
   "metadata": {},
   "source": [
    "# Num of lines per json chunks:  \n",
    "* num of lines in test5.json is 1354309\n",
    "* num of lines in test4.json is 1000000\n",
    "* num of lines in test3.json is 1000000\n",
    "* num of lines in test1.json is 1000000\n",
    "* num of lines in test2.json is 1000000\n"
   ]
  },
  {
   "cell_type": "code",
   "execution_count": 2,
   "id": "b215cf55",
   "metadata": {},
   "outputs": [],
   "source": [
    "# path = 'data/articles_data/'\n",
    "# chunks = os.listdir(path)\n",
    "# all_keys = set()\n",
    "# count = 0\n",
    "# for elem in chunks:\n",
    "#     with open(path + elem, 'rb') as f:\n",
    "#         cnt = 0\n",
    "#         for _ in range(10**7):\n",
    "#             try:\n",
    "#                 all_keys.update(json.loads(next(f)))\n",
    "#                 cnt += 1\n",
    "#             except StopIteration:\n",
    "#                 print(f'num of lines in {elem} is {cnt}')\n",
    "#                 break\n",
    "# print(all_keys)"
   ]
  },
  {
   "cell_type": "markdown",
   "id": "c31b5be3",
   "metadata": {},
   "source": [
    "# Abstract preprocessing"
   ]
  },
  {
   "cell_type": "code",
   "execution_count": 3,
   "id": "c6880068",
   "metadata": {},
   "outputs": [],
   "source": [
    "# already saved proprocessed texts\n",
    "abstracts = np.load('all_data/preprocessed_abstracts_100k.npy', allow_pickle = True) # took only first 100k papers"
   ]
  },
  {
   "cell_type": "code",
   "execution_count": 4,
   "id": "06363373",
   "metadata": {
    "scrolled": true
   },
   "outputs": [],
   "source": [
    "# preproc in the same way\n",
    "# for idx, paper in enumerate(tqdm(abstracts)):\n",
    "#     abstracts[idx][1] = text_preprocessing(paper[1])"
   ]
  },
  {
   "cell_type": "code",
   "execution_count": 5,
   "id": "13693ce2",
   "metadata": {},
   "outputs": [
    {
     "data": {
      "application/vnd.jupyter.widget-view+json": {
       "model_id": "3734608ae7de4b1994e1b6728df3f8fb",
       "version_major": 2,
       "version_minor": 0
      },
      "text/plain": [
       "Batches:   0%|          | 0/3125 [00:00<?, ?it/s]"
      ]
     },
     "metadata": {},
     "output_type": "display_data"
    },
    {
     "name": "stderr",
     "output_type": "stream",
     "text": [
      "2022-11-08 18:43:19,825 - BERTopic - Transformed documents to Embeddings\n",
      "2022-11-08 18:45:04,120 - BERTopic - Reduced dimensionality\n"
     ]
    },
    {
     "name": "stdout",
     "output_type": "stream",
     "text": [
      "huggingface/tokenizers: The current process just got forked, after parallelism has already been used. Disabling parallelism to avoid deadlocks...\n",
      "To disable this warning, you can either:\n",
      "\t- Avoid using `tokenizers` before the fork if possible\n",
      "\t- Explicitly set the environment variable TOKENIZERS_PARALLELISM=(true | false)\n",
      "huggingface/tokenizers: The current process just got forked, after parallelism has already been used. Disabling parallelism to avoid deadlocks...\n",
      "To disable this warning, you can either:\n",
      "\t- Avoid using `tokenizers` before the fork if possible\n",
      "\t- Explicitly set the environment variable TOKENIZERS_PARALLELISM=(true | false)\n",
      "huggingface/tokenizers: The current process just got forked, after parallelism has already been used. Disabling parallelism to avoid deadlocks...\n",
      "To disable this warning, you can either:\n",
      "\t- Avoid using `tokenizers` before the fork if possible\n",
      "\t- Explicitly set the environment variable TOKENIZERS_PARALLELISM=(true | false)\n",
      "huggingface/tokenizers: The current process just got forked, after parallelism has already been used. Disabling parallelism to avoid deadlocks...\n",
      "To disable this warning, you can either:\n",
      "\t- Avoid using `tokenizers` before the fork if possible\n",
      "\t- Explicitly set the environment variable TOKENIZERS_PARALLELISM=(true | false)\n",
      "huggingface/tokenizers: The current process just got forked, after parallelism has already been used. Disabling parallelism to avoid deadlocks...\n",
      "To disable this warning, you can either:\n",
      "\t- Avoid using `tokenizers` before the fork if possible\n",
      "\t- Explicitly set the environment variable TOKENIZERS_PARALLELISM=(true | false)\n",
      "huggingface/tokenizers: The current process just got forked, after parallelism has already been used. Disabling parallelism to avoid deadlocks...\n",
      "To disable this warning, you can either:\n",
      "\t- Avoid using `tokenizers` before the fork if possible\n",
      "\t- Explicitly set the environment variable TOKENIZERS_PARALLELISM=(true | false)\n"
     ]
    },
    {
     "name": "stderr",
     "output_type": "stream",
     "text": [
      "2022-11-08 18:45:10,199 - BERTopic - Clustered reduced embeddings\n"
     ]
    }
   ],
   "source": [
    "# for reproducybility \n",
    "# https://maartengr.github.io/BERTopic/faq.html#why-are-the-results-not-consistent-between-runs\n",
    "umap_model = UMAP(n_neighbors = 15, \n",
    "                  n_components = 5, \n",
    "                  min_dist = 0.0,\n",
    "                  metric = 'cosine', \n",
    "                  random_state = 42)\n",
    "\n",
    "model = BERTopic(language = \"english\",\n",
    "                 umap_model = umap_model,\n",
    "                 verbose = True)\n",
    "topics, probs = model.fit_transform(abstracts[:, 1])\n",
    "topics_info = model.get_topic_info();"
   ]
  },
  {
   "cell_type": "code",
   "execution_count": 6,
   "id": "05d4951e",
   "metadata": {
    "scrolled": false
   },
   "outputs": [
    {
     "data": {
      "text/html": [
       "<div>\n",
       "<style scoped>\n",
       "    .dataframe tbody tr th:only-of-type {\n",
       "        vertical-align: middle;\n",
       "    }\n",
       "\n",
       "    .dataframe tbody tr th {\n",
       "        vertical-align: top;\n",
       "    }\n",
       "\n",
       "    .dataframe thead th {\n",
       "        text-align: right;\n",
       "    }\n",
       "</style>\n",
       "<table border=\"1\" class=\"dataframe\">\n",
       "  <thead>\n",
       "    <tr style=\"text-align: right;\">\n",
       "      <th></th>\n",
       "      <th>Topic</th>\n",
       "      <th>Count</th>\n",
       "      <th>Name</th>\n",
       "    </tr>\n",
       "  </thead>\n",
       "  <tbody>\n",
       "    <tr>\n",
       "      <th>0</th>\n",
       "      <td>-1</td>\n",
       "      <td>48845</td>\n",
       "      <td>-1_graph_problem_design_application</td>\n",
       "    </tr>\n",
       "    <tr>\n",
       "      <th>1</th>\n",
       "      <td>0</td>\n",
       "      <td>2512</td>\n",
       "      <td>0_protein_gene_genome_molecular</td>\n",
       "    </tr>\n",
       "    <tr>\n",
       "      <th>2</th>\n",
       "      <td>1</td>\n",
       "      <td>1116</td>\n",
       "      <td>1_student_course_learning_teacher</td>\n",
       "    </tr>\n",
       "    <tr>\n",
       "      <th>3</th>\n",
       "      <td>2</td>\n",
       "      <td>858</td>\n",
       "      <td>2_equation_numerical_boundary_wave</td>\n",
       "    </tr>\n",
       "    <tr>\n",
       "      <th>4</th>\n",
       "      <td>3</td>\n",
       "      <td>784</td>\n",
       "      <td>3_game_auction_player_equilibrium</td>\n",
       "    </tr>\n",
       "    <tr>\n",
       "      <th>...</th>\n",
       "      <td>...</td>\n",
       "      <td>...</td>\n",
       "      <td>...</td>\n",
       "    </tr>\n",
       "    <tr>\n",
       "      <th>819</th>\n",
       "      <td>818</td>\n",
       "      <td>10</td>\n",
       "      <td>818_supplier_selection_fanp_pfigp</td>\n",
       "    </tr>\n",
       "    <tr>\n",
       "      <th>820</th>\n",
       "      <td>819</td>\n",
       "      <td>10</td>\n",
       "      <td>819_sharing_repository_sciport_collaboration</td>\n",
       "    </tr>\n",
       "    <tr>\n",
       "      <th>821</th>\n",
       "      <td>820</td>\n",
       "      <td>10</td>\n",
       "      <td>820_dvb_deinterleaver_dmb_broadcasting</td>\n",
       "    </tr>\n",
       "    <tr>\n",
       "      <th>822</th>\n",
       "      <td>821</td>\n",
       "      <td>10</td>\n",
       "      <td>821_reliability_atr_gn_upperbound</td>\n",
       "    </tr>\n",
       "    <tr>\n",
       "      <th>823</th>\n",
       "      <td>822</td>\n",
       "      <td>10</td>\n",
       "      <td>822_rigid_rigidity_isostatic_generically</td>\n",
       "    </tr>\n",
       "  </tbody>\n",
       "</table>\n",
       "<p>824 rows × 3 columns</p>\n",
       "</div>"
      ],
      "text/plain": [
       "     Topic  Count                                          Name\n",
       "0       -1  48845           -1_graph_problem_design_application\n",
       "1        0   2512               0_protein_gene_genome_molecular\n",
       "2        1   1116             1_student_course_learning_teacher\n",
       "3        2    858            2_equation_numerical_boundary_wave\n",
       "4        3    784             3_game_auction_player_equilibrium\n",
       "..     ...    ...                                           ...\n",
       "819    818     10             818_supplier_selection_fanp_pfigp\n",
       "820    819     10  819_sharing_repository_sciport_collaboration\n",
       "821    820     10        820_dvb_deinterleaver_dmb_broadcasting\n",
       "822    821     10             821_reliability_atr_gn_upperbound\n",
       "823    822     10      822_rigid_rigidity_isostatic_generically\n",
       "\n",
       "[824 rows x 3 columns]"
      ]
     },
     "execution_count": 6,
     "metadata": {},
     "output_type": "execute_result"
    }
   ],
   "source": [
    "topics_info"
   ]
  },
  {
   "cell_type": "code",
   "execution_count": 7,
   "id": "42345bbc",
   "metadata": {},
   "outputs": [
    {
     "name": "stderr",
     "output_type": "stream",
     "text": [
      "/opt/conda/lib/python3.9/site-packages/scipy/sparse/_index.py:146: SparseEfficiencyWarning: Changing the sparsity structure of a csr_matrix is expensive. lil_matrix is more efficient.\n",
      "  self._set_arrayXarray(i, j, x)\n"
     ]
    }
   ],
   "source": [
    "model.save('bert_model_100k')"
   ]
  },
  {
   "cell_type": "markdown",
   "id": "984c034f",
   "metadata": {},
   "source": [
    "# Example of the model inference"
   ]
  },
  {
   "cell_type": "code",
   "execution_count": 12,
   "id": "3c00362f",
   "metadata": {},
   "outputs": [],
   "source": [
    "bert_model = BERTopic.load('bert_model_100k')"
   ]
  },
  {
   "cell_type": "code",
   "execution_count": 13,
   "id": "24fb6cc5",
   "metadata": {},
   "outputs": [
    {
     "data": {
      "text/html": [
       "<div>\n",
       "<style scoped>\n",
       "    .dataframe tbody tr th:only-of-type {\n",
       "        vertical-align: middle;\n",
       "    }\n",
       "\n",
       "    .dataframe tbody tr th {\n",
       "        vertical-align: top;\n",
       "    }\n",
       "\n",
       "    .dataframe thead th {\n",
       "        text-align: right;\n",
       "    }\n",
       "</style>\n",
       "<table border=\"1\" class=\"dataframe\">\n",
       "  <thead>\n",
       "    <tr style=\"text-align: right;\">\n",
       "      <th></th>\n",
       "      <th>Topic</th>\n",
       "      <th>Count</th>\n",
       "      <th>Name</th>\n",
       "    </tr>\n",
       "  </thead>\n",
       "  <tbody>\n",
       "    <tr>\n",
       "      <th>0</th>\n",
       "      <td>-1</td>\n",
       "      <td>48845</td>\n",
       "      <td>-1_graph_problem_design_application</td>\n",
       "    </tr>\n",
       "    <tr>\n",
       "      <th>1</th>\n",
       "      <td>0</td>\n",
       "      <td>2512</td>\n",
       "      <td>0_protein_gene_genome_molecular</td>\n",
       "    </tr>\n",
       "    <tr>\n",
       "      <th>2</th>\n",
       "      <td>1</td>\n",
       "      <td>1116</td>\n",
       "      <td>1_student_course_learning_teacher</td>\n",
       "    </tr>\n",
       "    <tr>\n",
       "      <th>3</th>\n",
       "      <td>2</td>\n",
       "      <td>858</td>\n",
       "      <td>2_equation_numerical_boundary_wave</td>\n",
       "    </tr>\n",
       "    <tr>\n",
       "      <th>4</th>\n",
       "      <td>3</td>\n",
       "      <td>784</td>\n",
       "      <td>3_game_auction_player_equilibrium</td>\n",
       "    </tr>\n",
       "    <tr>\n",
       "      <th>...</th>\n",
       "      <td>...</td>\n",
       "      <td>...</td>\n",
       "      <td>...</td>\n",
       "    </tr>\n",
       "    <tr>\n",
       "      <th>819</th>\n",
       "      <td>818</td>\n",
       "      <td>10</td>\n",
       "      <td>818_supplier_selection_fanp_pfigp</td>\n",
       "    </tr>\n",
       "    <tr>\n",
       "      <th>820</th>\n",
       "      <td>819</td>\n",
       "      <td>10</td>\n",
       "      <td>819_sharing_repository_sciport_collaboration</td>\n",
       "    </tr>\n",
       "    <tr>\n",
       "      <th>821</th>\n",
       "      <td>820</td>\n",
       "      <td>10</td>\n",
       "      <td>820_dvb_deinterleaver_dmb_broadcasting</td>\n",
       "    </tr>\n",
       "    <tr>\n",
       "      <th>822</th>\n",
       "      <td>821</td>\n",
       "      <td>10</td>\n",
       "      <td>821_reliability_atr_gn_upperbound</td>\n",
       "    </tr>\n",
       "    <tr>\n",
       "      <th>823</th>\n",
       "      <td>822</td>\n",
       "      <td>10</td>\n",
       "      <td>822_rigid_rigidity_isostatic_generically</td>\n",
       "    </tr>\n",
       "  </tbody>\n",
       "</table>\n",
       "<p>824 rows × 3 columns</p>\n",
       "</div>"
      ],
      "text/plain": [
       "     Topic  Count                                          Name\n",
       "0       -1  48845           -1_graph_problem_design_application\n",
       "1        0   2512               0_protein_gene_genome_molecular\n",
       "2        1   1116             1_student_course_learning_teacher\n",
       "3        2    858            2_equation_numerical_boundary_wave\n",
       "4        3    784             3_game_auction_player_equilibrium\n",
       "..     ...    ...                                           ...\n",
       "819    818     10             818_supplier_selection_fanp_pfigp\n",
       "820    819     10  819_sharing_repository_sciport_collaboration\n",
       "821    820     10        820_dvb_deinterleaver_dmb_broadcasting\n",
       "822    821     10             821_reliability_atr_gn_upperbound\n",
       "823    822     10      822_rigid_rigidity_isostatic_generically\n",
       "\n",
       "[824 rows x 3 columns]"
      ]
     },
     "execution_count": 13,
     "metadata": {},
     "output_type": "execute_result"
    }
   ],
   "source": [
    "bert_model.get_topic_info()"
   ]
  },
  {
   "cell_type": "code",
   "execution_count": 14,
   "id": "432ed862",
   "metadata": {},
   "outputs": [
    {
     "data": {
      "application/vnd.jupyter.widget-view+json": {
       "model_id": "b9d9e117cae14f5aa665775cba24985f",
       "version_major": 2,
       "version_minor": 0
      },
      "text/plain": [
       "0it [00:00, ?it/s]"
      ]
     },
     "metadata": {},
     "output_type": "display_data"
    },
    {
     "data": {
      "application/vnd.jupyter.widget-view+json": {
       "model_id": "cc4f5f72cd104a9282981c8982e31a9d",
       "version_major": 2,
       "version_minor": 0
      },
      "text/plain": [
       "Batches:   0%|          | 0/1 [00:00<?, ?it/s]"
      ]
     },
     "metadata": {},
     "output_type": "display_data"
    },
    {
     "name": "stderr",
     "output_type": "stream",
     "text": [
      "2022-11-08 18:47:51,073 - BERTopic - Reduced dimensionality\n",
      "2022-11-08 18:47:51,075 - BERTopic - Predicted clusters\n"
     ]
    },
    {
     "data": {
      "application/vnd.jupyter.widget-view+json": {
       "model_id": "5cc20009f49546fabc3fd84aceaa5012",
       "version_major": 2,
       "version_minor": 0
      },
      "text/plain": [
       "Batches:   0%|          | 0/1 [00:00<?, ?it/s]"
      ]
     },
     "metadata": {},
     "output_type": "display_data"
    },
    {
     "name": "stderr",
     "output_type": "stream",
     "text": [
      "2022-11-08 18:47:51,933 - BERTopic - Reduced dimensionality\n",
      "2022-11-08 18:47:51,942 - BERTopic - Predicted clusters\n"
     ]
    },
    {
     "data": {
      "application/vnd.jupyter.widget-view+json": {
       "model_id": "dac6b29feee44ea08a90590478d61abe",
       "version_major": 2,
       "version_minor": 0
      },
      "text/plain": [
       "Batches:   0%|          | 0/1 [00:00<?, ?it/s]"
      ]
     },
     "metadata": {},
     "output_type": "display_data"
    },
    {
     "name": "stderr",
     "output_type": "stream",
     "text": [
      "2022-11-08 18:47:52,766 - BERTopic - Reduced dimensionality\n",
      "2022-11-08 18:47:52,767 - BERTopic - Predicted clusters\n"
     ]
    },
    {
     "data": {
      "application/vnd.jupyter.widget-view+json": {
       "model_id": "a1da247fac684a53aef218d0546a9e9d",
       "version_major": 2,
       "version_minor": 0
      },
      "text/plain": [
       "Batches:   0%|          | 0/1 [00:00<?, ?it/s]"
      ]
     },
     "metadata": {},
     "output_type": "display_data"
    },
    {
     "name": "stderr",
     "output_type": "stream",
     "text": [
      "2022-11-08 18:47:53,487 - BERTopic - Reduced dimensionality\n",
      "2022-11-08 18:47:53,488 - BERTopic - Predicted clusters\n"
     ]
    },
    {
     "data": {
      "application/vnd.jupyter.widget-view+json": {
       "model_id": "827ca9b6478b4efe80ceb3d87d506677",
       "version_major": 2,
       "version_minor": 0
      },
      "text/plain": [
       "Batches:   0%|          | 0/1 [00:00<?, ?it/s]"
      ]
     },
     "metadata": {},
     "output_type": "display_data"
    },
    {
     "name": "stderr",
     "output_type": "stream",
     "text": [
      "2022-11-08 18:47:54,232 - BERTopic - Reduced dimensionality\n",
      "2022-11-08 18:47:54,234 - BERTopic - Predicted clusters\n"
     ]
    },
    {
     "data": {
      "application/vnd.jupyter.widget-view+json": {
       "model_id": "7675214d37be411f85e1d9ba2270d490",
       "version_major": 2,
       "version_minor": 0
      },
      "text/plain": [
       "Batches:   0%|          | 0/1 [00:00<?, ?it/s]"
      ]
     },
     "metadata": {},
     "output_type": "display_data"
    },
    {
     "name": "stderr",
     "output_type": "stream",
     "text": [
      "2022-11-08 18:47:55,271 - BERTopic - Reduced dimensionality\n",
      "2022-11-08 18:47:55,272 - BERTopic - Predicted clusters\n"
     ]
    },
    {
     "data": {
      "application/vnd.jupyter.widget-view+json": {
       "model_id": "bda5f032f6c04e6ab8cbd685ac216da1",
       "version_major": 2,
       "version_minor": 0
      },
      "text/plain": [
       "Batches:   0%|          | 0/1 [00:00<?, ?it/s]"
      ]
     },
     "metadata": {},
     "output_type": "display_data"
    },
    {
     "name": "stderr",
     "output_type": "stream",
     "text": [
      "2022-11-08 18:47:56,044 - BERTopic - Reduced dimensionality\n",
      "2022-11-08 18:47:56,046 - BERTopic - Predicted clusters\n"
     ]
    },
    {
     "data": {
      "application/vnd.jupyter.widget-view+json": {
       "model_id": "a02789a0175e4bb5b4c3bbaa86d533b7",
       "version_major": 2,
       "version_minor": 0
      },
      "text/plain": [
       "Batches:   0%|          | 0/1 [00:00<?, ?it/s]"
      ]
     },
     "metadata": {},
     "output_type": "display_data"
    },
    {
     "name": "stderr",
     "output_type": "stream",
     "text": [
      "2022-11-08 18:47:56,906 - BERTopic - Reduced dimensionality\n",
      "2022-11-08 18:47:56,908 - BERTopic - Predicted clusters\n"
     ]
    },
    {
     "data": {
      "application/vnd.jupyter.widget-view+json": {
       "model_id": "c6629ee557114f12affb23aae69b6db6",
       "version_major": 2,
       "version_minor": 0
      },
      "text/plain": [
       "Batches:   0%|          | 0/1 [00:00<?, ?it/s]"
      ]
     },
     "metadata": {},
     "output_type": "display_data"
    },
    {
     "name": "stderr",
     "output_type": "stream",
     "text": [
      "2022-11-08 18:47:57,585 - BERTopic - Reduced dimensionality\n",
      "2022-11-08 18:47:57,586 - BERTopic - Predicted clusters\n"
     ]
    },
    {
     "data": {
      "application/vnd.jupyter.widget-view+json": {
       "model_id": "4a0bd0b96f0e4d91b98c1c64c0edeea0",
       "version_major": 2,
       "version_minor": 0
      },
      "text/plain": [
       "Batches:   0%|          | 0/1 [00:00<?, ?it/s]"
      ]
     },
     "metadata": {},
     "output_type": "display_data"
    },
    {
     "name": "stderr",
     "output_type": "stream",
     "text": [
      "2022-11-08 18:47:58,309 - BERTopic - Reduced dimensionality\n",
      "2022-11-08 18:47:58,311 - BERTopic - Predicted clusters\n"
     ]
    },
    {
     "data": {
      "application/vnd.jupyter.widget-view+json": {
       "model_id": "0ba40cfb17854d12b4d55155c69587a5",
       "version_major": 2,
       "version_minor": 0
      },
      "text/plain": [
       "Batches:   0%|          | 0/1 [00:00<?, ?it/s]"
      ]
     },
     "metadata": {},
     "output_type": "display_data"
    },
    {
     "name": "stderr",
     "output_type": "stream",
     "text": [
      "2022-11-08 18:47:59,331 - BERTopic - Reduced dimensionality\n",
      "2022-11-08 18:47:59,333 - BERTopic - Predicted clusters\n"
     ]
    },
    {
     "data": {
      "application/vnd.jupyter.widget-view+json": {
       "model_id": "c50489818e2e49d3b767b1f5e1e278fa",
       "version_major": 2,
       "version_minor": 0
      },
      "text/plain": [
       "Batches:   0%|          | 0/1 [00:00<?, ?it/s]"
      ]
     },
     "metadata": {},
     "output_type": "display_data"
    },
    {
     "name": "stderr",
     "output_type": "stream",
     "text": [
      "2022-11-08 18:48:00,024 - BERTopic - Reduced dimensionality\n",
      "2022-11-08 18:48:00,026 - BERTopic - Predicted clusters\n"
     ]
    },
    {
     "data": {
      "application/vnd.jupyter.widget-view+json": {
       "model_id": "d470211deea94fcf8545be753c963415",
       "version_major": 2,
       "version_minor": 0
      },
      "text/plain": [
       "Batches:   0%|          | 0/1 [00:00<?, ?it/s]"
      ]
     },
     "metadata": {},
     "output_type": "display_data"
    },
    {
     "name": "stderr",
     "output_type": "stream",
     "text": [
      "2022-11-08 18:48:00,723 - BERTopic - Reduced dimensionality\n",
      "2022-11-08 18:48:00,724 - BERTopic - Predicted clusters\n"
     ]
    },
    {
     "data": {
      "application/vnd.jupyter.widget-view+json": {
       "model_id": "4cea1e0457ec408daa1e6d7a812e1eac",
       "version_major": 2,
       "version_minor": 0
      },
      "text/plain": [
       "Batches:   0%|          | 0/1 [00:00<?, ?it/s]"
      ]
     },
     "metadata": {},
     "output_type": "display_data"
    },
    {
     "name": "stderr",
     "output_type": "stream",
     "text": [
      "2022-11-08 18:48:01,486 - BERTopic - Reduced dimensionality\n",
      "2022-11-08 18:48:01,488 - BERTopic - Predicted clusters\n"
     ]
    },
    {
     "data": {
      "application/vnd.jupyter.widget-view+json": {
       "model_id": "3a3dafb26e144d94b04cd1b32c404f2b",
       "version_major": 2,
       "version_minor": 0
      },
      "text/plain": [
       "Batches:   0%|          | 0/1 [00:00<?, ?it/s]"
      ]
     },
     "metadata": {},
     "output_type": "display_data"
    },
    {
     "name": "stderr",
     "output_type": "stream",
     "text": [
      "2022-11-08 18:48:02,196 - BERTopic - Reduced dimensionality\n",
      "2022-11-08 18:48:02,198 - BERTopic - Predicted clusters\n"
     ]
    },
    {
     "data": {
      "application/vnd.jupyter.widget-view+json": {
       "model_id": "0d81dffe5c98438caea4348268052a11",
       "version_major": 2,
       "version_minor": 0
      },
      "text/plain": [
       "Batches:   0%|          | 0/1 [00:00<?, ?it/s]"
      ]
     },
     "metadata": {},
     "output_type": "display_data"
    },
    {
     "name": "stderr",
     "output_type": "stream",
     "text": [
      "2022-11-08 18:48:02,924 - BERTopic - Reduced dimensionality\n",
      "2022-11-08 18:48:02,926 - BERTopic - Predicted clusters\n"
     ]
    },
    {
     "data": {
      "application/vnd.jupyter.widget-view+json": {
       "model_id": "2e13bc5c65944ee4a0870151b73cc42c",
       "version_major": 2,
       "version_minor": 0
      },
      "text/plain": [
       "Batches:   0%|          | 0/1 [00:00<?, ?it/s]"
      ]
     },
     "metadata": {},
     "output_type": "display_data"
    },
    {
     "name": "stderr",
     "output_type": "stream",
     "text": [
      "2022-11-08 18:48:03,895 - BERTopic - Reduced dimensionality\n",
      "2022-11-08 18:48:03,897 - BERTopic - Predicted clusters\n"
     ]
    },
    {
     "data": {
      "application/vnd.jupyter.widget-view+json": {
       "model_id": "8d6672110cd04fc88ad611bb242368fe",
       "version_major": 2,
       "version_minor": 0
      },
      "text/plain": [
       "Batches:   0%|          | 0/1 [00:00<?, ?it/s]"
      ]
     },
     "metadata": {},
     "output_type": "display_data"
    },
    {
     "name": "stderr",
     "output_type": "stream",
     "text": [
      "2022-11-08 18:48:04,580 - BERTopic - Reduced dimensionality\n",
      "2022-11-08 18:48:04,582 - BERTopic - Predicted clusters\n"
     ]
    },
    {
     "data": {
      "application/vnd.jupyter.widget-view+json": {
       "model_id": "5caf22c527774e95b1934622aab85c75",
       "version_major": 2,
       "version_minor": 0
      },
      "text/plain": [
       "Batches:   0%|          | 0/1 [00:00<?, ?it/s]"
      ]
     },
     "metadata": {},
     "output_type": "display_data"
    },
    {
     "name": "stderr",
     "output_type": "stream",
     "text": [
      "2022-11-08 18:48:05,236 - BERTopic - Reduced dimensionality\n",
      "2022-11-08 18:48:05,238 - BERTopic - Predicted clusters\n"
     ]
    },
    {
     "data": {
      "application/vnd.jupyter.widget-view+json": {
       "model_id": "0c9bf356f35a4205ae92342db72aa739",
       "version_major": 2,
       "version_minor": 0
      },
      "text/plain": [
       "Batches:   0%|          | 0/1 [00:00<?, ?it/s]"
      ]
     },
     "metadata": {},
     "output_type": "display_data"
    },
    {
     "name": "stderr",
     "output_type": "stream",
     "text": [
      "2022-11-08 18:48:05,949 - BERTopic - Reduced dimensionality\n",
      "2022-11-08 18:48:05,950 - BERTopic - Predicted clusters\n"
     ]
    },
    {
     "name": "stdout",
     "output_type": "stream",
     "text": [
      "53e9b06fb7602d9703ad307e  :  -1_graph_problem_design_application\n",
      "53e9b06fb7602d9703ad3097  :  -1_graph_problem_design_application\n",
      "53e9b06fb7602d9703ad30c6  :  143_ecg_fetal_heart_qrs\n",
      "53e9b06fb7602d9703ad30dc  :  -1_graph_problem_design_application\n",
      "53e9b06fb7602d9703ad3112  :  -1_graph_problem_design_application\n",
      "53e9b06fb7602d9703ad3125  :  -1_graph_problem_design_application\n",
      "53e9b06fb7602d9703ad3155  :  -1_graph_problem_design_application\n",
      "53e9b06fb7602d9703ad31ac  :  -1_graph_problem_design_application\n",
      "53e9b06fb7602d9703ad31b7  :  604_option_price_american_martingale\n",
      "53e9b06fb7602d9703ad31e4  :  74_painting_sketch_stroke_paint\n",
      "53e9b06fb7602d9703ad31f5  :  -1_graph_problem_design_application\n",
      "53e9b06fb7602d9703ad320f  :  143_ecg_fetal_heart_qrs\n",
      "53e9b06fb7602d9703ad322c  :  19_grid_resource_job_scheduling\n",
      "53e9b06fb7602d9703ad326a  :  46_testing_test_suite_coverage\n",
      "53e9b06fb7602d9703ad326f  :  -1_graph_problem_design_application\n",
      "53e9b06fb7602d9703ad3280  :  -1_graph_problem_design_application\n",
      "53e9b06fb7602d9703ad3287  :  483_plagiarism_authorship_attribution_author\n",
      "53e9b06fb7602d9703ad32bd  :  -1_graph_problem_design_application\n",
      "53e9b06fb7602d9703ad32e6  :  -1_graph_problem_design_application\n",
      "53e9b06fb7602d9703ad32ff  :  95_code_cyclic_dual_binary\n"
     ]
    }
   ],
   "source": [
    "# upload raw abstracts\n",
    "test_data = np.load('all_data/abstracts.npy', allow_pickle = True)[10**6 : 10**6 + 20]\n",
    "# preprocess and score on the go\n",
    "preds = {}\n",
    "for idx, paper in tqdm(enumerate(test_data)):\n",
    "    preprocesed_abstract = text_preprocessing(paper[1])\n",
    "    topics, prob = bert_model.transform(preprocesed_abstract)\n",
    "    preds[paper[0]] = topics_info[topics_info['Topic'] == topics[0]]['Name'].iloc[0]\n",
    "    \n",
    "for key, value in preds.items():\n",
    "    print(key, ' : ', value)"
   ]
  },
  {
   "cell_type": "markdown",
   "id": "ba893a0d",
   "metadata": {},
   "source": [
    "P.S. The first number in topics defines the class, so you can take it from there."
   ]
  },
  {
   "cell_type": "markdown",
   "id": "43677a88",
   "metadata": {},
   "source": [
    "# Save scored ids and their labels"
   ]
  },
  {
   "cell_type": "code",
   "execution_count": 94,
   "id": "5d6a44a0",
   "metadata": {},
   "outputs": [],
   "source": [
    "topics_dict = dict(zip(bert_model.get_topic_info()['Topic'], bert_model.get_topic_info()['Name']))\n",
    "result = []\n",
    "for idx, elem in enumerate(bert_model.topics_):\n",
    "    result.append([abstracts[idx][0], topics_dict[elem]])\n",
    "result = np.array(result)\n",
    "np.save('all_data/scored_data_100k.npy', result)"
   ]
  },
  {
   "cell_type": "markdown",
   "id": "f7aa59ff",
   "metadata": {},
   "source": [
    "# Finally save valid papers' ids"
   ]
  },
  {
   "cell_type": "code",
   "execution_count": 47,
   "id": "35d744f6",
   "metadata": {},
   "outputs": [],
   "source": [
    "abst = np.load('all_data/abstracts.npy', allow_pickle = True)\n",
    "scored_abst = np.load('all_data/preprocessed_abstracts_100k.npy', allow_pickle = True)"
   ]
  },
  {
   "cell_type": "code",
   "execution_count": 48,
   "id": "28bc4204",
   "metadata": {},
   "outputs": [],
   "source": [
    "valid_id = abst[:, 0].tolist()\n",
    "\n",
    "with open('all_data/valid_id.json', 'w') as f:\n",
    "    f.write(json.dumps({'id': valid_id}))\n",
    "    \n",
    "data = {}\n",
    "with open('all_data/valid_id.json', 'rb') as f:\n",
    "    data = json.loads(next(f))"
   ]
  },
  {
   "cell_type": "code",
   "execution_count": 49,
   "id": "5b69d543",
   "metadata": {},
   "outputs": [
    {
     "data": {
      "text/plain": [
       "3010729"
      ]
     },
     "execution_count": 49,
     "metadata": {},
     "output_type": "execute_result"
    }
   ],
   "source": [
    "len(data['id'])"
   ]
  },
  {
   "cell_type": "code",
   "execution_count": 50,
   "id": "0708869e",
   "metadata": {},
   "outputs": [],
   "source": [
    "scores_id = scored_abst[:, 0].tolist()\n",
    "\n",
    "with open('all_data/scored_id.json', 'w') as f:\n",
    "    f.write(json.dumps({'id': scores_id}))\n",
    "    \n",
    "scored_data = {}\n",
    "with open('all_data/scored_id.json', 'rb') as f:\n",
    "    scored_data = json.loads(next(f))"
   ]
  },
  {
   "cell_type": "code",
   "execution_count": 51,
   "id": "14de0fd7",
   "metadata": {
    "scrolled": true
   },
   "outputs": [
    {
     "data": {
      "text/plain": [
       "100000"
      ]
     },
     "execution_count": 51,
     "metadata": {},
     "output_type": "execute_result"
    }
   ],
   "source": [
    "len(scored_data['id'])"
   ]
  },
  {
   "cell_type": "code",
   "execution_count": null,
   "id": "c6c6bf18",
   "metadata": {},
   "outputs": [],
   "source": []
  }
 ],
 "metadata": {
  "kernelspec": {
   "display_name": "Python 3 (ipykernel)",
   "language": "python",
   "name": "python3"
  },
  "language_info": {
   "codemirror_mode": {
    "name": "ipython",
    "version": 3
   },
   "file_extension": ".py",
   "mimetype": "text/x-python",
   "name": "python",
   "nbconvert_exporter": "python",
   "pygments_lexer": "ipython3",
   "version": "3.9.10"
  }
 },
 "nbformat": 4,
 "nbformat_minor": 5
}
