{
 "cells": [
  {
   "cell_type": "code",
   "execution_count": 1,
   "id": "7e0b42af",
   "metadata": {
    "_cell_guid": "b1076dfc-b9ad-4769-8c92-a6c4dae69d19",
    "_uuid": "8f2839f25d086af736a60e9eeb907d3b93b6e0e5",
    "execution": {
     "iopub.execute_input": "2022-10-01T03:52:30.239840Z",
     "iopub.status.busy": "2022-10-01T03:52:30.239125Z",
     "iopub.status.idle": "2022-10-01T03:52:33.093913Z",
     "shell.execute_reply": "2022-10-01T03:52:33.092852Z"
    },
    "papermill": {
     "duration": 2.877144,
     "end_time": "2022-10-01T03:52:33.097133",
     "exception": false,
     "start_time": "2022-10-01T03:52:30.219989",
     "status": "completed"
    },
    "tags": []
   },
   "outputs": [],
   "source": [
    "import numpy as np # linear algebra\n",
    "import pandas as pd # data processing, CSV file I/O (e.g. pd.read_csv)\n",
    "from matplotlib import pyplot as plt\n",
    "from collections import defaultdict, Counter\n",
    "import seaborn as sns\n",
    "import plotly.express as px\n",
    "import missingno as msno\n",
    "from wordcloud import WordCloud, STOPWORDS\n",
    "import matplotlib.pyplot as plt\n",
    "from tqdm.notebook import tqdm\n",
    "\n",
    "import os\n",
    "for dirname, _, filenames in os.walk('/kaggle/input'):\n",
    "    for filename in filenames:\n",
    "        print(os.path.join(dirname, filename))"
   ]
  },
  {
   "cell_type": "code",
   "execution_count": 2,
   "id": "917312b7",
   "metadata": {
    "execution": {
     "iopub.execute_input": "2022-10-01T03:53:03.430921Z",
     "iopub.status.busy": "2022-10-01T03:53:03.430575Z",
     "iopub.status.idle": "2022-10-01T03:53:03.564549Z",
     "shell.execute_reply": "2022-10-01T03:53:03.563560Z"
    },
    "papermill": {
     "duration": 0.154599,
     "end_time": "2022-10-01T03:53:03.567093",
     "exception": false,
     "start_time": "2022-10-01T03:53:03.412494",
     "status": "completed"
    },
    "tags": []
   },
   "outputs": [
    {
     "ename": "ModuleNotFoundError",
     "evalue": "No module named 'cairo'",
     "output_type": "error",
     "traceback": [
      "\u001b[0;31m---------------------------------------------------------------------------\u001b[0m",
      "\u001b[0;31mModuleNotFoundError\u001b[0m                       Traceback (most recent call last)",
      "Input \u001b[0;32mIn [2]\u001b[0m, in \u001b[0;36m<cell line: 6>\u001b[0;34m()\u001b[0m\n\u001b[1;32m      4\u001b[0m \u001b[38;5;28;01mfrom\u001b[39;00m \u001b[38;5;21;01migraph\u001b[39;00m \u001b[38;5;28;01mimport\u001b[39;00m \u001b[38;5;241m*\u001b[39m\n\u001b[1;32m      5\u001b[0m \u001b[38;5;28;01mimport\u001b[39;00m \u001b[38;5;21;01migraph\u001b[39;00m \u001b[38;5;28;01mas\u001b[39;00m \u001b[38;5;21;01mig\u001b[39;00m\n\u001b[0;32m----> 6\u001b[0m \u001b[38;5;28;01mfrom\u001b[39;00m \u001b[38;5;21;01mcairo\u001b[39;00m \u001b[38;5;28;01mimport\u001b[39;00m \u001b[38;5;241m*\u001b[39m\n\u001b[1;32m      7\u001b[0m \u001b[38;5;28;01mimport\u001b[39;00m \u001b[38;5;21;01mmath\u001b[39;00m\n\u001b[1;32m      8\u001b[0m \u001b[38;5;28;01mimport\u001b[39;00m \u001b[38;5;21;01mmatplotlib\u001b[39;00m\u001b[38;5;21;01m.\u001b[39;00m\u001b[38;5;21;01mpyplot\u001b[39;00m \u001b[38;5;28;01mas\u001b[39;00m \u001b[38;5;21;01mplt\u001b[39;00m\n",
      "\u001b[0;31mModuleNotFoundError\u001b[0m: No module named 'cairo'"
     ]
    }
   ],
   "source": [
    "# import bigjson\n",
    "import json\n",
    "from collections import defaultdict\n",
    "from igraph import *\n",
    "import igraph as ig\n",
    "from cairo import *\n",
    "import math\n",
    "import matplotlib.pyplot as plt"
   ]
  },
  {
   "cell_type": "code",
   "execution_count": 3,
   "id": "6c565220",
   "metadata": {},
   "outputs": [
    {
     "name": "stdout",
     "output_type": "stream",
     "text": [
      "\u001b[31mERROR: Could not find a version that satisfies the requirement cairo (from versions: none)\u001b[0m\u001b[31m\r\n",
      "\u001b[0m\u001b[31mERROR: No matching distribution found for cairo\u001b[0m\u001b[31m\r\n",
      "\u001b[0m"
     ]
    }
   ],
   "source": [
    "!pip install cairo"
   ]
  },
  {
   "cell_type": "code",
   "execution_count": 5,
   "id": "1a0f4e72",
   "metadata": {
    "execution": {
     "iopub.execute_input": "2022-10-01T03:53:03.603339Z",
     "iopub.status.busy": "2022-10-01T03:53:03.602406Z",
     "iopub.status.idle": "2022-10-01T03:53:07.756004Z",
     "shell.execute_reply": "2022-10-01T03:53:07.754604Z"
    },
    "papermill": {
     "duration": 4.173858,
     "end_time": "2022-10-01T03:53:07.758413",
     "exception": false,
     "start_time": "2022-10-01T03:53:03.584555",
     "status": "completed"
    },
    "tags": []
   },
   "outputs": [
    {
     "name": "stdout",
     "output_type": "stream",
     "text": [
      "['_id', 'abstract', 'authors', 'doi', 'fos', 'isbn', 'issn', 'issue', 'keywords', 'lang', 'n_citation', 'page_end', 'page_start', 'pdf', 'references', 'title', 'url', 'venue', 'volume', 'year']\n"
     ]
    }
   ],
   "source": [
    "all_keys = set()\n",
    "count = 0\n",
    "with open('/kaggle/input/cndbv13/test1.json', 'rb') as fin:\n",
    "    for _ in range(100000):\n",
    "        count += 1\n",
    "        all_keys.update(json.loads(next(fin)))\n",
    "print(sorted(all_keys))"
   ]
  },
  {
   "cell_type": "code",
   "execution_count": 6,
   "id": "b6cff406",
   "metadata": {
    "execution": {
     "iopub.execute_input": "2022-10-01T03:53:07.793584Z",
     "iopub.status.busy": "2022-10-01T03:53:07.793094Z",
     "iopub.status.idle": "2022-10-01T03:53:14.055693Z",
     "shell.execute_reply": "2022-10-01T03:53:14.054639Z"
    },
    "papermill": {
     "duration": 6.283213,
     "end_time": "2022-10-01T03:53:14.058765",
     "exception": false,
     "start_time": "2022-10-01T03:53:07.775552",
     "status": "completed"
    },
    "tags": []
   },
   "outputs": [],
   "source": [
    "references_dict = defaultdict(list)\n",
    "\n",
    "for path in [\n",
    "    '/kaggle/input/cndbv13/test1.json',\n",
    "    '/kaggle/input/cndbv13/test2.json',\n",
    "    '/kaggle/input/cndbv13/test3.json',\n",
    "    '/kaggle/input/cndbv13/test4.json',\n",
    "    '/kaggle/input/cndbv13/test5.json'\n",
    "]:\n",
    "    with open(path, 'rb') as fin:\n",
    "        cur_num = 0\n",
    "        max_num = 10000\n",
    "        line = next(fin)\n",
    "        \n",
    "        try:\n",
    "            while line:\n",
    "                cur_num += 1\n",
    "                if cur_num == max_num:\n",
    "                    break\n",
    "\n",
    "                element = json.loads(line)\n",
    "                line = next(fin)\n",
    "\n",
    "                for reference in element.get('references', [np.nan]):\n",
    "                    for key in ['_id', 'abstract', 'doi', 'fos', 'isbn', 'issn', 'issue', \n",
    "                                'keywords', 'lang', 'n_citation', 'page_end', 'page_start', 'pdf', \n",
    "                                'references', 'title','volume', 'year']:\n",
    "                        references_dict[key].append(element.get(key, np.nan))\n",
    "\n",
    "                    references_dict['url'].append(', '.join(element.get('url', [])))\n",
    "\n",
    "                    authors = element.get('authors')\n",
    "                    if authors is not None:\n",
    "                        author_ids = '; '.join([x.get('_id', '') for x in authors if x is not None])\n",
    "                        author_names = '; '.join([x.get('name', '') for x in authors if x is not None])\n",
    "                    else:\n",
    "                        author_ids = np.nan\n",
    "                        author_names = np.nan\n",
    "                    references_dict['author_ids'].append(author_ids)\n",
    "                    references_dict['author_names'].append(author_names)\n",
    "\n",
    "                    venue = element.get('venue')\n",
    "                    if venue is not None:\n",
    "                        venue_id = element['venue'].get('_id', np.nan)\n",
    "                        venue_name = element['venue'].get('raw', np.nan)\n",
    "                    else:\n",
    "                        venue_id = np.nan\n",
    "                        venue_name = np.nan\n",
    "                    references_dict['venue_id'].append(venue_id)\n",
    "                    references_dict['venue_name'].append(venue_name)\n",
    "        \n",
    "        except StopIteration as ex:\n",
    "            pass\n",
    "\n",
    "references_dict['id'] = references_dict.pop('_id')"
   ]
  },
  {
   "cell_type": "code",
   "execution_count": 7,
   "id": "4629d3dd",
   "metadata": {
    "execution": {
     "iopub.execute_input": "2022-10-01T03:53:14.111576Z",
     "iopub.status.busy": "2022-10-01T03:53:14.111038Z",
     "iopub.status.idle": "2022-10-01T03:53:15.371864Z",
     "shell.execute_reply": "2022-10-01T03:53:15.370825Z"
    },
    "papermill": {
     "duration": 1.289493,
     "end_time": "2022-10-01T03:53:15.374274",
     "exception": false,
     "start_time": "2022-10-01T03:53:14.084781",
     "status": "completed"
    },
    "tags": []
   },
   "outputs": [
    {
     "data": {
      "text/html": [
       "<div>\n",
       "<style scoped>\n",
       "    .dataframe tbody tr th:only-of-type {\n",
       "        vertical-align: middle;\n",
       "    }\n",
       "\n",
       "    .dataframe tbody tr th {\n",
       "        vertical-align: top;\n",
       "    }\n",
       "\n",
       "    .dataframe thead th {\n",
       "        text-align: right;\n",
       "    }\n",
       "</style>\n",
       "<table border=\"1\" class=\"dataframe\">\n",
       "  <thead>\n",
       "    <tr style=\"text-align: right;\">\n",
       "      <th></th>\n",
       "      <th>abstract</th>\n",
       "      <th>doi</th>\n",
       "      <th>fos</th>\n",
       "      <th>isbn</th>\n",
       "      <th>issn</th>\n",
       "      <th>issue</th>\n",
       "      <th>keywords</th>\n",
       "      <th>lang</th>\n",
       "      <th>n_citation</th>\n",
       "      <th>page_end</th>\n",
       "      <th>...</th>\n",
       "      <th>references</th>\n",
       "      <th>title</th>\n",
       "      <th>volume</th>\n",
       "      <th>year</th>\n",
       "      <th>url</th>\n",
       "      <th>author_ids</th>\n",
       "      <th>author_names</th>\n",
       "      <th>venue_id</th>\n",
       "      <th>venue_name</th>\n",
       "      <th>id</th>\n",
       "    </tr>\n",
       "  </thead>\n",
       "  <tbody>\n",
       "    <tr>\n",
       "      <th>0</th>\n",
       "      <td>NaN</td>\n",
       "      <td>10.1145/1135777.1135863</td>\n",
       "      <td>NaN</td>\n",
       "      <td></td>\n",
       "      <td></td>\n",
       "      <td></td>\n",
       "      <td>NaN</td>\n",
       "      <td>en</td>\n",
       "      <td>647.0</td>\n",
       "      <td>594</td>\n",
       "      <td>...</td>\n",
       "      <td>NaN</td>\n",
       "      <td>Semantic Wikipedia.</td>\n",
       "      <td></td>\n",
       "      <td>2006.0</td>\n",
       "      <td>http://doi.acm.org/10.1145/1135777.1135863, db...</td>\n",
       "      <td>53f47915dabfaefedbbb728f; 53f44a27dabfaedf435d...</td>\n",
       "      <td>Max Völkel; Markus Krötzsch; Denny Vrandecic; ...</td>\n",
       "      <td>53a7257a20f7420be8b50425</td>\n",
       "      <td>WWW</td>\n",
       "      <td>53a7258520f7420be8b514a9</td>\n",
       "    </tr>\n",
       "    <tr>\n",
       "      <th>1</th>\n",
       "      <td>NaN</td>\n",
       "      <td>NaN</td>\n",
       "      <td>NaN</td>\n",
       "      <td>NaN</td>\n",
       "      <td>NaN</td>\n",
       "      <td>NaN</td>\n",
       "      <td>NaN</td>\n",
       "      <td>NaN</td>\n",
       "      <td>NaN</td>\n",
       "      <td>NaN</td>\n",
       "      <td>...</td>\n",
       "      <td>NaN</td>\n",
       "      <td>Deductive Algorithmic Knowledge.</td>\n",
       "      <td>NaN</td>\n",
       "      <td>2004.0</td>\n",
       "      <td>http://rutcor.rutgers.edu/~amai/aimath04/Accep...</td>\n",
       "      <td></td>\n",
       "      <td>Riccardo Pucella</td>\n",
       "      <td>53a725d920f7420be8b5b577</td>\n",
       "      <td>AMAI</td>\n",
       "      <td>53a725db20f7420be8b5bfc6</td>\n",
       "    </tr>\n",
       "    <tr>\n",
       "      <th>2</th>\n",
       "      <td>NaN</td>\n",
       "      <td>NaN</td>\n",
       "      <td>NaN</td>\n",
       "      <td>NaN</td>\n",
       "      <td>NaN</td>\n",
       "      <td>NaN</td>\n",
       "      <td>NaN</td>\n",
       "      <td>NaN</td>\n",
       "      <td>NaN</td>\n",
       "      <td>NaN</td>\n",
       "      <td>...</td>\n",
       "      <td>NaN</td>\n",
       "      <td>Improving Exact Algorithms for MAX-2-SAT.</td>\n",
       "      <td>NaN</td>\n",
       "      <td>2004.0</td>\n",
       "      <td>http://rutcor.rutgers.edu/~amai/aimath04/Accep...</td>\n",
       "      <td>53f4469bdabfaedd74def186; 54054904dabfae450f3a...</td>\n",
       "      <td>Haiou Shen; Hantao Zhang</td>\n",
       "      <td>53a725d920f7420be8b5b577</td>\n",
       "      <td>AMAI</td>\n",
       "      <td>53a725db20f7420be8b5bff3</td>\n",
       "    </tr>\n",
       "    <tr>\n",
       "      <th>3</th>\n",
       "      <td>NaN</td>\n",
       "      <td>NaN</td>\n",
       "      <td>NaN</td>\n",
       "      <td>NaN</td>\n",
       "      <td>NaN</td>\n",
       "      <td>NaN</td>\n",
       "      <td>NaN</td>\n",
       "      <td>NaN</td>\n",
       "      <td>NaN</td>\n",
       "      <td>NaN</td>\n",
       "      <td>...</td>\n",
       "      <td>NaN</td>\n",
       "      <td>Learning via Finitely Many Queries.</td>\n",
       "      <td>NaN</td>\n",
       "      <td>2004.0</td>\n",
       "      <td>http://rutcor.rutgers.edu/~amai/aimath04/Accep...</td>\n",
       "      <td></td>\n",
       "      <td>Andrew C. Lee</td>\n",
       "      <td>53a725d920f7420be8b5b577</td>\n",
       "      <td>AMAI</td>\n",
       "      <td>53a725db20f7420be8b5bffb</td>\n",
       "    </tr>\n",
       "    <tr>\n",
       "      <th>4</th>\n",
       "      <td>NaN</td>\n",
       "      <td>NaN</td>\n",
       "      <td>NaN</td>\n",
       "      <td>NaN</td>\n",
       "      <td>NaN</td>\n",
       "      <td>NaN</td>\n",
       "      <td>NaN</td>\n",
       "      <td>NaN</td>\n",
       "      <td>NaN</td>\n",
       "      <td>NaN</td>\n",
       "      <td>...</td>\n",
       "      <td>NaN</td>\n",
       "      <td>A Framework for Sequential Planning in Multi-A...</td>\n",
       "      <td>NaN</td>\n",
       "      <td>2004.0</td>\n",
       "      <td>http://rutcor.rutgers.edu/~amai/aimath04/Accep...</td>\n",
       "      <td>; 5406cb05dabfae44f085c48f</td>\n",
       "      <td>Piotr J. Gmytrasiewicz; Prashant Doshi</td>\n",
       "      <td>53a725d920f7420be8b5b577</td>\n",
       "      <td>AMAI</td>\n",
       "      <td>53a725db20f7420be8b5c00f</td>\n",
       "    </tr>\n",
       "  </tbody>\n",
       "</table>\n",
       "<p>5 rows × 22 columns</p>\n",
       "</div>"
      ],
      "text/plain": [
       "  abstract                      doi  fos isbn issn issue keywords lang  \\\n",
       "0      NaN  10.1145/1135777.1135863  NaN                      NaN   en   \n",
       "1      NaN                      NaN  NaN  NaN  NaN   NaN      NaN  NaN   \n",
       "2      NaN                      NaN  NaN  NaN  NaN   NaN      NaN  NaN   \n",
       "3      NaN                      NaN  NaN  NaN  NaN   NaN      NaN  NaN   \n",
       "4      NaN                      NaN  NaN  NaN  NaN   NaN      NaN  NaN   \n",
       "\n",
       "   n_citation page_end  ... references  \\\n",
       "0       647.0      594  ...        NaN   \n",
       "1         NaN      NaN  ...        NaN   \n",
       "2         NaN      NaN  ...        NaN   \n",
       "3         NaN      NaN  ...        NaN   \n",
       "4         NaN      NaN  ...        NaN   \n",
       "\n",
       "                                               title volume    year  \\\n",
       "0                                Semantic Wikipedia.         2006.0   \n",
       "1                   Deductive Algorithmic Knowledge.    NaN  2004.0   \n",
       "2          Improving Exact Algorithms for MAX-2-SAT.    NaN  2004.0   \n",
       "3                Learning via Finitely Many Queries.    NaN  2004.0   \n",
       "4  A Framework for Sequential Planning in Multi-A...    NaN  2004.0   \n",
       "\n",
       "                                                 url  \\\n",
       "0  http://doi.acm.org/10.1145/1135777.1135863, db...   \n",
       "1  http://rutcor.rutgers.edu/~amai/aimath04/Accep...   \n",
       "2  http://rutcor.rutgers.edu/~amai/aimath04/Accep...   \n",
       "3  http://rutcor.rutgers.edu/~amai/aimath04/Accep...   \n",
       "4  http://rutcor.rutgers.edu/~amai/aimath04/Accep...   \n",
       "\n",
       "                                          author_ids  \\\n",
       "0  53f47915dabfaefedbbb728f; 53f44a27dabfaedf435d...   \n",
       "1                                                      \n",
       "2  53f4469bdabfaedd74def186; 54054904dabfae450f3a...   \n",
       "3                                                      \n",
       "4                         ; 5406cb05dabfae44f085c48f   \n",
       "\n",
       "                                        author_names  \\\n",
       "0  Max Völkel; Markus Krötzsch; Denny Vrandecic; ...   \n",
       "1                                   Riccardo Pucella   \n",
       "2                           Haiou Shen; Hantao Zhang   \n",
       "3                                      Andrew C. Lee   \n",
       "4             Piotr J. Gmytrasiewicz; Prashant Doshi   \n",
       "\n",
       "                   venue_id venue_name                        id  \n",
       "0  53a7257a20f7420be8b50425        WWW  53a7258520f7420be8b514a9  \n",
       "1  53a725d920f7420be8b5b577       AMAI  53a725db20f7420be8b5bfc6  \n",
       "2  53a725d920f7420be8b5b577       AMAI  53a725db20f7420be8b5bff3  \n",
       "3  53a725d920f7420be8b5b577       AMAI  53a725db20f7420be8b5bffb  \n",
       "4  53a725d920f7420be8b5b577       AMAI  53a725db20f7420be8b5c00f  \n",
       "\n",
       "[5 rows x 22 columns]"
      ]
     },
     "execution_count": 7,
     "metadata": {},
     "output_type": "execute_result"
    }
   ],
   "source": [
    "data = pd.DataFrame.from_dict(references_dict)\n",
    "data.head()"
   ]
  },
  {
   "cell_type": "markdown",
   "id": "823cb476",
   "metadata": {
    "papermill": {
     "duration": 0.017053,
     "end_time": "2022-10-01T03:53:15.408963",
     "exception": false,
     "start_time": "2022-10-01T03:53:15.391910",
     "status": "completed"
    },
    "tags": []
   },
   "source": [
    "# Data gaps"
   ]
  },
  {
   "cell_type": "code",
   "execution_count": 8,
   "id": "56463ae0",
   "metadata": {
    "execution": {
     "iopub.execute_input": "2022-10-01T03:53:15.445692Z",
     "iopub.status.busy": "2022-10-01T03:53:15.443946Z",
     "iopub.status.idle": "2022-10-01T03:53:15.499691Z",
     "shell.execute_reply": "2022-10-01T03:53:15.498566Z"
    },
    "papermill": {
     "duration": 0.0761,
     "end_time": "2022-10-01T03:53:15.501992",
     "exception": false,
     "start_time": "2022-10-01T03:53:15.425892",
     "status": "completed"
    },
    "tags": []
   },
   "outputs": [
    {
     "data": {
      "text/plain": [
       "((372597, 22), (49995,))"
      ]
     },
     "execution_count": 8,
     "metadata": {},
     "output_type": "execute_result"
    }
   ],
   "source": [
    "data.shape, data.id.unique().shape # уникальных статей чуть меньше 50к"
   ]
  },
  {
   "cell_type": "code",
   "execution_count": 9,
   "id": "55e38c85",
   "metadata": {
    "execution": {
     "iopub.execute_input": "2022-10-01T03:53:15.537289Z",
     "iopub.status.busy": "2022-10-01T03:53:15.536963Z",
     "iopub.status.idle": "2022-10-01T03:53:20.862978Z",
     "shell.execute_reply": "2022-10-01T03:53:20.861973Z"
    },
    "papermill": {
     "duration": 5.34672,
     "end_time": "2022-10-01T03:53:20.865870",
     "exception": false,
     "start_time": "2022-10-01T03:53:15.519150",
     "status": "completed"
    },
    "tags": []
   },
   "outputs": [],
   "source": [
    "data = data.loc[data.astype(str).drop_duplicates().index] # удаляем дубликаты"
   ]
  },
  {
   "cell_type": "code",
   "execution_count": 10,
   "id": "e16e9cbb",
   "metadata": {
    "execution": {
     "iopub.execute_input": "2022-10-01T03:53:20.902254Z",
     "iopub.status.busy": "2022-10-01T03:53:20.901238Z",
     "iopub.status.idle": "2022-10-01T03:53:20.907698Z",
     "shell.execute_reply": "2022-10-01T03:53:20.906799Z"
    },
    "papermill": {
     "duration": 0.026461,
     "end_time": "2022-10-01T03:53:20.909705",
     "exception": false,
     "start_time": "2022-10-01T03:53:20.883244",
     "status": "completed"
    },
    "tags": []
   },
   "outputs": [
    {
     "data": {
      "text/plain": [
       "(49995, 22)"
      ]
     },
     "execution_count": 10,
     "metadata": {},
     "output_type": "execute_result"
    }
   ],
   "source": [
    "data.shape"
   ]
  },
  {
   "cell_type": "code",
   "execution_count": 11,
   "id": "17f04f40",
   "metadata": {
    "execution": {
     "iopub.execute_input": "2022-10-01T03:53:20.946470Z",
     "iopub.status.busy": "2022-10-01T03:53:20.946159Z",
     "iopub.status.idle": "2022-10-01T03:53:22.134999Z",
     "shell.execute_reply": "2022-10-01T03:53:22.134015Z"
    },
    "papermill": {
     "duration": 1.20938,
     "end_time": "2022-10-01T03:53:22.137371",
     "exception": false,
     "start_time": "2022-10-01T03:53:20.927991",
     "status": "completed"
    },
    "tags": []
   },
   "outputs": [
    {
     "data": {
      "image/png": "[encoded data removed]",
      "text/plain": [
       "<Figure size 1800x720 with 2 Axes>"
      ]
     },
     "metadata": {
      "needs_background": "light"
     },
     "output_type": "display_data"
    }
   ],
   "source": [
    "msno.matrix(data)\n",
    "plt.title('Missing values of each columns');"
   ]
  },
  {
   "cell_type": "markdown",
   "id": "d671aeb7",
   "metadata": {
    "papermill": {
     "duration": 0.017788,
     "end_time": "2022-10-01T03:53:22.173611",
     "exception": false,
     "start_time": "2022-10-01T03:53:22.155823",
     "status": "completed"
    },
    "tags": []
   },
   "source": [
    "# Language distribution"
   ]
  },
  {
   "cell_type": "code",
   "execution_count": 12,
   "id": "cf2a6cf7",
   "metadata": {
    "execution": {
     "iopub.execute_input": "2022-10-01T03:53:22.212551Z",
     "iopub.status.busy": "2022-10-01T03:53:22.212157Z",
     "iopub.status.idle": "2022-10-01T03:53:22.237323Z",
     "shell.execute_reply": "2022-10-01T03:53:22.236279Z"
    },
    "papermill": {
     "duration": 0.047074,
     "end_time": "2022-10-01T03:53:22.239400",
     "exception": false,
     "start_time": "2022-10-01T03:53:22.192326",
     "status": "completed"
    },
    "tags": []
   },
   "outputs": [
    {
     "data": {
      "text/plain": [
       "en    49958\n",
       "zh        4\n",
       "Name: lang, dtype: int64"
      ]
     },
     "execution_count": 12,
     "metadata": {},
     "output_type": "execute_result"
    }
   ],
   "source": [
    "lang_data = data.lang[data.lang.notnull()]\n",
    "lang_data.value_counts()"
   ]
  },
  {
   "cell_type": "code",
   "execution_count": 13,
   "id": "72397a8b",
   "metadata": {
    "execution": {
     "iopub.execute_input": "2022-10-01T03:53:22.278138Z",
     "iopub.status.busy": "2022-10-01T03:53:22.277277Z",
     "iopub.status.idle": "2022-10-01T03:53:22.289377Z",
     "shell.execute_reply": "2022-10-01T03:53:22.288364Z"
    },
    "papermill": {
     "duration": 0.033481,
     "end_time": "2022-10-01T03:53:22.291593",
     "exception": false,
     "start_time": "2022-10-01T03:53:22.258112",
     "status": "completed"
    },
    "tags": []
   },
   "outputs": [
    {
     "data": {
      "text/plain": [
       "0"
      ]
     },
     "execution_count": 13,
     "metadata": {},
     "output_type": "execute_result"
    }
   ],
   "source": [
    "lang_data.isnull().sum() # 0"
   ]
  },
  {
   "cell_type": "code",
   "execution_count": 14,
   "id": "33d82016",
   "metadata": {
    "execution": {
     "iopub.execute_input": "2022-10-01T03:53:22.330147Z",
     "iopub.status.busy": "2022-10-01T03:53:22.328650Z",
     "iopub.status.idle": "2022-10-01T03:53:23.142036Z",
     "shell.execute_reply": "2022-10-01T03:53:23.141146Z"
    },
    "papermill": {
     "duration": 0.834357,
     "end_time": "2022-10-01T03:53:23.144008",
     "exception": false,
     "start_time": "2022-10-01T03:53:22.309651",
     "status": "completed"
    },
    "tags": []
   },
   "outputs": [
    {
     "data": {
      "text/html": [
       "        <script type=\"text/javascript\">\n",
       "        window.PlotlyConfig = {MathJaxConfig: 'local'};\n",
       "        if (window.MathJax && window.MathJax.Hub && window.MathJax.Hub.Config) {window.MathJax.Hub.Config({SVG: {font: \"STIX-Web\"}});}\n",
       "        if (typeof require !== 'undefined') {\n",
       "        require.undef(\"plotly\");\n",
       "        requirejs.config({\n",
       "            paths: {\n",
       "                'plotly': ['https://cdn.plot.ly/plotly-2.14.0.min']\n",
       "            }\n",
       "        });\n",
       "        require(['plotly'], function(Plotly) {\n",
       "            window._Plotly = Plotly;\n",
       "        });\n",
       "        }\n",
       "        </script>\n",
       "        "
      ]
     },
     "metadata": {},
     "output_type": "display_data"
    },
    {
     "data": {
      "text/html": [
       "<div>                            <div id=\"d5b41c70-5d18-4383-b084-28e9660d1dc8\" class=\"plotly-graph-div\" style=\"height:525px; width:100%;\"></div>            <script type=\"text/javascript\">                require([\"plotly\"], function(Plotly) {                    window.PLOTLYENV=window.PLOTLYENV || {};                                    if (document.getElementById(\"d5b41c70-5d18-4383-b084-28e9660d1dc8\")) {                    Plotly.newPlot(                        \"d5b41c70-5d18-4383-b084-28e9660d1dc8\",                        [{\"alignmentgroup\":\"True\",\"hovertemplate\":\"color=en<br>x=%{x}<br>y=%{y}<extra></extra>\",\"legendgroup\":\"en\",\"marker\":{\"color\":\"rgb(247,251,255)\",\"pattern\":{\"shape\":\"\"},\"line\":{\"width\":1,\"color\":\"blue\"}},\"name\":\"en\",\"offsetgroup\":\"en\",\"orientation\":\"v\",\"showlegend\":true,\"textposition\":\"auto\",\"x\":[\"en\"],\"xaxis\":\"x\",\"y\":[49958],\"yaxis\":\"y\",\"type\":\"bar\"},{\"alignmentgroup\":\"True\",\"hovertemplate\":\"color=zh<br>x=%{x}<br>y=%{y}<extra></extra>\",\"legendgroup\":\"zh\",\"marker\":{\"color\":\"rgb(222,235,247)\",\"pattern\":{\"shape\":\"\"},\"line\":{\"width\":4,\"color\":\"crimson\"}},\"name\":\"zh\",\"offsetgroup\":\"zh\",\"orientation\":\"v\",\"showlegend\":true,\"textposition\":\"auto\",\"x\":[\"zh\"],\"xaxis\":\"x\",\"y\":[4],\"yaxis\":\"y\",\"type\":\"bar\"}],                        {\"template\":{\"data\":{\"histogram2dcontour\":[{\"type\":\"histogram2dcontour\",\"colorbar\":{\"outlinewidth\":0,\"ticks\":\"\"},\"colorscale\":[[0.0,\"#0d0887\"],[0.1111111111111111,\"#46039f\"],[0.2222222222222222,\"#7201a8\"],[0.3333333333333333,\"#9c179e\"],[0.4444444444444444,\"#bd3786\"],[0.5555555555555556,\"#d8576b\"],[0.6666666666666666,\"#ed7953\"],[0.7777777777777778,\"#fb9f3a\"],[0.8888888888888888,\"#fdca26\"],[1.0,\"#f0f921\"]]}],\"choropleth\":[{\"type\":\"choropleth\",\"colorbar\":{\"outlinewidth\":0,\"ticks\":\"\"}}],\"histogram2d\":[{\"type\":\"histogram2d\",\"colorbar\":{\"outlinewidth\":0,\"ticks\":\"\"},\"colorscale\":[[0.0,\"#0d0887\"],[0.1111111111111111,\"#46039f\"],[0.2222222222222222,\"#7201a8\"],[0.3333333333333333,\"#9c179e\"],[0.4444444444444444,\"#bd3786\"],[0.5555555555555556,\"#d8576b\"],[0.6666666666666666,\"#ed7953\"],[0.7777777777777778,\"#fb9f3a\"],[0.8888888888888888,\"#fdca26\"],[1.0,\"#f0f921\"]]}],\"heatmap\":[{\"type\":\"heatmap\",\"colorbar\":{\"outlinewidth\":0,\"ticks\":\"\"},\"colorscale\":[[0.0,\"#0d0887\"],[0.1111111111111111,\"#46039f\"],[0.2222222222222222,\"#7201a8\"],[0.3333333333333333,\"#9c179e\"],[0.4444444444444444,\"#bd3786\"],[0.5555555555555556,\"#d8576b\"],[0.6666666666666666,\"#ed7953\"],[0.7777777777777778,\"#fb9f3a\"],[0.8888888888888888,\"#fdca26\"],[1.0,\"#f0f921\"]]}],\"heatmapgl\":[{\"type\":\"heatmapgl\",\"colorbar\":{\"outlinewidth\":0,\"ticks\":\"\"},\"colorscale\":[[0.0,\"#0d0887\"],[0.1111111111111111,\"#46039f\"],[0.2222222222222222,\"#7201a8\"],[0.3333333333333333,\"#9c179e\"],[0.4444444444444444,\"#bd3786\"],[0.5555555555555556,\"#d8576b\"],[0.6666666666666666,\"#ed7953\"],[0.7777777777777778,\"#fb9f3a\"],[0.8888888888888888,\"#fdca26\"],[1.0,\"#f0f921\"]]}],\"contourcarpet\":[{\"type\":\"contourcarpet\",\"colorbar\":{\"outlinewidth\":0,\"ticks\":\"\"}}],\"contour\":[{\"type\":\"contour\",\"colorbar\":{\"outlinewidth\":0,\"ticks\":\"\"},\"colorscale\":[[0.0,\"#0d0887\"],[0.1111111111111111,\"#46039f\"],[0.2222222222222222,\"#7201a8\"],[0.3333333333333333,\"#9c179e\"],[0.4444444444444444,\"#bd3786\"],[0.5555555555555556,\"#d8576b\"],[0.6666666666666666,\"#ed7953\"],[0.7777777777777778,\"#fb9f3a\"],[0.8888888888888888,\"#fdca26\"],[1.0,\"#f0f921\"]]}],\"surface\":[{\"type\":\"surface\",\"colorbar\":{\"outlinewidth\":0,\"ticks\":\"\"},\"colorscale\":[[0.0,\"#0d0887\"],[0.1111111111111111,\"#46039f\"],[0.2222222222222222,\"#7201a8\"],[0.3333333333333333,\"#9c179e\"],[0.4444444444444444,\"#bd3786\"],[0.5555555555555556,\"#d8576b\"],[0.6666666666666666,\"#ed7953\"],[0.7777777777777778,\"#fb9f3a\"],[0.8888888888888888,\"#fdca26\"],[1.0,\"#f0f921\"]]}],\"mesh3d\":[{\"type\":\"mesh3d\",\"colorbar\":{\"outlinewidth\":0,\"ticks\":\"\"}}],\"scatter\":[{\"fillpattern\":{\"fillmode\":\"overlay\",\"size\":10,\"solidity\":0.2},\"type\":\"scatter\"}],\"parcoords\":[{\"type\":\"parcoords\",\"line\":{\"colorbar\":{\"outlinewidth\":0,\"ticks\":\"\"}}}],\"scatterpolargl\":[{\"type\":\"scatterpolargl\",\"marker\":{\"colorbar\":{\"outlinewidth\":0,\"ticks\":\"\"}}}],\"bar\":[{\"error_x\":{\"color\":\"#2a3f5f\"},\"error_y\":{\"color\":\"#2a3f5f\"},\"marker\":{\"line\":{\"color\":\"#E5ECF6\",\"width\":0.5},\"pattern\":{\"fillmode\":\"overlay\",\"size\":10,\"solidity\":0.2}},\"type\":\"bar\"}],\"scattergeo\":[{\"type\":\"scattergeo\",\"marker\":{\"colorbar\":{\"outlinewidth\":0,\"ticks\":\"\"}}}],\"scatterpolar\":[{\"type\":\"scatterpolar\",\"marker\":{\"colorbar\":{\"outlinewidth\":0,\"ticks\":\"\"}}}],\"histogram\":[{\"marker\":{\"pattern\":{\"fillmode\":\"overlay\",\"size\":10,\"solidity\":0.2}},\"type\":\"histogram\"}],\"scattergl\":[{\"type\":\"scattergl\",\"marker\":{\"colorbar\":{\"outlinewidth\":0,\"ticks\":\"\"}}}],\"scatter3d\":[{\"type\":\"scatter3d\",\"line\":{\"colorbar\":{\"outlinewidth\":0,\"ticks\":\"\"}},\"marker\":{\"colorbar\":{\"outlinewidth\":0,\"ticks\":\"\"}}}],\"scattermapbox\":[{\"type\":\"scattermapbox\",\"marker\":{\"colorbar\":{\"outlinewidth\":0,\"ticks\":\"\"}}}],\"scatterternary\":[{\"type\":\"scatterternary\",\"marker\":{\"colorbar\":{\"outlinewidth\":0,\"ticks\":\"\"}}}],\"scattercarpet\":[{\"type\":\"scattercarpet\",\"marker\":{\"colorbar\":{\"outlinewidth\":0,\"ticks\":\"\"}}}],\"carpet\":[{\"aaxis\":{\"endlinecolor\":\"#2a3f5f\",\"gridcolor\":\"white\",\"linecolor\":\"white\",\"minorgridcolor\":\"white\",\"startlinecolor\":\"#2a3f5f\"},\"baxis\":{\"endlinecolor\":\"#2a3f5f\",\"gridcolor\":\"white\",\"linecolor\":\"white\",\"minorgridcolor\":\"white\",\"startlinecolor\":\"#2a3f5f\"},\"type\":\"carpet\"}],\"table\":[{\"cells\":{\"fill\":{\"color\":\"#EBF0F8\"},\"line\":{\"color\":\"white\"}},\"header\":{\"fill\":{\"color\":\"#C8D4E3\"},\"line\":{\"color\":\"white\"}},\"type\":\"table\"}],\"barpolar\":[{\"marker\":{\"line\":{\"color\":\"#E5ECF6\",\"width\":0.5},\"pattern\":{\"fillmode\":\"overlay\",\"size\":10,\"solidity\":0.2}},\"type\":\"barpolar\"}],\"pie\":[{\"automargin\":true,\"type\":\"pie\"}]},\"layout\":{\"autotypenumbers\":\"strict\",\"colorway\":[\"#636efa\",\"#EF553B\",\"#00cc96\",\"#ab63fa\",\"#FFA15A\",\"#19d3f3\",\"#FF6692\",\"#B6E880\",\"#FF97FF\",\"#FECB52\"],\"font\":{\"color\":\"#2a3f5f\"},\"hovermode\":\"closest\",\"hoverlabel\":{\"align\":\"left\"},\"paper_bgcolor\":\"white\",\"plot_bgcolor\":\"#E5ECF6\",\"polar\":{\"bgcolor\":\"#E5ECF6\",\"angularaxis\":{\"gridcolor\":\"white\",\"linecolor\":\"white\",\"ticks\":\"\"},\"radialaxis\":{\"gridcolor\":\"white\",\"linecolor\":\"white\",\"ticks\":\"\"}},\"ternary\":{\"bgcolor\":\"#E5ECF6\",\"aaxis\":{\"gridcolor\":\"white\",\"linecolor\":\"white\",\"ticks\":\"\"},\"baxis\":{\"gridcolor\":\"white\",\"linecolor\":\"white\",\"ticks\":\"\"},\"caxis\":{\"gridcolor\":\"white\",\"linecolor\":\"white\",\"ticks\":\"\"}},\"coloraxis\":{\"colorbar\":{\"outlinewidth\":0,\"ticks\":\"\"}},\"colorscale\":{\"sequential\":[[0.0,\"#0d0887\"],[0.1111111111111111,\"#46039f\"],[0.2222222222222222,\"#7201a8\"],[0.3333333333333333,\"#9c179e\"],[0.4444444444444444,\"#bd3786\"],[0.5555555555555556,\"#d8576b\"],[0.6666666666666666,\"#ed7953\"],[0.7777777777777778,\"#fb9f3a\"],[0.8888888888888888,\"#fdca26\"],[1.0,\"#f0f921\"]],\"sequentialminus\":[[0.0,\"#0d0887\"],[0.1111111111111111,\"#46039f\"],[0.2222222222222222,\"#7201a8\"],[0.3333333333333333,\"#9c179e\"],[0.4444444444444444,\"#bd3786\"],[0.5555555555555556,\"#d8576b\"],[0.6666666666666666,\"#ed7953\"],[0.7777777777777778,\"#fb9f3a\"],[0.8888888888888888,\"#fdca26\"],[1.0,\"#f0f921\"]],\"diverging\":[[0,\"#8e0152\"],[0.1,\"#c51b7d\"],[0.2,\"#de77ae\"],[0.3,\"#f1b6da\"],[0.4,\"#fde0ef\"],[0.5,\"#f7f7f7\"],[0.6,\"#e6f5d0\"],[0.7,\"#b8e186\"],[0.8,\"#7fbc41\"],[0.9,\"#4d9221\"],[1,\"#276419\"]]},\"xaxis\":{\"gridcolor\":\"white\",\"linecolor\":\"white\",\"ticks\":\"\",\"title\":{\"standoff\":15},\"zerolinecolor\":\"white\",\"automargin\":true,\"zerolinewidth\":2},\"yaxis\":{\"gridcolor\":\"white\",\"linecolor\":\"white\",\"ticks\":\"\",\"title\":{\"standoff\":15},\"zerolinecolor\":\"white\",\"automargin\":true,\"zerolinewidth\":2},\"scene\":{\"xaxis\":{\"backgroundcolor\":\"#E5ECF6\",\"gridcolor\":\"white\",\"linecolor\":\"white\",\"showbackground\":true,\"ticks\":\"\",\"zerolinecolor\":\"white\",\"gridwidth\":2},\"yaxis\":{\"backgroundcolor\":\"#E5ECF6\",\"gridcolor\":\"white\",\"linecolor\":\"white\",\"showbackground\":true,\"ticks\":\"\",\"zerolinecolor\":\"white\",\"gridwidth\":2},\"zaxis\":{\"backgroundcolor\":\"#E5ECF6\",\"gridcolor\":\"white\",\"linecolor\":\"white\",\"showbackground\":true,\"ticks\":\"\",\"zerolinecolor\":\"white\",\"gridwidth\":2}},\"shapedefaults\":{\"line\":{\"color\":\"#2a3f5f\"}},\"annotationdefaults\":{\"arrowcolor\":\"#2a3f5f\",\"arrowhead\":0,\"arrowwidth\":1},\"geo\":{\"bgcolor\":\"white\",\"landcolor\":\"#E5ECF6\",\"subunitcolor\":\"white\",\"showland\":true,\"showlakes\":true,\"lakecolor\":\"white\"},\"title\":{\"x\":0.05},\"mapbox\":{\"style\":\"light\"}}},\"xaxis\":{\"anchor\":\"y\",\"domain\":[0.0,1.0],\"title\":{\"text\":\"language\"}},\"yaxis\":{\"anchor\":\"x\",\"domain\":[0.0,1.0],\"title\":{\"text\":\"amount\"}},\"legend\":{\"title\":{\"text\":\"color\"},\"tracegroupgap\":0},\"title\":{\"text\":\"Distribution of languages\"},\"barmode\":\"relative\"},                        {\"responsive\": true}                    ).then(function(){\n",
       "                            \n",
       "var gd = document.getElementById('d5b41c70-5d18-4383-b084-28e9660d1dc8');\n",
       "var x = new MutationObserver(function (mutations, observer) {{\n",
       "        var display = window.getComputedStyle(gd).display;\n",
       "        if (!display || display === 'none') {{\n",
       "            console.log([gd, 'removed!']);\n",
       "            Plotly.purge(gd);\n",
       "            observer.disconnect();\n",
       "        }}\n",
       "}});\n",
       "\n",
       "// Listen for the removal of the full notebook cells\n",
       "var notebookContainer = gd.closest('#notebook-container');\n",
       "if (notebookContainer) {{\n",
       "    x.observe(notebookContainer, {childList: true});\n",
       "}}\n",
       "\n",
       "// Listen for the clearing of the current output cell\n",
       "var outputEl = gd.closest('.output');\n",
       "if (outputEl) {{\n",
       "    x.observe(outputEl, {childList: true});\n",
       "}}\n",
       "\n",
       "                        })                };                });            </script>        </div>"
      ]
     },
     "metadata": {},
     "output_type": "display_data"
    }
   ],
   "source": [
    "keys, values = lang_data.value_counts().index, lang_data.value_counts().values\n",
    "\n",
    "fig = px.bar(x=keys, y=values, color=keys,\n",
    "             color_discrete_sequence=px.colors.sequential.Blues,\n",
    "             title='Distribution of languages')\n",
    "\n",
    "fig.update_layout(xaxis_title=\"language\", yaxis_title=\"amount\")\n",
    "\n",
    "fig.data[0].marker.line.width = 1\n",
    "fig.data[0].marker.line.color = \"blue\"\n",
    "fig.data[1].marker.line.width = 4\n",
    "fig.data[1].marker.line.color = \"crimson\"\n",
    "\n",
    "fig.show();"
   ]
  },
  {
   "cell_type": "markdown",
   "id": "d4e34f8d",
   "metadata": {
    "papermill": {
     "duration": 0.018171,
     "end_time": "2022-10-01T03:53:23.181285",
     "exception": false,
     "start_time": "2022-10-01T03:53:23.163114",
     "status": "completed"
    },
    "tags": []
   },
   "source": [
    "# Years distribution"
   ]
  },
  {
   "cell_type": "code",
   "execution_count": 15,
   "id": "0c5acc0b",
   "metadata": {
    "execution": {
     "iopub.execute_input": "2022-10-01T03:53:23.219770Z",
     "iopub.status.busy": "2022-10-01T03:53:23.219000Z",
     "iopub.status.idle": "2022-10-01T03:53:23.230595Z",
     "shell.execute_reply": "2022-10-01T03:53:23.229494Z"
    },
    "papermill": {
     "duration": 0.033134,
     "end_time": "2022-10-01T03:53:23.232873",
     "exception": false,
     "start_time": "2022-10-01T03:53:23.199739",
     "status": "completed"
    },
    "tags": []
   },
   "outputs": [
    {
     "data": {
      "text/plain": [
       "2017.0    9087\n",
       "2013.0    6791\n",
       "2011.0    4830\n",
       "2010.0    2446\n",
       "2009.0    2226\n",
       "          ... \n",
       "1894.0       1\n",
       "1927.0       1\n",
       "1874.0       1\n",
       "1929.0       1\n",
       "1943.0       1\n",
       "Name: year, Length: 114, dtype: int64"
      ]
     },
     "execution_count": 15,
     "metadata": {},
     "output_type": "execute_result"
    }
   ],
   "source": [
    "years_data = data.year\n",
    "years_data.value_counts().sort_values(ascending=False)"
   ]
  },
  {
   "cell_type": "code",
   "execution_count": 16,
   "id": "55ff9057",
   "metadata": {
    "execution": {
     "iopub.execute_input": "2022-10-01T03:53:23.271654Z",
     "iopub.status.busy": "2022-10-01T03:53:23.271358Z",
     "iopub.status.idle": "2022-10-01T03:53:23.277454Z",
     "shell.execute_reply": "2022-10-01T03:53:23.275963Z"
    },
    "papermill": {
     "duration": 0.028478,
     "end_time": "2022-10-01T03:53:23.280140",
     "exception": false,
     "start_time": "2022-10-01T03:53:23.251662",
     "status": "completed"
    },
    "tags": []
   },
   "outputs": [
    {
     "name": "stdout",
     "output_type": "stream",
     "text": [
      "0\n"
     ]
    }
   ],
   "source": [
    "print(years_data.isnull().sum()) # 0"
   ]
  },
  {
   "cell_type": "code",
   "execution_count": 17,
   "id": "24cd28d1",
   "metadata": {
    "execution": {
     "iopub.execute_input": "2022-10-01T03:53:23.319500Z",
     "iopub.status.busy": "2022-10-01T03:53:23.318659Z",
     "iopub.status.idle": "2022-10-01T03:53:23.327011Z",
     "shell.execute_reply": "2022-10-01T03:53:23.325929Z"
    },
    "papermill": {
     "duration": 0.029716,
     "end_time": "2022-10-01T03:53:23.329194",
     "exception": false,
     "start_time": "2022-10-01T03:53:23.299478",
     "status": "completed"
    },
    "tags": []
   },
   "outputs": [
    {
     "data": {
      "text/plain": [
       "[0.0, 13.0, 1874.0, 1894.0, 1898.0, 1901.0, 1903.0, 1905.0, 1907.0, 1911.0]"
      ]
     },
     "execution_count": 17,
     "metadata": {},
     "output_type": "execute_result"
    }
   ],
   "source": [
    "sorted(years_data.value_counts().index)[:10]"
   ]
  },
  {
   "cell_type": "code",
   "execution_count": 18,
   "id": "f675c474",
   "metadata": {
    "execution": {
     "iopub.execute_input": "2022-10-01T03:53:23.368452Z",
     "iopub.status.busy": "2022-10-01T03:53:23.368134Z",
     "iopub.status.idle": "2022-10-01T03:53:23.378826Z",
     "shell.execute_reply": "2022-10-01T03:53:23.377829Z"
    },
    "papermill": {
     "duration": 0.032678,
     "end_time": "2022-10-01T03:53:23.380883",
     "exception": false,
     "start_time": "2022-10-01T03:53:23.348205",
     "status": "completed"
    },
    "tags": []
   },
   "outputs": [
    {
     "name": "stdout",
     "output_type": "stream",
     "text": [
      "[0.0, 13.0]\n"
     ]
    },
    {
     "data": {
      "text/plain": [
       "(8,)"
      ]
     },
     "execution_count": 18,
     "metadata": {},
     "output_type": "execute_result"
    }
   ],
   "source": [
    "print(sorted(years_data.value_counts().index)[:2]) # минимальные значения year: [0.0, 13.0]\n",
    "years_data[(years_data == 0) | (years_data == 13)].shape # 8 статей с (year =  0 или 13)"
   ]
  },
  {
   "cell_type": "code",
   "execution_count": 19,
   "id": "3e230d46",
   "metadata": {
    "execution": {
     "iopub.execute_input": "2022-10-01T03:53:23.420842Z",
     "iopub.status.busy": "2022-10-01T03:53:23.419132Z",
     "iopub.status.idle": "2022-10-01T03:53:23.427577Z",
     "shell.execute_reply": "2022-10-01T03:53:23.426616Z"
    },
    "papermill": {
     "duration": 0.030088,
     "end_time": "2022-10-01T03:53:23.429638",
     "exception": false,
     "start_time": "2022-10-01T03:53:23.399550",
     "status": "completed"
    },
    "tags": []
   },
   "outputs": [
    {
     "data": {
      "text/plain": [
       "[2011.0,\n",
       " 2012.0,\n",
       " 2013.0,\n",
       " 2014.0,\n",
       " 2015.0,\n",
       " 2016.0,\n",
       " 2017.0,\n",
       " 2018.0,\n",
       " 2019.0,\n",
       " 2020.0]"
      ]
     },
     "execution_count": 19,
     "metadata": {},
     "output_type": "execute_result"
    }
   ],
   "source": [
    "sorted(years_data.value_counts().index)[-10:] # топ 10"
   ]
  },
  {
   "cell_type": "code",
   "execution_count": 20,
   "id": "b5e40a70",
   "metadata": {
    "execution": {
     "iopub.execute_input": "2022-10-01T03:53:23.468767Z",
     "iopub.status.busy": "2022-10-01T03:53:23.468476Z",
     "iopub.status.idle": "2022-10-01T03:53:23.477739Z",
     "shell.execute_reply": "2022-10-01T03:53:23.476821Z"
    },
    "papermill": {
     "duration": 0.031212,
     "end_time": "2022-10-01T03:53:23.479697",
     "exception": false,
     "start_time": "2022-10-01T03:53:23.448485",
     "status": "completed"
    },
    "tags": []
   },
   "outputs": [],
   "source": [
    "years_data = years_data.drop(years_data[(years_data == 0) | (years_data == 13)].index) # удаляем строчки с (year = 0 или 13)"
   ]
  },
  {
   "cell_type": "code",
   "execution_count": 21,
   "id": "b65ddd63",
   "metadata": {
    "execution": {
     "iopub.execute_input": "2022-10-01T03:53:23.518777Z",
     "iopub.status.busy": "2022-10-01T03:53:23.517990Z",
     "iopub.status.idle": "2022-10-01T03:53:23.526196Z",
     "shell.execute_reply": "2022-10-01T03:53:23.525183Z"
    },
    "papermill": {
     "duration": 0.029844,
     "end_time": "2022-10-01T03:53:23.528173",
     "exception": false,
     "start_time": "2022-10-01T03:53:23.498329",
     "status": "completed"
    },
    "tags": []
   },
   "outputs": [
    {
     "data": {
      "text/plain": [
       "[1874.0,\n",
       " 1894.0,\n",
       " 1898.0,\n",
       " 1901.0,\n",
       " 1903.0,\n",
       " 1905.0,\n",
       " 1907.0,\n",
       " 1911.0,\n",
       " 1912.0,\n",
       " 1916.0]"
      ]
     },
     "execution_count": 21,
     "metadata": {},
     "output_type": "execute_result"
    }
   ],
   "source": [
    "sorted(years_data.value_counts().index)[:10] # топ 10"
   ]
  },
  {
   "cell_type": "code",
   "execution_count": 22,
   "id": "75e003cd",
   "metadata": {
    "execution": {
     "iopub.execute_input": "2022-10-01T03:53:23.567597Z",
     "iopub.status.busy": "2022-10-01T03:53:23.566810Z",
     "iopub.status.idle": "2022-10-01T03:53:23.624683Z",
     "shell.execute_reply": "2022-10-01T03:53:23.623638Z"
    },
    "papermill": {
     "duration": 0.080248,
     "end_time": "2022-10-01T03:53:23.627092",
     "exception": false,
     "start_time": "2022-10-01T03:53:23.546844",
     "status": "completed"
    },
    "tags": []
   },
   "outputs": [
    {
     "data": {
      "text/html": [
       "<div>                            <div id=\"273961ff-4912-46eb-984a-baf4139ed47f\" class=\"plotly-graph-div\" style=\"height:525px; width:100%;\"></div>            <script type=\"text/javascript\">                require([\"plotly\"], function(Plotly) {                    window.PLOTLYENV=window.PLOTLYENV || {};                                    if (document.getElementById(\"273961ff-4912-46eb-984a-baf4139ed47f\")) {                    Plotly.newPlot(                        \"273961ff-4912-46eb-984a-baf4139ed47f\",                        [{\"alignmentgroup\":\"True\",\"hovertemplate\":\"year=%{x}<br>number of articles=%{y}<extra></extra>\",\"legendgroup\":\"\",\"marker\":{\"color\":\"rgb(158,202,225)\",\"pattern\":{\"shape\":\"\"},\"line\":{\"color\":\"rgb(8,48,107)\",\"width\":1.5}},\"name\":\"\",\"offsetgroup\":\"\",\"orientation\":\"v\",\"showlegend\":false,\"textposition\":\"auto\",\"texttemplate\":\"%{y:.2s}\",\"x\":[\"2017\",\"2013\",\"2011\",\"2010\",\"2009\",\"2012\",\"2008\",\"2006\",\"2007\",\"2014\",\"other\"],\"xaxis\":\"x\",\"y\":[9087,6791,4830,2446,2226,2009,1920,1867,1784,1522,15505],\"yaxis\":\"y\",\"type\":\"bar\",\"opacity\":0.7}],                        {\"template\":{\"data\":{\"histogram2dcontour\":[{\"type\":\"histogram2dcontour\",\"colorbar\":{\"outlinewidth\":0,\"ticks\":\"\"},\"colorscale\":[[0.0,\"#0d0887\"],[0.1111111111111111,\"#46039f\"],[0.2222222222222222,\"#7201a8\"],[0.3333333333333333,\"#9c179e\"],[0.4444444444444444,\"#bd3786\"],[0.5555555555555556,\"#d8576b\"],[0.6666666666666666,\"#ed7953\"],[0.7777777777777778,\"#fb9f3a\"],[0.8888888888888888,\"#fdca26\"],[1.0,\"#f0f921\"]]}],\"choropleth\":[{\"type\":\"choropleth\",\"colorbar\":{\"outlinewidth\":0,\"ticks\":\"\"}}],\"histogram2d\":[{\"type\":\"histogram2d\",\"colorbar\":{\"outlinewidth\":0,\"ticks\":\"\"},\"colorscale\":[[0.0,\"#0d0887\"],[0.1111111111111111,\"#46039f\"],[0.2222222222222222,\"#7201a8\"],[0.3333333333333333,\"#9c179e\"],[0.4444444444444444,\"#bd3786\"],[0.5555555555555556,\"#d8576b\"],[0.6666666666666666,\"#ed7953\"],[0.7777777777777778,\"#fb9f3a\"],[0.8888888888888888,\"#fdca26\"],[1.0,\"#f0f921\"]]}],\"heatmap\":[{\"type\":\"heatmap\",\"colorbar\":{\"outlinewidth\":0,\"ticks\":\"\"},\"colorscale\":[[0.0,\"#0d0887\"],[0.1111111111111111,\"#46039f\"],[0.2222222222222222,\"#7201a8\"],[0.3333333333333333,\"#9c179e\"],[0.4444444444444444,\"#bd3786\"],[0.5555555555555556,\"#d8576b\"],[0.6666666666666666,\"#ed7953\"],[0.7777777777777778,\"#fb9f3a\"],[0.8888888888888888,\"#fdca26\"],[1.0,\"#f0f921\"]]}],\"heatmapgl\":[{\"type\":\"heatmapgl\",\"colorbar\":{\"outlinewidth\":0,\"ticks\":\"\"},\"colorscale\":[[0.0,\"#0d0887\"],[0.1111111111111111,\"#46039f\"],[0.2222222222222222,\"#7201a8\"],[0.3333333333333333,\"#9c179e\"],[0.4444444444444444,\"#bd3786\"],[0.5555555555555556,\"#d8576b\"],[0.6666666666666666,\"#ed7953\"],[0.7777777777777778,\"#fb9f3a\"],[0.8888888888888888,\"#fdca26\"],[1.0,\"#f0f921\"]]}],\"contourcarpet\":[{\"type\":\"contourcarpet\",\"colorbar\":{\"outlinewidth\":0,\"ticks\":\"\"}}],\"contour\":[{\"type\":\"contour\",\"colorbar\":{\"outlinewidth\":0,\"ticks\":\"\"},\"colorscale\":[[0.0,\"#0d0887\"],[0.1111111111111111,\"#46039f\"],[0.2222222222222222,\"#7201a8\"],[0.3333333333333333,\"#9c179e\"],[0.4444444444444444,\"#bd3786\"],[0.5555555555555556,\"#d8576b\"],[0.6666666666666666,\"#ed7953\"],[0.7777777777777778,\"#fb9f3a\"],[0.8888888888888888,\"#fdca26\"],[1.0,\"#f0f921\"]]}],\"surface\":[{\"type\":\"surface\",\"colorbar\":{\"outlinewidth\":0,\"ticks\":\"\"},\"colorscale\":[[0.0,\"#0d0887\"],[0.1111111111111111,\"#46039f\"],[0.2222222222222222,\"#7201a8\"],[0.3333333333333333,\"#9c179e\"],[0.4444444444444444,\"#bd3786\"],[0.5555555555555556,\"#d8576b\"],[0.6666666666666666,\"#ed7953\"],[0.7777777777777778,\"#fb9f3a\"],[0.8888888888888888,\"#fdca26\"],[1.0,\"#f0f921\"]]}],\"mesh3d\":[{\"type\":\"mesh3d\",\"colorbar\":{\"outlinewidth\":0,\"ticks\":\"\"}}],\"scatter\":[{\"fillpattern\":{\"fillmode\":\"overlay\",\"size\":10,\"solidity\":0.2},\"type\":\"scatter\"}],\"parcoords\":[{\"type\":\"parcoords\",\"line\":{\"colorbar\":{\"outlinewidth\":0,\"ticks\":\"\"}}}],\"scatterpolargl\":[{\"type\":\"scatterpolargl\",\"marker\":{\"colorbar\":{\"outlinewidth\":0,\"ticks\":\"\"}}}],\"bar\":[{\"error_x\":{\"color\":\"#2a3f5f\"},\"error_y\":{\"color\":\"#2a3f5f\"},\"marker\":{\"line\":{\"color\":\"#E5ECF6\",\"width\":0.5},\"pattern\":{\"fillmode\":\"overlay\",\"size\":10,\"solidity\":0.2}},\"type\":\"bar\"}],\"scattergeo\":[{\"type\":\"scattergeo\",\"marker\":{\"colorbar\":{\"outlinewidth\":0,\"ticks\":\"\"}}}],\"scatterpolar\":[{\"type\":\"scatterpolar\",\"marker\":{\"colorbar\":{\"outlinewidth\":0,\"ticks\":\"\"}}}],\"histogram\":[{\"marker\":{\"pattern\":{\"fillmode\":\"overlay\",\"size\":10,\"solidity\":0.2}},\"type\":\"histogram\"}],\"scattergl\":[{\"type\":\"scattergl\",\"marker\":{\"colorbar\":{\"outlinewidth\":0,\"ticks\":\"\"}}}],\"scatter3d\":[{\"type\":\"scatter3d\",\"line\":{\"colorbar\":{\"outlinewidth\":0,\"ticks\":\"\"}},\"marker\":{\"colorbar\":{\"outlinewidth\":0,\"ticks\":\"\"}}}],\"scattermapbox\":[{\"type\":\"scattermapbox\",\"marker\":{\"colorbar\":{\"outlinewidth\":0,\"ticks\":\"\"}}}],\"scatterternary\":[{\"type\":\"scatterternary\",\"marker\":{\"colorbar\":{\"outlinewidth\":0,\"ticks\":\"\"}}}],\"scattercarpet\":[{\"type\":\"scattercarpet\",\"marker\":{\"colorbar\":{\"outlinewidth\":0,\"ticks\":\"\"}}}],\"carpet\":[{\"aaxis\":{\"endlinecolor\":\"#2a3f5f\",\"gridcolor\":\"white\",\"linecolor\":\"white\",\"minorgridcolor\":\"white\",\"startlinecolor\":\"#2a3f5f\"},\"baxis\":{\"endlinecolor\":\"#2a3f5f\",\"gridcolor\":\"white\",\"linecolor\":\"white\",\"minorgridcolor\":\"white\",\"startlinecolor\":\"#2a3f5f\"},\"type\":\"carpet\"}],\"table\":[{\"cells\":{\"fill\":{\"color\":\"#EBF0F8\"},\"line\":{\"color\":\"white\"}},\"header\":{\"fill\":{\"color\":\"#C8D4E3\"},\"line\":{\"color\":\"white\"}},\"type\":\"table\"}],\"barpolar\":[{\"marker\":{\"line\":{\"color\":\"#E5ECF6\",\"width\":0.5},\"pattern\":{\"fillmode\":\"overlay\",\"size\":10,\"solidity\":0.2}},\"type\":\"barpolar\"}],\"pie\":[{\"automargin\":true,\"type\":\"pie\"}]},\"layout\":{\"autotypenumbers\":\"strict\",\"colorway\":[\"#636efa\",\"#EF553B\",\"#00cc96\",\"#ab63fa\",\"#FFA15A\",\"#19d3f3\",\"#FF6692\",\"#B6E880\",\"#FF97FF\",\"#FECB52\"],\"font\":{\"color\":\"#2a3f5f\"},\"hovermode\":\"closest\",\"hoverlabel\":{\"align\":\"left\"},\"paper_bgcolor\":\"white\",\"plot_bgcolor\":\"#E5ECF6\",\"polar\":{\"bgcolor\":\"#E5ECF6\",\"angularaxis\":{\"gridcolor\":\"white\",\"linecolor\":\"white\",\"ticks\":\"\"},\"radialaxis\":{\"gridcolor\":\"white\",\"linecolor\":\"white\",\"ticks\":\"\"}},\"ternary\":{\"bgcolor\":\"#E5ECF6\",\"aaxis\":{\"gridcolor\":\"white\",\"linecolor\":\"white\",\"ticks\":\"\"},\"baxis\":{\"gridcolor\":\"white\",\"linecolor\":\"white\",\"ticks\":\"\"},\"caxis\":{\"gridcolor\":\"white\",\"linecolor\":\"white\",\"ticks\":\"\"}},\"coloraxis\":{\"colorbar\":{\"outlinewidth\":0,\"ticks\":\"\"}},\"colorscale\":{\"sequential\":[[0.0,\"#0d0887\"],[0.1111111111111111,\"#46039f\"],[0.2222222222222222,\"#7201a8\"],[0.3333333333333333,\"#9c179e\"],[0.4444444444444444,\"#bd3786\"],[0.5555555555555556,\"#d8576b\"],[0.6666666666666666,\"#ed7953\"],[0.7777777777777778,\"#fb9f3a\"],[0.8888888888888888,\"#fdca26\"],[1.0,\"#f0f921\"]],\"sequentialminus\":[[0.0,\"#0d0887\"],[0.1111111111111111,\"#46039f\"],[0.2222222222222222,\"#7201a8\"],[0.3333333333333333,\"#9c179e\"],[0.4444444444444444,\"#bd3786\"],[0.5555555555555556,\"#d8576b\"],[0.6666666666666666,\"#ed7953\"],[0.7777777777777778,\"#fb9f3a\"],[0.8888888888888888,\"#fdca26\"],[1.0,\"#f0f921\"]],\"diverging\":[[0,\"#8e0152\"],[0.1,\"#c51b7d\"],[0.2,\"#de77ae\"],[0.3,\"#f1b6da\"],[0.4,\"#fde0ef\"],[0.5,\"#f7f7f7\"],[0.6,\"#e6f5d0\"],[0.7,\"#b8e186\"],[0.8,\"#7fbc41\"],[0.9,\"#4d9221\"],[1,\"#276419\"]]},\"xaxis\":{\"gridcolor\":\"white\",\"linecolor\":\"white\",\"ticks\":\"\",\"title\":{\"standoff\":15},\"zerolinecolor\":\"white\",\"automargin\":true,\"zerolinewidth\":2},\"yaxis\":{\"gridcolor\":\"white\",\"linecolor\":\"white\",\"ticks\":\"\",\"title\":{\"standoff\":15},\"zerolinecolor\":\"white\",\"automargin\":true,\"zerolinewidth\":2},\"scene\":{\"xaxis\":{\"backgroundcolor\":\"#E5ECF6\",\"gridcolor\":\"white\",\"linecolor\":\"white\",\"showbackground\":true,\"ticks\":\"\",\"zerolinecolor\":\"white\",\"gridwidth\":2},\"yaxis\":{\"backgroundcolor\":\"#E5ECF6\",\"gridcolor\":\"white\",\"linecolor\":\"white\",\"showbackground\":true,\"ticks\":\"\",\"zerolinecolor\":\"white\",\"gridwidth\":2},\"zaxis\":{\"backgroundcolor\":\"#E5ECF6\",\"gridcolor\":\"white\",\"linecolor\":\"white\",\"showbackground\":true,\"ticks\":\"\",\"zerolinecolor\":\"white\",\"gridwidth\":2}},\"shapedefaults\":{\"line\":{\"color\":\"#2a3f5f\"}},\"annotationdefaults\":{\"arrowcolor\":\"#2a3f5f\",\"arrowhead\":0,\"arrowwidth\":1},\"geo\":{\"bgcolor\":\"white\",\"landcolor\":\"#E5ECF6\",\"subunitcolor\":\"white\",\"showland\":true,\"showlakes\":true,\"lakecolor\":\"white\"},\"title\":{\"x\":0.05},\"mapbox\":{\"style\":\"light\"}}},\"xaxis\":{\"anchor\":\"y\",\"domain\":[0.0,1.0],\"title\":{\"text\":\"year\"}},\"yaxis\":{\"anchor\":\"x\",\"domain\":[0.0,1.0],\"title\":{\"text\":\"number of articles\"}},\"legend\":{\"tracegroupgap\":0},\"title\":{\"text\":\"Rank of years\"},\"barmode\":\"relative\"},                        {\"responsive\": true}                    ).then(function(){\n",
       "                            \n",
       "var gd = document.getElementById('273961ff-4912-46eb-984a-baf4139ed47f');\n",
       "var x = new MutationObserver(function (mutations, observer) {{\n",
       "        var display = window.getComputedStyle(gd).display;\n",
       "        if (!display || display === 'none') {{\n",
       "            console.log([gd, 'removed!']);\n",
       "            Plotly.purge(gd);\n",
       "            observer.disconnect();\n",
       "        }}\n",
       "}});\n",
       "\n",
       "// Listen for the removal of the full notebook cells\n",
       "var notebookContainer = gd.closest('#notebook-container');\n",
       "if (notebookContainer) {{\n",
       "    x.observe(notebookContainer, {childList: true});\n",
       "}}\n",
       "\n",
       "// Listen for the clearing of the current output cell\n",
       "var outputEl = gd.closest('.output');\n",
       "if (outputEl) {{\n",
       "    x.observe(outputEl, {childList: true});\n",
       "}}\n",
       "\n",
       "                        })                };                });            </script>        </div>"
      ]
     },
     "metadata": {},
     "output_type": "display_data"
    }
   ],
   "source": [
    "keys = list(map(lambda x: str(int(x)), years_data.value_counts().sort_values(ascending=False).index[:10]))\n",
    "values = list(years_data.value_counts().sort_values(ascending=False).values[:10])\n",
    "\n",
    "values.append(years_data.value_counts().sort_values(ascending=False).values[10:].sum())\n",
    "keys.append('other') # весего уникальных значение в year 112, виден дисбаланс\n",
    "\n",
    "fig = px.bar(x=keys, y=values, title = 'Rank of years', text_auto='.2s', labels={'x': 'year', 'y': 'number of articles'})\n",
    "\n",
    "fig.update_traces(marker_color='rgb(158,202,225)', marker_line_color='rgb(8,48,107)',\n",
    "                  marker_line_width=1.5, opacity=0.7)\n",
    "\n",
    "fig.show();"
   ]
  },
  {
   "cell_type": "code",
   "execution_count": 23,
   "id": "20984ac7",
   "metadata": {
    "execution": {
     "iopub.execute_input": "2022-10-01T03:53:23.666718Z",
     "iopub.status.busy": "2022-10-01T03:53:23.666417Z",
     "iopub.status.idle": "2022-10-01T03:53:23.676279Z",
     "shell.execute_reply": "2022-10-01T03:53:23.675112Z"
    },
    "papermill": {
     "duration": 0.031937,
     "end_time": "2022-10-01T03:53:23.678374",
     "exception": false,
     "start_time": "2022-10-01T03:53:23.646437",
     "status": "completed"
    },
    "tags": []
   },
   "outputs": [
    {
     "data": {
      "text/plain": [
       "(13,)"
      ]
     },
     "execution_count": 23,
     "metadata": {},
     "output_type": "execute_result"
    }
   ],
   "source": [
    "years_data.value_counts()[years_data.value_counts() == 1].shape # 13 значений по 1 статье"
   ]
  },
  {
   "cell_type": "markdown",
   "id": "53d579b5",
   "metadata": {
    "papermill": {
     "duration": 0.019167,
     "end_time": "2022-10-01T03:53:23.717031",
     "exception": false,
     "start_time": "2022-10-01T03:53:23.697864",
     "status": "completed"
    },
    "tags": []
   },
   "source": [
    "# Authors"
   ]
  },
  {
   "cell_type": "code",
   "execution_count": 24,
   "id": "8924d49f",
   "metadata": {
    "execution": {
     "iopub.execute_input": "2022-10-01T03:53:23.756947Z",
     "iopub.status.busy": "2022-10-01T03:53:23.756336Z",
     "iopub.status.idle": "2022-10-01T03:53:23.764036Z",
     "shell.execute_reply": "2022-10-01T03:53:23.763119Z"
    },
    "papermill": {
     "duration": 0.0299,
     "end_time": "2022-10-01T03:53:23.765989",
     "exception": false,
     "start_time": "2022-10-01T03:53:23.736089",
     "status": "completed"
    },
    "tags": []
   },
   "outputs": [
    {
     "data": {
      "text/plain": [
       "0         Max Völkel; Markus Krötzsch; Denny Vrandecic; ...\n",
       "1                                          Riccardo Pucella\n",
       "2                                  Haiou Shen; Hantao Zhang\n",
       "3                                             Andrew C. Lee\n",
       "4                    Piotr J. Gmytrasiewicz; Prashant Doshi\n",
       "                                ...                        \n",
       "372561    Rhys Heffernan; Yuedong Yang; Kuldip K. Paliwa...\n",
       "372580    Robert Kleffner; Jeff Flatten; Andrew Leaver-F...\n",
       "372584    Nikolaos K. Chlis; F. Alexander Wolf; Fabian J...\n",
       "372585    Feng Zeng; Zicheng Wang; Ying Wang; Jizhong Zh...\n",
       "372593    Nicolas Städler; Frank Dondelinger; Steven M. ...\n",
       "Name: author_names, Length: 49995, dtype: object"
      ]
     },
     "execution_count": 24,
     "metadata": {},
     "output_type": "execute_result"
    }
   ],
   "source": [
    "data.author_names"
   ]
  },
  {
   "cell_type": "code",
   "execution_count": 25,
   "id": "eb15ece4",
   "metadata": {
    "execution": {
     "iopub.execute_input": "2022-10-01T03:53:23.806824Z",
     "iopub.status.busy": "2022-10-01T03:53:23.805996Z",
     "iopub.status.idle": "2022-10-01T03:53:23.819850Z",
     "shell.execute_reply": "2022-10-01T03:53:23.818861Z"
    },
    "papermill": {
     "duration": 0.036546,
     "end_time": "2022-10-01T03:53:23.821821",
     "exception": false,
     "start_time": "2022-10-01T03:53:23.785275",
     "status": "completed"
    },
    "tags": []
   },
   "outputs": [
    {
     "data": {
      "text/plain": [
       "635"
      ]
     },
     "execution_count": 25,
     "metadata": {},
     "output_type": "execute_result"
    }
   ],
   "source": [
    "author_names = data.author_names\n",
    "author_names.isnull().sum()"
   ]
  },
  {
   "cell_type": "code",
   "execution_count": 26,
   "id": "e4d63910",
   "metadata": {
    "execution": {
     "iopub.execute_input": "2022-10-01T03:53:23.861578Z",
     "iopub.status.busy": "2022-10-01T03:53:23.861232Z",
     "iopub.status.idle": "2022-10-01T03:53:23.874162Z",
     "shell.execute_reply": "2022-10-01T03:53:23.873229Z"
    },
    "papermill": {
     "duration": 0.035216,
     "end_time": "2022-10-01T03:53:23.876156",
     "exception": false,
     "start_time": "2022-10-01T03:53:23.840940",
     "status": "completed"
    },
    "tags": []
   },
   "outputs": [],
   "source": [
    "author_names.fillna('', inplace=True)"
   ]
  },
  {
   "cell_type": "code",
   "execution_count": 27,
   "id": "9feb916e",
   "metadata": {
    "execution": {
     "iopub.execute_input": "2022-10-01T03:53:23.916199Z",
     "iopub.status.busy": "2022-10-01T03:53:23.915511Z",
     "iopub.status.idle": "2022-10-01T03:53:23.928576Z",
     "shell.execute_reply": "2022-10-01T03:53:23.927618Z"
    },
    "papermill": {
     "duration": 0.035293,
     "end_time": "2022-10-01T03:53:23.930565",
     "exception": false,
     "start_time": "2022-10-01T03:53:23.895272",
     "status": "completed"
    },
    "tags": []
   },
   "outputs": [
    {
     "data": {
      "text/plain": [
       "0"
      ]
     },
     "execution_count": 27,
     "metadata": {},
     "output_type": "execute_result"
    }
   ],
   "source": [
    "author_names.isnull().sum()"
   ]
  },
  {
   "cell_type": "code",
   "execution_count": 28,
   "id": "eb930129",
   "metadata": {
    "execution": {
     "iopub.execute_input": "2022-10-01T03:53:23.971465Z",
     "iopub.status.busy": "2022-10-01T03:53:23.971157Z",
     "iopub.status.idle": "2022-10-01T03:53:23.976795Z",
     "shell.execute_reply": "2022-10-01T03:53:23.975895Z"
    },
    "papermill": {
     "duration": 0.028029,
     "end_time": "2022-10-01T03:53:23.978728",
     "exception": false,
     "start_time": "2022-10-01T03:53:23.950699",
     "status": "completed"
    },
    "tags": []
   },
   "outputs": [
    {
     "data": {
      "text/plain": [
       "'Max Völkel; Markus Krötzsch; Denny Vrandecic; Heiko Haller; Rudi Studer'"
      ]
     },
     "execution_count": 28,
     "metadata": {},
     "output_type": "execute_result"
    }
   ],
   "source": [
    "author_names[0]"
   ]
  },
  {
   "cell_type": "code",
   "execution_count": 29,
   "id": "e05e4ac7",
   "metadata": {
    "execution": {
     "iopub.execute_input": "2022-10-01T03:53:24.019131Z",
     "iopub.status.busy": "2022-10-01T03:53:24.018355Z",
     "iopub.status.idle": "2022-10-01T03:53:24.025590Z",
     "shell.execute_reply": "2022-10-01T03:53:24.024609Z"
    },
    "papermill": {
     "duration": 0.029529,
     "end_time": "2022-10-01T03:53:24.027646",
     "exception": false,
     "start_time": "2022-10-01T03:53:23.998117",
     "status": "completed"
    },
    "tags": []
   },
   "outputs": [
    {
     "data": {
      "text/plain": [
       "['Max Völkel',\n",
       " 'Markus Krötzsch',\n",
       " 'Denny Vrandecic',\n",
       " 'Heiko Haller',\n",
       " 'Rudi Studer']"
      ]
     },
     "execution_count": 29,
     "metadata": {},
     "output_type": "execute_result"
    }
   ],
   "source": [
    "list(map(lambda x: x.strip(), data.author_names[0].split(';')))"
   ]
  },
  {
   "cell_type": "code",
   "execution_count": 30,
   "id": "0b7eb839",
   "metadata": {
    "execution": {
     "iopub.execute_input": "2022-10-01T03:53:24.068889Z",
     "iopub.status.busy": "2022-10-01T03:53:24.068088Z",
     "iopub.status.idle": "2022-10-01T03:53:24.073169Z",
     "shell.execute_reply": "2022-10-01T03:53:24.072224Z"
    },
    "papermill": {
     "duration": 0.027628,
     "end_time": "2022-10-01T03:53:24.075109",
     "exception": false,
     "start_time": "2022-10-01T03:53:24.047481",
     "status": "completed"
    },
    "tags": []
   },
   "outputs": [],
   "source": [
    "def preparation_func(string):\n",
    "    '''Разделяем строку по ';' и убираем пробелы по краям у каждого автора'''\n",
    "    return list(map(lambda x: x.strip(), string.split(';')))"
   ]
  },
  {
   "cell_type": "code",
   "execution_count": 31,
   "id": "cba25b9f",
   "metadata": {
    "execution": {
     "iopub.execute_input": "2022-10-01T03:53:24.115375Z",
     "iopub.status.busy": "2022-10-01T03:53:24.114584Z",
     "iopub.status.idle": "2022-10-01T03:53:24.122167Z",
     "shell.execute_reply": "2022-10-01T03:53:24.121191Z"
    },
    "papermill": {
     "duration": 0.029901,
     "end_time": "2022-10-01T03:53:24.124205",
     "exception": false,
     "start_time": "2022-10-01T03:53:24.094304",
     "status": "completed"
    },
    "tags": []
   },
   "outputs": [
    {
     "data": {
      "text/plain": [
       "0         Max Völkel; Markus Krötzsch; Denny Vrandecic; ...\n",
       "1                                          Riccardo Pucella\n",
       "2                                  Haiou Shen; Hantao Zhang\n",
       "3                                             Andrew C. Lee\n",
       "4                    Piotr J. Gmytrasiewicz; Prashant Doshi\n",
       "                                ...                        \n",
       "372561    Rhys Heffernan; Yuedong Yang; Kuldip K. Paliwa...\n",
       "372580    Robert Kleffner; Jeff Flatten; Andrew Leaver-F...\n",
       "372584    Nikolaos K. Chlis; F. Alexander Wolf; Fabian J...\n",
       "372585    Feng Zeng; Zicheng Wang; Ying Wang; Jizhong Zh...\n",
       "372593    Nicolas Städler; Frank Dondelinger; Steven M. ...\n",
       "Name: author_names, Length: 49995, dtype: object"
      ]
     },
     "execution_count": 31,
     "metadata": {},
     "output_type": "execute_result"
    }
   ],
   "source": [
    "author_names"
   ]
  },
  {
   "cell_type": "code",
   "execution_count": 32,
   "id": "351d15b0",
   "metadata": {
    "execution": {
     "iopub.execute_input": "2022-10-01T03:53:24.165190Z",
     "iopub.status.busy": "2022-10-01T03:53:24.164381Z",
     "iopub.status.idle": "2022-10-01T03:53:24.582567Z",
     "shell.execute_reply": "2022-10-01T03:53:24.581562Z"
    },
    "papermill": {
     "duration": 0.441382,
     "end_time": "2022-10-01T03:53:24.585171",
     "exception": false,
     "start_time": "2022-10-01T03:53:24.143789",
     "status": "completed"
    },
    "tags": []
   },
   "outputs": [],
   "source": [
    "author_names = author_names.apply(lambda x: preparation_func(x))"
   ]
  },
  {
   "cell_type": "code",
   "execution_count": 33,
   "id": "9dc5eedb",
   "metadata": {
    "execution": {
     "iopub.execute_input": "2022-10-01T03:53:24.630769Z",
     "iopub.status.busy": "2022-10-01T03:53:24.629875Z",
     "iopub.status.idle": "2022-10-01T03:53:24.636786Z",
     "shell.execute_reply": "2022-10-01T03:53:24.635801Z"
    },
    "papermill": {
     "duration": 0.03368,
     "end_time": "2022-10-01T03:53:24.638810",
     "exception": false,
     "start_time": "2022-10-01T03:53:24.605130",
     "status": "completed"
    },
    "tags": []
   },
   "outputs": [
    {
     "data": {
      "text/plain": [
       "['Max Völkel',\n",
       " 'Markus Krötzsch',\n",
       " 'Denny Vrandecic',\n",
       " 'Heiko Haller',\n",
       " 'Rudi Studer']"
      ]
     },
     "execution_count": 33,
     "metadata": {},
     "output_type": "execute_result"
    }
   ],
   "source": [
    "author_names[0]"
   ]
  },
  {
   "cell_type": "code",
   "execution_count": 34,
   "id": "5f347bca",
   "metadata": {
    "execution": {
     "iopub.execute_input": "2022-10-01T03:53:24.679875Z",
     "iopub.status.busy": "2022-10-01T03:53:24.678998Z",
     "iopub.status.idle": "2022-10-01T03:53:24.686258Z",
     "shell.execute_reply": "2022-10-01T03:53:24.685397Z"
    },
    "papermill": {
     "duration": 0.029606,
     "end_time": "2022-10-01T03:53:24.688160",
     "exception": false,
     "start_time": "2022-10-01T03:53:24.658554",
     "status": "completed"
    },
    "tags": []
   },
   "outputs": [],
   "source": [
    "data.author_names = author_names"
   ]
  },
  {
   "cell_type": "code",
   "execution_count": 35,
   "id": "423395ed",
   "metadata": {
    "execution": {
     "iopub.execute_input": "2022-10-01T03:53:24.729435Z",
     "iopub.status.busy": "2022-10-01T03:53:24.728608Z",
     "iopub.status.idle": "2022-10-01T03:53:24.794140Z",
     "shell.execute_reply": "2022-10-01T03:53:24.793223Z"
    },
    "papermill": {
     "duration": 0.088382,
     "end_time": "2022-10-01T03:53:24.796434",
     "exception": false,
     "start_time": "2022-10-01T03:53:24.708052",
     "status": "completed"
    },
    "tags": []
   },
   "outputs": [],
   "source": [
    "authors = defaultdict(int)\n",
    "for lst in author_names.values:\n",
    "    for elem in lst:\n",
    "        authors[elem] += 1 "
   ]
  },
  {
   "cell_type": "code",
   "execution_count": 36,
   "id": "bfb94e6a",
   "metadata": {
    "execution": {
     "iopub.execute_input": "2022-10-01T03:53:24.838194Z",
     "iopub.status.busy": "2022-10-01T03:53:24.837299Z",
     "iopub.status.idle": "2022-10-01T03:53:24.843020Z",
     "shell.execute_reply": "2022-10-01T03:53:24.842163Z"
    },
    "papermill": {
     "duration": 0.028503,
     "end_time": "2022-10-01T03:53:24.845042",
     "exception": false,
     "start_time": "2022-10-01T03:53:24.816539",
     "status": "completed"
    },
    "tags": []
   },
   "outputs": [],
   "source": [
    "authors[''] = 0"
   ]
  },
  {
   "cell_type": "code",
   "execution_count": 37,
   "id": "07f811e9",
   "metadata": {
    "execution": {
     "iopub.execute_input": "2022-10-01T03:53:24.886408Z",
     "iopub.status.busy": "2022-10-01T03:53:24.885579Z",
     "iopub.status.idle": "2022-10-01T03:53:24.897748Z",
     "shell.execute_reply": "2022-10-01T03:53:24.896752Z"
    },
    "papermill": {
     "duration": 0.03503,
     "end_time": "2022-10-01T03:53:24.899799",
     "exception": false,
     "start_time": "2022-10-01T03:53:24.864769",
     "status": "completed"
    },
    "tags": []
   },
   "outputs": [
    {
     "data": {
      "text/plain": [
       "[19, 19, 20, 21, 23, 23, 26, 27, 27, 72]"
      ]
     },
     "execution_count": 37,
     "metadata": {},
     "output_type": "execute_result"
    }
   ],
   "source": [
    "sorted(authors.values())[-10:]"
   ]
  },
  {
   "cell_type": "code",
   "execution_count": 38,
   "id": "e7c7bb5e",
   "metadata": {
    "execution": {
     "iopub.execute_input": "2022-10-01T03:53:24.940757Z",
     "iopub.status.busy": "2022-10-01T03:53:24.940454Z",
     "iopub.status.idle": "2022-10-01T03:53:25.008172Z",
     "shell.execute_reply": "2022-10-01T03:53:25.007208Z"
    },
    "papermill": {
     "duration": 0.090556,
     "end_time": "2022-10-01T03:53:25.010286",
     "exception": false,
     "start_time": "2022-10-01T03:53:24.919730",
     "status": "completed"
    },
    "tags": []
   },
   "outputs": [
    {
     "data": {
      "text/plain": [
       "['İsmail Dinçer',\n",
       " 'İsmail Yaslan',\n",
       " 'Łukasz Kiedrowski',\n",
       " 'Łukasz Matuszak',\n",
       " 'Łukasz Sosnowski',\n",
       " 'łukasz kaczmarczyk',\n",
       " 'Şakir Şimşir',\n",
       " 'Şebnem Düzgün',\n",
       " 'Štefko Miklavič',\n",
       " '耕一 平田']"
      ]
     },
     "execution_count": 38,
     "metadata": {},
     "output_type": "execute_result"
    }
   ],
   "source": [
    "sorted(authors.keys())[-10:]"
   ]
  },
  {
   "cell_type": "markdown",
   "id": "c56bc4d8",
   "metadata": {
    "papermill": {
     "duration": 0.019536,
     "end_time": "2022-10-01T03:53:25.050051",
     "exception": false,
     "start_time": "2022-10-01T03:53:25.030515",
     "status": "completed"
    },
    "tags": []
   },
   "source": [
    "## Имена могут быть записаны по-разному, поэтому обратимся к id авторов"
   ]
  },
  {
   "cell_type": "code",
   "execution_count": 39,
   "id": "540a91ec",
   "metadata": {
    "execution": {
     "iopub.execute_input": "2022-10-01T03:53:25.091595Z",
     "iopub.status.busy": "2022-10-01T03:53:25.090624Z",
     "iopub.status.idle": "2022-10-01T03:53:25.104730Z",
     "shell.execute_reply": "2022-10-01T03:53:25.103700Z"
    },
    "papermill": {
     "duration": 0.037056,
     "end_time": "2022-10-01T03:53:25.106731",
     "exception": false,
     "start_time": "2022-10-01T03:53:25.069675",
     "status": "completed"
    },
    "tags": []
   },
   "outputs": [
    {
     "data": {
      "text/plain": [
       "635"
      ]
     },
     "execution_count": 39,
     "metadata": {},
     "output_type": "execute_result"
    }
   ],
   "source": [
    "author_ids = data.author_ids\n",
    "author_ids.isnull().sum()"
   ]
  },
  {
   "cell_type": "code",
   "execution_count": 40,
   "id": "b2d5a439",
   "metadata": {
    "execution": {
     "iopub.execute_input": "2022-10-01T03:53:25.147550Z",
     "iopub.status.busy": "2022-10-01T03:53:25.147251Z",
     "iopub.status.idle": "2022-10-01T03:53:25.160749Z",
     "shell.execute_reply": "2022-10-01T03:53:25.159911Z"
    },
    "papermill": {
     "duration": 0.036188,
     "end_time": "2022-10-01T03:53:25.162695",
     "exception": false,
     "start_time": "2022-10-01T03:53:25.126507",
     "status": "completed"
    },
    "tags": []
   },
   "outputs": [],
   "source": [
    "author_ids = author_ids.fillna('')"
   ]
  },
  {
   "cell_type": "code",
   "execution_count": 41,
   "id": "7af04de7",
   "metadata": {
    "execution": {
     "iopub.execute_input": "2022-10-01T03:53:25.204384Z",
     "iopub.status.busy": "2022-10-01T03:53:25.203435Z",
     "iopub.status.idle": "2022-10-01T03:53:25.297199Z",
     "shell.execute_reply": "2022-10-01T03:53:25.296229Z"
    },
    "papermill": {
     "duration": 0.117,
     "end_time": "2022-10-01T03:53:25.299743",
     "exception": false,
     "start_time": "2022-10-01T03:53:25.182743",
     "status": "completed"
    },
    "tags": []
   },
   "outputs": [],
   "source": [
    "author_ids = author_ids.apply(lambda x: preparation_func(x))"
   ]
  },
  {
   "cell_type": "code",
   "execution_count": 42,
   "id": "16392cf1",
   "metadata": {
    "execution": {
     "iopub.execute_input": "2022-10-01T03:53:25.341975Z",
     "iopub.status.busy": "2022-10-01T03:53:25.341094Z",
     "iopub.status.idle": "2022-10-01T03:53:25.352103Z",
     "shell.execute_reply": "2022-10-01T03:53:25.351101Z"
    },
    "papermill": {
     "duration": 0.033989,
     "end_time": "2022-10-01T03:53:25.354114",
     "exception": false,
     "start_time": "2022-10-01T03:53:25.320125",
     "status": "completed"
    },
    "tags": []
   },
   "outputs": [
    {
     "data": {
      "text/plain": [
       "0    [53f47915dabfaefedbbb728f, 53f44a27dabfaedf435...\n",
       "1                                                   []\n",
       "2    [53f4469bdabfaedd74def186, 54054904dabfae450f3...\n",
       "3                                                   []\n",
       "4                         [, 5406cb05dabfae44f085c48f]\n",
       "Name: author_ids, dtype: object"
      ]
     },
     "execution_count": 42,
     "metadata": {},
     "output_type": "execute_result"
    }
   ],
   "source": [
    "data.author_ids = author_ids\n",
    "data.author_ids.head()"
   ]
  },
  {
   "cell_type": "code",
   "execution_count": 43,
   "id": "fb2e2eee",
   "metadata": {
    "execution": {
     "iopub.execute_input": "2022-10-01T03:53:25.396405Z",
     "iopub.status.busy": "2022-10-01T03:53:25.395470Z",
     "iopub.status.idle": "2022-10-01T03:53:25.456055Z",
     "shell.execute_reply": "2022-10-01T03:53:25.455113Z"
    },
    "papermill": {
     "duration": 0.08394,
     "end_time": "2022-10-01T03:53:25.458252",
     "exception": false,
     "start_time": "2022-10-01T03:53:25.374312",
     "status": "completed"
    },
    "tags": []
   },
   "outputs": [],
   "source": [
    "author_ids_dict = defaultdict(int)\n",
    "for lst in author_ids.values:\n",
    "    for elem in lst:\n",
    "        author_ids_dict[elem] += 1 "
   ]
  },
  {
   "cell_type": "code",
   "execution_count": 44,
   "id": "2b99906f",
   "metadata": {
    "execution": {
     "iopub.execute_input": "2022-10-01T03:53:25.500878Z",
     "iopub.status.busy": "2022-10-01T03:53:25.499985Z",
     "iopub.status.idle": "2022-10-01T03:53:25.567642Z",
     "shell.execute_reply": "2022-10-01T03:53:25.566513Z"
    },
    "papermill": {
     "duration": 0.091561,
     "end_time": "2022-10-01T03:53:25.570422",
     "exception": false,
     "start_time": "2022-10-01T03:53:25.478861",
     "status": "completed"
    },
    "tags": []
   },
   "outputs": [
    {
     "data": {
      "text/plain": [
       "array([''], dtype='<U24')"
      ]
     },
     "execution_count": 44,
     "metadata": {},
     "output_type": "execute_result"
    }
   ],
   "source": [
    "keys = np.array(list(author_ids_dict.keys()))\n",
    "keys[np.array(list(map(lambda x: len(x), keys))) < 5] # смотрим ключи длинной меньше 5"
   ]
  },
  {
   "cell_type": "code",
   "execution_count": 45,
   "id": "cf111f57",
   "metadata": {
    "execution": {
     "iopub.execute_input": "2022-10-01T03:53:25.613168Z",
     "iopub.status.busy": "2022-10-01T03:53:25.612496Z",
     "iopub.status.idle": "2022-10-01T03:53:25.619140Z",
     "shell.execute_reply": "2022-10-01T03:53:25.618126Z"
    },
    "papermill": {
     "duration": 0.030344,
     "end_time": "2022-10-01T03:53:25.621165",
     "exception": false,
     "start_time": "2022-10-01T03:53:25.590821",
     "status": "completed"
    },
    "tags": []
   },
   "outputs": [
    {
     "data": {
      "text/plain": [
       "16868"
      ]
     },
     "execution_count": 45,
     "metadata": {},
     "output_type": "execute_result"
    }
   ],
   "source": [
    "author_ids_dict.pop('')"
   ]
  },
  {
   "cell_type": "code",
   "execution_count": 46,
   "id": "2bb7df21",
   "metadata": {
    "execution": {
     "iopub.execute_input": "2022-10-01T03:53:25.662875Z",
     "iopub.status.busy": "2022-10-01T03:53:25.662147Z",
     "iopub.status.idle": "2022-10-01T03:53:25.667979Z",
     "shell.execute_reply": "2022-10-01T03:53:25.667073Z"
    },
    "papermill": {
     "duration": 0.028791,
     "end_time": "2022-10-01T03:53:25.670057",
     "exception": false,
     "start_time": "2022-10-01T03:53:25.641266",
     "status": "completed"
    },
    "tags": []
   },
   "outputs": [
    {
     "data": {
      "text/plain": [
       "103108"
      ]
     },
     "execution_count": 46,
     "metadata": {},
     "output_type": "execute_result"
    }
   ],
   "source": [
    "len(author_ids_dict.values())"
   ]
  },
  {
   "cell_type": "code",
   "execution_count": 47,
   "id": "15723a05",
   "metadata": {
    "execution": {
     "iopub.execute_input": "2022-10-01T03:53:25.712820Z",
     "iopub.status.busy": "2022-10-01T03:53:25.711325Z",
     "iopub.status.idle": "2022-10-01T03:53:25.724378Z",
     "shell.execute_reply": "2022-10-01T03:53:25.723237Z"
    },
    "papermill": {
     "duration": 0.036393,
     "end_time": "2022-10-01T03:53:25.726477",
     "exception": false,
     "start_time": "2022-10-01T03:53:25.690084",
     "status": "completed"
    },
    "tags": []
   },
   "outputs": [
    {
     "data": {
      "text/plain": [
       "[13, 14, 14, 15, 15, 16, 20, 21, 27, 72]"
      ]
     },
     "execution_count": 47,
     "metadata": {},
     "output_type": "execute_result"
    }
   ],
   "source": [
    "sorted(author_ids_dict.values())[-10:] # топ 10 авторов по количеству статей"
   ]
  },
  {
   "cell_type": "code",
   "execution_count": 48,
   "id": "54d45b2d",
   "metadata": {
    "execution": {
     "iopub.execute_input": "2022-10-01T03:53:25.768530Z",
     "iopub.status.busy": "2022-10-01T03:53:25.767719Z",
     "iopub.status.idle": "2022-10-01T03:53:25.782839Z",
     "shell.execute_reply": "2022-10-01T03:53:25.781669Z"
    },
    "papermill": {
     "duration": 0.038291,
     "end_time": "2022-10-01T03:53:25.784927",
     "exception": false,
     "start_time": "2022-10-01T03:53:25.746636",
     "status": "completed"
    },
    "tags": []
   },
   "outputs": [
    {
     "data": {
      "text/plain": [
       "89749"
      ]
     },
     "execution_count": 48,
     "metadata": {},
     "output_type": "execute_result"
    }
   ],
   "source": [
    "(np.array(list((author_ids_dict.values()))) == 1).sum() # почти 90к авторов с 1 статьей"
   ]
  },
  {
   "cell_type": "code",
   "execution_count": 49,
   "id": "6140a3cc",
   "metadata": {
    "execution": {
     "iopub.execute_input": "2022-10-01T03:53:25.828589Z",
     "iopub.status.busy": "2022-10-01T03:53:25.827039Z",
     "iopub.status.idle": "2022-10-01T03:53:25.847495Z",
     "shell.execute_reply": "2022-10-01T03:53:25.846619Z"
    },
    "papermill": {
     "duration": 0.04387,
     "end_time": "2022-10-01T03:53:25.849447",
     "exception": false,
     "start_time": "2022-10-01T03:53:25.805577",
     "status": "completed"
    },
    "tags": []
   },
   "outputs": [],
   "source": [
    "counter = defaultdict(int)\n",
    "for value in author_ids_dict.values():\n",
    "    counter[value] += 1"
   ]
  },
  {
   "cell_type": "code",
   "execution_count": 50,
   "id": "fa7744d6",
   "metadata": {
    "execution": {
     "iopub.execute_input": "2022-10-01T03:53:25.893801Z",
     "iopub.status.busy": "2022-10-01T03:53:25.893486Z",
     "iopub.status.idle": "2022-10-01T03:53:25.948509Z",
     "shell.execute_reply": "2022-10-01T03:53:25.947520Z"
    },
    "papermill": {
     "duration": 0.07992,
     "end_time": "2022-10-01T03:53:25.950498",
     "exception": false,
     "start_time": "2022-10-01T03:53:25.870578",
     "status": "completed"
    },
    "tags": []
   },
   "outputs": [
    {
     "data": {
      "text/html": [
       "<div>                            <div id=\"a568b497-9dae-4172-a7c0-5d4c4c7ff3c5\" class=\"plotly-graph-div\" style=\"height:800px; width:1600px;\"></div>            <script type=\"text/javascript\">                require([\"plotly\"], function(Plotly) {                    window.PLOTLYENV=window.PLOTLYENV || {};                                    if (document.getElementById(\"a568b497-9dae-4172-a7c0-5d4c4c7ff3c5\")) {                    Plotly.newPlot(                        \"a568b497-9dae-4172-a7c0-5d4c4c7ff3c5\",                        [{\"alignmentgroup\":\"True\",\"hovertemplate\":\"number of articles=%{x}<br>number of authors=%{y}<extra></extra>\",\"legendgroup\":\"\",\"marker\":{\"color\":\"rgb(158,202,225)\",\"pattern\":{\"shape\":\"\"},\"line\":{\"color\":\"rgb(8,48,107)\",\"width\":2}},\"name\":\"\",\"offsetgroup\":\"\",\"orientation\":\"v\",\"showlegend\":false,\"textposition\":\"auto\",\"x\":[1,3,2,4,6,7,5,14,10,72,12,8,11,21,16,13,15,9,20,27],\"xaxis\":\"x\",\"y\":[89749,2481,9142,951,194,88,385,2,18,1,9,45,14,1,1,5,2,18,1,1],\"yaxis\":\"y\",\"type\":\"bar\",\"opacity\":0.7}],                        {\"template\":{\"data\":{\"histogram2dcontour\":[{\"type\":\"histogram2dcontour\",\"colorbar\":{\"outlinewidth\":0,\"ticks\":\"\"},\"colorscale\":[[0.0,\"#0d0887\"],[0.1111111111111111,\"#46039f\"],[0.2222222222222222,\"#7201a8\"],[0.3333333333333333,\"#9c179e\"],[0.4444444444444444,\"#bd3786\"],[0.5555555555555556,\"#d8576b\"],[0.6666666666666666,\"#ed7953\"],[0.7777777777777778,\"#fb9f3a\"],[0.8888888888888888,\"#fdca26\"],[1.0,\"#f0f921\"]]}],\"choropleth\":[{\"type\":\"choropleth\",\"colorbar\":{\"outlinewidth\":0,\"ticks\":\"\"}}],\"histogram2d\":[{\"type\":\"histogram2d\",\"colorbar\":{\"outlinewidth\":0,\"ticks\":\"\"},\"colorscale\":[[0.0,\"#0d0887\"],[0.1111111111111111,\"#46039f\"],[0.2222222222222222,\"#7201a8\"],[0.3333333333333333,\"#9c179e\"],[0.4444444444444444,\"#bd3786\"],[0.5555555555555556,\"#d8576b\"],[0.6666666666666666,\"#ed7953\"],[0.7777777777777778,\"#fb9f3a\"],[0.8888888888888888,\"#fdca26\"],[1.0,\"#f0f921\"]]}],\"heatmap\":[{\"type\":\"heatmap\",\"colorbar\":{\"outlinewidth\":0,\"ticks\":\"\"},\"colorscale\":[[0.0,\"#0d0887\"],[0.1111111111111111,\"#46039f\"],[0.2222222222222222,\"#7201a8\"],[0.3333333333333333,\"#9c179e\"],[0.4444444444444444,\"#bd3786\"],[0.5555555555555556,\"#d8576b\"],[0.6666666666666666,\"#ed7953\"],[0.7777777777777778,\"#fb9f3a\"],[0.8888888888888888,\"#fdca26\"],[1.0,\"#f0f921\"]]}],\"heatmapgl\":[{\"type\":\"heatmapgl\",\"colorbar\":{\"outlinewidth\":0,\"ticks\":\"\"},\"colorscale\":[[0.0,\"#0d0887\"],[0.1111111111111111,\"#46039f\"],[0.2222222222222222,\"#7201a8\"],[0.3333333333333333,\"#9c179e\"],[0.4444444444444444,\"#bd3786\"],[0.5555555555555556,\"#d8576b\"],[0.6666666666666666,\"#ed7953\"],[0.7777777777777778,\"#fb9f3a\"],[0.8888888888888888,\"#fdca26\"],[1.0,\"#f0f921\"]]}],\"contourcarpet\":[{\"type\":\"contourcarpet\",\"colorbar\":{\"outlinewidth\":0,\"ticks\":\"\"}}],\"contour\":[{\"type\":\"contour\",\"colorbar\":{\"outlinewidth\":0,\"ticks\":\"\"},\"colorscale\":[[0.0,\"#0d0887\"],[0.1111111111111111,\"#46039f\"],[0.2222222222222222,\"#7201a8\"],[0.3333333333333333,\"#9c179e\"],[0.4444444444444444,\"#bd3786\"],[0.5555555555555556,\"#d8576b\"],[0.6666666666666666,\"#ed7953\"],[0.7777777777777778,\"#fb9f3a\"],[0.8888888888888888,\"#fdca26\"],[1.0,\"#f0f921\"]]}],\"surface\":[{\"type\":\"surface\",\"colorbar\":{\"outlinewidth\":0,\"ticks\":\"\"},\"colorscale\":[[0.0,\"#0d0887\"],[0.1111111111111111,\"#46039f\"],[0.2222222222222222,\"#7201a8\"],[0.3333333333333333,\"#9c179e\"],[0.4444444444444444,\"#bd3786\"],[0.5555555555555556,\"#d8576b\"],[0.6666666666666666,\"#ed7953\"],[0.7777777777777778,\"#fb9f3a\"],[0.8888888888888888,\"#fdca26\"],[1.0,\"#f0f921\"]]}],\"mesh3d\":[{\"type\":\"mesh3d\",\"colorbar\":{\"outlinewidth\":0,\"ticks\":\"\"}}],\"scatter\":[{\"fillpattern\":{\"fillmode\":\"overlay\",\"size\":10,\"solidity\":0.2},\"type\":\"scatter\"}],\"parcoords\":[{\"type\":\"parcoords\",\"line\":{\"colorbar\":{\"outlinewidth\":0,\"ticks\":\"\"}}}],\"scatterpolargl\":[{\"type\":\"scatterpolargl\",\"marker\":{\"colorbar\":{\"outlinewidth\":0,\"ticks\":\"\"}}}],\"bar\":[{\"error_x\":{\"color\":\"#2a3f5f\"},\"error_y\":{\"color\":\"#2a3f5f\"},\"marker\":{\"line\":{\"color\":\"#E5ECF6\",\"width\":0.5},\"pattern\":{\"fillmode\":\"overlay\",\"size\":10,\"solidity\":0.2}},\"type\":\"bar\"}],\"scattergeo\":[{\"type\":\"scattergeo\",\"marker\":{\"colorbar\":{\"outlinewidth\":0,\"ticks\":\"\"}}}],\"scatterpolar\":[{\"type\":\"scatterpolar\",\"marker\":{\"colorbar\":{\"outlinewidth\":0,\"ticks\":\"\"}}}],\"histogram\":[{\"marker\":{\"pattern\":{\"fillmode\":\"overlay\",\"size\":10,\"solidity\":0.2}},\"type\":\"histogram\"}],\"scattergl\":[{\"type\":\"scattergl\",\"marker\":{\"colorbar\":{\"outlinewidth\":0,\"ticks\":\"\"}}}],\"scatter3d\":[{\"type\":\"scatter3d\",\"line\":{\"colorbar\":{\"outlinewidth\":0,\"ticks\":\"\"}},\"marker\":{\"colorbar\":{\"outlinewidth\":0,\"ticks\":\"\"}}}],\"scattermapbox\":[{\"type\":\"scattermapbox\",\"marker\":{\"colorbar\":{\"outlinewidth\":0,\"ticks\":\"\"}}}],\"scatterternary\":[{\"type\":\"scatterternary\",\"marker\":{\"colorbar\":{\"outlinewidth\":0,\"ticks\":\"\"}}}],\"scattercarpet\":[{\"type\":\"scattercarpet\",\"marker\":{\"colorbar\":{\"outlinewidth\":0,\"ticks\":\"\"}}}],\"carpet\":[{\"aaxis\":{\"endlinecolor\":\"#2a3f5f\",\"gridcolor\":\"white\",\"linecolor\":\"white\",\"minorgridcolor\":\"white\",\"startlinecolor\":\"#2a3f5f\"},\"baxis\":{\"endlinecolor\":\"#2a3f5f\",\"gridcolor\":\"white\",\"linecolor\":\"white\",\"minorgridcolor\":\"white\",\"startlinecolor\":\"#2a3f5f\"},\"type\":\"carpet\"}],\"table\":[{\"cells\":{\"fill\":{\"color\":\"#EBF0F8\"},\"line\":{\"color\":\"white\"}},\"header\":{\"fill\":{\"color\":\"#C8D4E3\"},\"line\":{\"color\":\"white\"}},\"type\":\"table\"}],\"barpolar\":[{\"marker\":{\"line\":{\"color\":\"#E5ECF6\",\"width\":0.5},\"pattern\":{\"fillmode\":\"overlay\",\"size\":10,\"solidity\":0.2}},\"type\":\"barpolar\"}],\"pie\":[{\"automargin\":true,\"type\":\"pie\"}]},\"layout\":{\"autotypenumbers\":\"strict\",\"colorway\":[\"#636efa\",\"#EF553B\",\"#00cc96\",\"#ab63fa\",\"#FFA15A\",\"#19d3f3\",\"#FF6692\",\"#B6E880\",\"#FF97FF\",\"#FECB52\"],\"font\":{\"color\":\"#2a3f5f\"},\"hovermode\":\"closest\",\"hoverlabel\":{\"align\":\"left\"},\"paper_bgcolor\":\"white\",\"plot_bgcolor\":\"#E5ECF6\",\"polar\":{\"bgcolor\":\"#E5ECF6\",\"angularaxis\":{\"gridcolor\":\"white\",\"linecolor\":\"white\",\"ticks\":\"\"},\"radialaxis\":{\"gridcolor\":\"white\",\"linecolor\":\"white\",\"ticks\":\"\"}},\"ternary\":{\"bgcolor\":\"#E5ECF6\",\"aaxis\":{\"gridcolor\":\"white\",\"linecolor\":\"white\",\"ticks\":\"\"},\"baxis\":{\"gridcolor\":\"white\",\"linecolor\":\"white\",\"ticks\":\"\"},\"caxis\":{\"gridcolor\":\"white\",\"linecolor\":\"white\",\"ticks\":\"\"}},\"coloraxis\":{\"colorbar\":{\"outlinewidth\":0,\"ticks\":\"\"}},\"colorscale\":{\"sequential\":[[0.0,\"#0d0887\"],[0.1111111111111111,\"#46039f\"],[0.2222222222222222,\"#7201a8\"],[0.3333333333333333,\"#9c179e\"],[0.4444444444444444,\"#bd3786\"],[0.5555555555555556,\"#d8576b\"],[0.6666666666666666,\"#ed7953\"],[0.7777777777777778,\"#fb9f3a\"],[0.8888888888888888,\"#fdca26\"],[1.0,\"#f0f921\"]],\"sequentialminus\":[[0.0,\"#0d0887\"],[0.1111111111111111,\"#46039f\"],[0.2222222222222222,\"#7201a8\"],[0.3333333333333333,\"#9c179e\"],[0.4444444444444444,\"#bd3786\"],[0.5555555555555556,\"#d8576b\"],[0.6666666666666666,\"#ed7953\"],[0.7777777777777778,\"#fb9f3a\"],[0.8888888888888888,\"#fdca26\"],[1.0,\"#f0f921\"]],\"diverging\":[[0,\"#8e0152\"],[0.1,\"#c51b7d\"],[0.2,\"#de77ae\"],[0.3,\"#f1b6da\"],[0.4,\"#fde0ef\"],[0.5,\"#f7f7f7\"],[0.6,\"#e6f5d0\"],[0.7,\"#b8e186\"],[0.8,\"#7fbc41\"],[0.9,\"#4d9221\"],[1,\"#276419\"]]},\"xaxis\":{\"gridcolor\":\"white\",\"linecolor\":\"white\",\"ticks\":\"\",\"title\":{\"standoff\":15},\"zerolinecolor\":\"white\",\"automargin\":true,\"zerolinewidth\":2},\"yaxis\":{\"gridcolor\":\"white\",\"linecolor\":\"white\",\"ticks\":\"\",\"title\":{\"standoff\":15},\"zerolinecolor\":\"white\",\"automargin\":true,\"zerolinewidth\":2},\"scene\":{\"xaxis\":{\"backgroundcolor\":\"#E5ECF6\",\"gridcolor\":\"white\",\"linecolor\":\"white\",\"showbackground\":true,\"ticks\":\"\",\"zerolinecolor\":\"white\",\"gridwidth\":2},\"yaxis\":{\"backgroundcolor\":\"#E5ECF6\",\"gridcolor\":\"white\",\"linecolor\":\"white\",\"showbackground\":true,\"ticks\":\"\",\"zerolinecolor\":\"white\",\"gridwidth\":2},\"zaxis\":{\"backgroundcolor\":\"#E5ECF6\",\"gridcolor\":\"white\",\"linecolor\":\"white\",\"showbackground\":true,\"ticks\":\"\",\"zerolinecolor\":\"white\",\"gridwidth\":2}},\"shapedefaults\":{\"line\":{\"color\":\"#2a3f5f\"}},\"annotationdefaults\":{\"arrowcolor\":\"#2a3f5f\",\"arrowhead\":0,\"arrowwidth\":1},\"geo\":{\"bgcolor\":\"white\",\"landcolor\":\"#E5ECF6\",\"subunitcolor\":\"white\",\"showland\":true,\"showlakes\":true,\"lakecolor\":\"white\"},\"title\":{\"x\":0.05},\"mapbox\":{\"style\":\"light\"}}},\"xaxis\":{\"anchor\":\"y\",\"domain\":[0.0,1.0],\"title\":{\"text\":\"number of articles\"}},\"yaxis\":{\"anchor\":\"x\",\"domain\":[0.0,1.0],\"title\":{\"text\":\"number of authors\"}},\"legend\":{\"tracegroupgap\":0},\"title\":{\"text\":\"Distribution of authors by number of articles\"},\"barmode\":\"relative\",\"height\":800,\"width\":1600},                        {\"responsive\": true}                    ).then(function(){\n",
       "                            \n",
       "var gd = document.getElementById('a568b497-9dae-4172-a7c0-5d4c4c7ff3c5');\n",
       "var x = new MutationObserver(function (mutations, observer) {{\n",
       "        var display = window.getComputedStyle(gd).display;\n",
       "        if (!display || display === 'none') {{\n",
       "            console.log([gd, 'removed!']);\n",
       "            Plotly.purge(gd);\n",
       "            observer.disconnect();\n",
       "        }}\n",
       "}});\n",
       "\n",
       "// Listen for the removal of the full notebook cells\n",
       "var notebookContainer = gd.closest('#notebook-container');\n",
       "if (notebookContainer) {{\n",
       "    x.observe(notebookContainer, {childList: true});\n",
       "}}\n",
       "\n",
       "// Listen for the clearing of the current output cell\n",
       "var outputEl = gd.closest('.output');\n",
       "if (outputEl) {{\n",
       "    x.observe(outputEl, {childList: true});\n",
       "}}\n",
       "\n",
       "                        })                };                });            </script>        </div>"
      ]
     },
     "metadata": {},
     "output_type": "display_data"
    }
   ],
   "source": [
    "keys, values = list(counter.keys()), list(counter.values())\n",
    "\n",
    "fig = px.bar(x=keys, y=values, \n",
    "             title = 'Distribution of authors by number of articles', \n",
    "             width=1600, height=800, \n",
    "             labels={'x': 'number of articles', 'y': 'number of authors'})\n",
    "\n",
    "fig.update_traces(marker_color='rgb(158,202,225)', marker_line_color='rgb(8,48,107)',\n",
    "                  marker_line_width=2, opacity=0.7)\n",
    "\n",
    "fig.show()"
   ]
  },
  {
   "cell_type": "code",
   "execution_count": 51,
   "id": "53169187",
   "metadata": {
    "execution": {
     "iopub.execute_input": "2022-10-01T03:53:25.994453Z",
     "iopub.status.busy": "2022-10-01T03:53:25.994140Z",
     "iopub.status.idle": "2022-10-01T03:53:25.999828Z",
     "shell.execute_reply": "2022-10-01T03:53:25.998842Z"
    },
    "papermill": {
     "duration": 0.0307,
     "end_time": "2022-10-01T03:53:26.003142",
     "exception": false,
     "start_time": "2022-10-01T03:53:25.972442",
     "status": "completed"
    },
    "tags": []
   },
   "outputs": [
    {
     "data": {
      "text/plain": [
       "103108"
      ]
     },
     "execution_count": 51,
     "metadata": {},
     "output_type": "execute_result"
    }
   ],
   "source": [
    "len(author_ids_dict) # всего авторов"
   ]
  },
  {
   "cell_type": "code",
   "execution_count": 52,
   "id": "ac352d52",
   "metadata": {
    "execution": {
     "iopub.execute_input": "2022-10-01T03:53:26.046022Z",
     "iopub.status.busy": "2022-10-01T03:53:26.045724Z",
     "iopub.status.idle": "2022-10-01T03:53:26.102029Z",
     "shell.execute_reply": "2022-10-01T03:53:26.100997Z"
    },
    "papermill": {
     "duration": 0.080314,
     "end_time": "2022-10-01T03:53:26.104426",
     "exception": false,
     "start_time": "2022-10-01T03:53:26.024112",
     "status": "completed"
    },
    "tags": []
   },
   "outputs": [
    {
     "data": {
      "text/html": [
       "<div>                            <div id=\"d73eb9f8-6101-40ed-aa0c-c4ab51b530d6\" class=\"plotly-graph-div\" style=\"height:525px; width:100%;\"></div>            <script type=\"text/javascript\">                require([\"plotly\"], function(Plotly) {                    window.PLOTLYENV=window.PLOTLYENV || {};                                    if (document.getElementById(\"d73eb9f8-6101-40ed-aa0c-c4ab51b530d6\")) {                    Plotly.newPlot(                        \"d73eb9f8-6101-40ed-aa0c-c4ab51b530d6\",                        [{\"alignmentgroup\":\"True\",\"hovertemplate\":\"x=%{x}<br>number of articles=%{y}<extra></extra>\",\"legendgroup\":\"\",\"marker\":{\"color\":\"rgb(158,202,225)\",\"pattern\":{\"shape\":\"\"},\"line\":{\"color\":\"rgb(8,48,107)\",\"width\":2}},\"name\":\"\",\"offsetgroup\":\"\",\"orientation\":\"v\",\"showlegend\":false,\"textposition\":\"auto\",\"texttemplate\":\"%{y:.2s}\",\"x\":[1,2,3,4,5,6,7,8,9,10],\"xaxis\":\"x\",\"y\":[13,14,14,15,15,16,20,21,27,72],\"yaxis\":\"y\",\"type\":\"bar\",\"opacity\":0.7}],                        {\"template\":{\"data\":{\"histogram2dcontour\":[{\"type\":\"histogram2dcontour\",\"colorbar\":{\"outlinewidth\":0,\"ticks\":\"\"},\"colorscale\":[[0.0,\"#0d0887\"],[0.1111111111111111,\"#46039f\"],[0.2222222222222222,\"#7201a8\"],[0.3333333333333333,\"#9c179e\"],[0.4444444444444444,\"#bd3786\"],[0.5555555555555556,\"#d8576b\"],[0.6666666666666666,\"#ed7953\"],[0.7777777777777778,\"#fb9f3a\"],[0.8888888888888888,\"#fdca26\"],[1.0,\"#f0f921\"]]}],\"choropleth\":[{\"type\":\"choropleth\",\"colorbar\":{\"outlinewidth\":0,\"ticks\":\"\"}}],\"histogram2d\":[{\"type\":\"histogram2d\",\"colorbar\":{\"outlinewidth\":0,\"ticks\":\"\"},\"colorscale\":[[0.0,\"#0d0887\"],[0.1111111111111111,\"#46039f\"],[0.2222222222222222,\"#7201a8\"],[0.3333333333333333,\"#9c179e\"],[0.4444444444444444,\"#bd3786\"],[0.5555555555555556,\"#d8576b\"],[0.6666666666666666,\"#ed7953\"],[0.7777777777777778,\"#fb9f3a\"],[0.8888888888888888,\"#fdca26\"],[1.0,\"#f0f921\"]]}],\"heatmap\":[{\"type\":\"heatmap\",\"colorbar\":{\"outlinewidth\":0,\"ticks\":\"\"},\"colorscale\":[[0.0,\"#0d0887\"],[0.1111111111111111,\"#46039f\"],[0.2222222222222222,\"#7201a8\"],[0.3333333333333333,\"#9c179e\"],[0.4444444444444444,\"#bd3786\"],[0.5555555555555556,\"#d8576b\"],[0.6666666666666666,\"#ed7953\"],[0.7777777777777778,\"#fb9f3a\"],[0.8888888888888888,\"#fdca26\"],[1.0,\"#f0f921\"]]}],\"heatmapgl\":[{\"type\":\"heatmapgl\",\"colorbar\":{\"outlinewidth\":0,\"ticks\":\"\"},\"colorscale\":[[0.0,\"#0d0887\"],[0.1111111111111111,\"#46039f\"],[0.2222222222222222,\"#7201a8\"],[0.3333333333333333,\"#9c179e\"],[0.4444444444444444,\"#bd3786\"],[0.5555555555555556,\"#d8576b\"],[0.6666666666666666,\"#ed7953\"],[0.7777777777777778,\"#fb9f3a\"],[0.8888888888888888,\"#fdca26\"],[1.0,\"#f0f921\"]]}],\"contourcarpet\":[{\"type\":\"contourcarpet\",\"colorbar\":{\"outlinewidth\":0,\"ticks\":\"\"}}],\"contour\":[{\"type\":\"contour\",\"colorbar\":{\"outlinewidth\":0,\"ticks\":\"\"},\"colorscale\":[[0.0,\"#0d0887\"],[0.1111111111111111,\"#46039f\"],[0.2222222222222222,\"#7201a8\"],[0.3333333333333333,\"#9c179e\"],[0.4444444444444444,\"#bd3786\"],[0.5555555555555556,\"#d8576b\"],[0.6666666666666666,\"#ed7953\"],[0.7777777777777778,\"#fb9f3a\"],[0.8888888888888888,\"#fdca26\"],[1.0,\"#f0f921\"]]}],\"surface\":[{\"type\":\"surface\",\"colorbar\":{\"outlinewidth\":0,\"ticks\":\"\"},\"colorscale\":[[0.0,\"#0d0887\"],[0.1111111111111111,\"#46039f\"],[0.2222222222222222,\"#7201a8\"],[0.3333333333333333,\"#9c179e\"],[0.4444444444444444,\"#bd3786\"],[0.5555555555555556,\"#d8576b\"],[0.6666666666666666,\"#ed7953\"],[0.7777777777777778,\"#fb9f3a\"],[0.8888888888888888,\"#fdca26\"],[1.0,\"#f0f921\"]]}],\"mesh3d\":[{\"type\":\"mesh3d\",\"colorbar\":{\"outlinewidth\":0,\"ticks\":\"\"}}],\"scatter\":[{\"fillpattern\":{\"fillmode\":\"overlay\",\"size\":10,\"solidity\":0.2},\"type\":\"scatter\"}],\"parcoords\":[{\"type\":\"parcoords\",\"line\":{\"colorbar\":{\"outlinewidth\":0,\"ticks\":\"\"}}}],\"scatterpolargl\":[{\"type\":\"scatterpolargl\",\"marker\":{\"colorbar\":{\"outlinewidth\":0,\"ticks\":\"\"}}}],\"bar\":[{\"error_x\":{\"color\":\"#2a3f5f\"},\"error_y\":{\"color\":\"#2a3f5f\"},\"marker\":{\"line\":{\"color\":\"#E5ECF6\",\"width\":0.5},\"pattern\":{\"fillmode\":\"overlay\",\"size\":10,\"solidity\":0.2}},\"type\":\"bar\"}],\"scattergeo\":[{\"type\":\"scattergeo\",\"marker\":{\"colorbar\":{\"outlinewidth\":0,\"ticks\":\"\"}}}],\"scatterpolar\":[{\"type\":\"scatterpolar\",\"marker\":{\"colorbar\":{\"outlinewidth\":0,\"ticks\":\"\"}}}],\"histogram\":[{\"marker\":{\"pattern\":{\"fillmode\":\"overlay\",\"size\":10,\"solidity\":0.2}},\"type\":\"histogram\"}],\"scattergl\":[{\"type\":\"scattergl\",\"marker\":{\"colorbar\":{\"outlinewidth\":0,\"ticks\":\"\"}}}],\"scatter3d\":[{\"type\":\"scatter3d\",\"line\":{\"colorbar\":{\"outlinewidth\":0,\"ticks\":\"\"}},\"marker\":{\"colorbar\":{\"outlinewidth\":0,\"ticks\":\"\"}}}],\"scattermapbox\":[{\"type\":\"scattermapbox\",\"marker\":{\"colorbar\":{\"outlinewidth\":0,\"ticks\":\"\"}}}],\"scatterternary\":[{\"type\":\"scatterternary\",\"marker\":{\"colorbar\":{\"outlinewidth\":0,\"ticks\":\"\"}}}],\"scattercarpet\":[{\"type\":\"scattercarpet\",\"marker\":{\"colorbar\":{\"outlinewidth\":0,\"ticks\":\"\"}}}],\"carpet\":[{\"aaxis\":{\"endlinecolor\":\"#2a3f5f\",\"gridcolor\":\"white\",\"linecolor\":\"white\",\"minorgridcolor\":\"white\",\"startlinecolor\":\"#2a3f5f\"},\"baxis\":{\"endlinecolor\":\"#2a3f5f\",\"gridcolor\":\"white\",\"linecolor\":\"white\",\"minorgridcolor\":\"white\",\"startlinecolor\":\"#2a3f5f\"},\"type\":\"carpet\"}],\"table\":[{\"cells\":{\"fill\":{\"color\":\"#EBF0F8\"},\"line\":{\"color\":\"white\"}},\"header\":{\"fill\":{\"color\":\"#C8D4E3\"},\"line\":{\"color\":\"white\"}},\"type\":\"table\"}],\"barpolar\":[{\"marker\":{\"line\":{\"color\":\"#E5ECF6\",\"width\":0.5},\"pattern\":{\"fillmode\":\"overlay\",\"size\":10,\"solidity\":0.2}},\"type\":\"barpolar\"}],\"pie\":[{\"automargin\":true,\"type\":\"pie\"}]},\"layout\":{\"autotypenumbers\":\"strict\",\"colorway\":[\"#636efa\",\"#EF553B\",\"#00cc96\",\"#ab63fa\",\"#FFA15A\",\"#19d3f3\",\"#FF6692\",\"#B6E880\",\"#FF97FF\",\"#FECB52\"],\"font\":{\"color\":\"#2a3f5f\"},\"hovermode\":\"closest\",\"hoverlabel\":{\"align\":\"left\"},\"paper_bgcolor\":\"white\",\"plot_bgcolor\":\"#E5ECF6\",\"polar\":{\"bgcolor\":\"#E5ECF6\",\"angularaxis\":{\"gridcolor\":\"white\",\"linecolor\":\"white\",\"ticks\":\"\"},\"radialaxis\":{\"gridcolor\":\"white\",\"linecolor\":\"white\",\"ticks\":\"\"}},\"ternary\":{\"bgcolor\":\"#E5ECF6\",\"aaxis\":{\"gridcolor\":\"white\",\"linecolor\":\"white\",\"ticks\":\"\"},\"baxis\":{\"gridcolor\":\"white\",\"linecolor\":\"white\",\"ticks\":\"\"},\"caxis\":{\"gridcolor\":\"white\",\"linecolor\":\"white\",\"ticks\":\"\"}},\"coloraxis\":{\"colorbar\":{\"outlinewidth\":0,\"ticks\":\"\"}},\"colorscale\":{\"sequential\":[[0.0,\"#0d0887\"],[0.1111111111111111,\"#46039f\"],[0.2222222222222222,\"#7201a8\"],[0.3333333333333333,\"#9c179e\"],[0.4444444444444444,\"#bd3786\"],[0.5555555555555556,\"#d8576b\"],[0.6666666666666666,\"#ed7953\"],[0.7777777777777778,\"#fb9f3a\"],[0.8888888888888888,\"#fdca26\"],[1.0,\"#f0f921\"]],\"sequentialminus\":[[0.0,\"#0d0887\"],[0.1111111111111111,\"#46039f\"],[0.2222222222222222,\"#7201a8\"],[0.3333333333333333,\"#9c179e\"],[0.4444444444444444,\"#bd3786\"],[0.5555555555555556,\"#d8576b\"],[0.6666666666666666,\"#ed7953\"],[0.7777777777777778,\"#fb9f3a\"],[0.8888888888888888,\"#fdca26\"],[1.0,\"#f0f921\"]],\"diverging\":[[0,\"#8e0152\"],[0.1,\"#c51b7d\"],[0.2,\"#de77ae\"],[0.3,\"#f1b6da\"],[0.4,\"#fde0ef\"],[0.5,\"#f7f7f7\"],[0.6,\"#e6f5d0\"],[0.7,\"#b8e186\"],[0.8,\"#7fbc41\"],[0.9,\"#4d9221\"],[1,\"#276419\"]]},\"xaxis\":{\"gridcolor\":\"white\",\"linecolor\":\"white\",\"ticks\":\"\",\"title\":{\"standoff\":15},\"zerolinecolor\":\"white\",\"automargin\":true,\"zerolinewidth\":2},\"yaxis\":{\"gridcolor\":\"white\",\"linecolor\":\"white\",\"ticks\":\"\",\"title\":{\"standoff\":15},\"zerolinecolor\":\"white\",\"automargin\":true,\"zerolinewidth\":2},\"scene\":{\"xaxis\":{\"backgroundcolor\":\"#E5ECF6\",\"gridcolor\":\"white\",\"linecolor\":\"white\",\"showbackground\":true,\"ticks\":\"\",\"zerolinecolor\":\"white\",\"gridwidth\":2},\"yaxis\":{\"backgroundcolor\":\"#E5ECF6\",\"gridcolor\":\"white\",\"linecolor\":\"white\",\"showbackground\":true,\"ticks\":\"\",\"zerolinecolor\":\"white\",\"gridwidth\":2},\"zaxis\":{\"backgroundcolor\":\"#E5ECF6\",\"gridcolor\":\"white\",\"linecolor\":\"white\",\"showbackground\":true,\"ticks\":\"\",\"zerolinecolor\":\"white\",\"gridwidth\":2}},\"shapedefaults\":{\"line\":{\"color\":\"#2a3f5f\"}},\"annotationdefaults\":{\"arrowcolor\":\"#2a3f5f\",\"arrowhead\":0,\"arrowwidth\":1},\"geo\":{\"bgcolor\":\"white\",\"landcolor\":\"#E5ECF6\",\"subunitcolor\":\"white\",\"showland\":true,\"showlakes\":true,\"lakecolor\":\"white\"},\"title\":{\"x\":0.05},\"mapbox\":{\"style\":\"light\"}}},\"xaxis\":{\"anchor\":\"y\",\"domain\":[0.0,1.0],\"title\":{\"text\":\"x\"}},\"yaxis\":{\"anchor\":\"x\",\"domain\":[0.0,1.0],\"title\":{\"text\":\"number of articles\"}},\"legend\":{\"tracegroupgap\":0},\"title\":{\"text\":\"Top 10 authors by number of articles\"},\"barmode\":\"relative\"},                        {\"responsive\": true}                    ).then(function(){\n",
       "                            \n",
       "var gd = document.getElementById('d73eb9f8-6101-40ed-aa0c-c4ab51b530d6');\n",
       "var x = new MutationObserver(function (mutations, observer) {{\n",
       "        var display = window.getComputedStyle(gd).display;\n",
       "        if (!display || display === 'none') {{\n",
       "            console.log([gd, 'removed!']);\n",
       "            Plotly.purge(gd);\n",
       "            observer.disconnect();\n",
       "        }}\n",
       "}});\n",
       "\n",
       "// Listen for the removal of the full notebook cells\n",
       "var notebookContainer = gd.closest('#notebook-container');\n",
       "if (notebookContainer) {{\n",
       "    x.observe(notebookContainer, {childList: true});\n",
       "}}\n",
       "\n",
       "// Listen for the clearing of the current output cell\n",
       "var outputEl = gd.closest('.output');\n",
       "if (outputEl) {{\n",
       "    x.observe(outputEl, {childList: true});\n",
       "}}\n",
       "\n",
       "                        })                };                });            </script>        </div>"
      ]
     },
     "metadata": {},
     "output_type": "display_data"
    }
   ],
   "source": [
    "keys, values = list(range(1, 11)), sorted(author_ids_dict.values())[-10:]\n",
    "\n",
    "fig = px.bar(x=keys, y=values, title = 'Top 10 authors by number of articles', text_auto='.2s', labels={'y': 'number of articles'})\n",
    "\n",
    "fig.update_traces(marker_color='rgb(158,202,225)', marker_line_color='rgb(8,48,107)',\n",
    "                  marker_line_width=2, opacity=0.7)\n",
    "\n",
    "fig.show()"
   ]
  },
  {
   "cell_type": "markdown",
   "id": "e652c3e4",
   "metadata": {
    "papermill": {
     "duration": 0.021134,
     "end_time": "2022-10-01T03:53:26.146603",
     "exception": false,
     "start_time": "2022-10-01T03:53:26.125469",
     "status": "completed"
    },
    "tags": []
   },
   "source": [
    "# Venue"
   ]
  },
  {
   "cell_type": "code",
   "execution_count": 53,
   "id": "11abd81a",
   "metadata": {
    "execution": {
     "iopub.execute_input": "2022-10-01T03:53:26.191923Z",
     "iopub.status.busy": "2022-10-01T03:53:26.191597Z",
     "iopub.status.idle": "2022-10-01T03:53:26.221386Z",
     "shell.execute_reply": "2022-10-01T03:53:26.220353Z"
    },
    "papermill": {
     "duration": 0.053719,
     "end_time": "2022-10-01T03:53:26.223423",
     "exception": false,
     "start_time": "2022-10-01T03:53:26.169704",
     "status": "completed"
    },
    "tags": []
   },
   "outputs": [
    {
     "data": {
      "text/plain": [
       "((7304,), (6579,))"
      ]
     },
     "execution_count": 53,
     "metadata": {},
     "output_type": "execute_result"
    }
   ],
   "source": [
    "data.venue_name.unique().shape, data.venue_id.unique().shape # второе значение - это количество уникальных журналов, статей, конференций и т.д."
   ]
  },
  {
   "cell_type": "code",
   "execution_count": 54,
   "id": "50440621",
   "metadata": {
    "execution": {
     "iopub.execute_input": "2022-10-01T03:53:26.267730Z",
     "iopub.status.busy": "2022-10-01T03:53:26.266873Z",
     "iopub.status.idle": "2022-10-01T03:53:26.271462Z",
     "shell.execute_reply": "2022-10-01T03:53:26.270487Z"
    },
    "papermill": {
     "duration": 0.028536,
     "end_time": "2022-10-01T03:53:26.273426",
     "exception": false,
     "start_time": "2022-10-01T03:53:26.244890",
     "status": "completed"
    },
    "tags": []
   },
   "outputs": [],
   "source": [
    "venue_ids = data.venue_id"
   ]
  },
  {
   "cell_type": "code",
   "execution_count": 55,
   "id": "21e4dba5",
   "metadata": {
    "execution": {
     "iopub.execute_input": "2022-10-01T03:53:26.317236Z",
     "iopub.status.busy": "2022-10-01T03:53:26.316357Z",
     "iopub.status.idle": "2022-10-01T03:53:26.334190Z",
     "shell.execute_reply": "2022-10-01T03:53:26.333190Z"
    },
    "papermill": {
     "duration": 0.041811,
     "end_time": "2022-10-01T03:53:26.336206",
     "exception": false,
     "start_time": "2022-10-01T03:53:26.294395",
     "status": "completed"
    },
    "tags": []
   },
   "outputs": [
    {
     "data": {
      "text/plain": [
       "55f957d4c35f4fb0d21ce0f1    385\n",
       "5390796b20f770854f5b916d    374\n",
       "53a72b0920f7420be8c16721    270\n",
       "53a732db20f7420be8dba361    241\n",
       "581304169ed5dbf6f8d2c460    228\n",
       "                           ... \n",
       "555037bb7cea80f954197d69      1\n",
       "53a7252220f7420be8b46a96      1\n",
       "5390b76320f70186a0f22a06      1\n",
       "53a72df020f7420be8c78b45      1\n",
       "53a72e6520f7420be8c8bddd      1\n",
       "Name: venue_id, Length: 6578, dtype: int64"
      ]
     },
     "execution_count": 55,
     "metadata": {},
     "output_type": "execute_result"
    }
   ],
   "source": [
    "venue_ids.value_counts()"
   ]
  },
  {
   "cell_type": "code",
   "execution_count": 56,
   "id": "909551d9",
   "metadata": {
    "execution": {
     "iopub.execute_input": "2022-10-01T03:53:26.380536Z",
     "iopub.status.busy": "2022-10-01T03:53:26.379571Z",
     "iopub.status.idle": "2022-10-01T03:53:52.725606Z",
     "shell.execute_reply": "2022-10-01T03:53:52.724550Z"
    },
    "papermill": {
     "duration": 26.37051,
     "end_time": "2022-10-01T03:53:52.727985",
     "exception": false,
     "start_time": "2022-10-01T03:53:26.357475",
     "status": "completed"
    },
    "tags": []
   },
   "outputs": [],
   "source": [
    "names_of_venue = []\n",
    "for id_ in venue_ids.value_counts().index:\n",
    "    names_of_venue.append(data.venue_name[data.venue_id == id_].values[0])"
   ]
  },
  {
   "cell_type": "code",
   "execution_count": 57,
   "id": "26444833",
   "metadata": {
    "execution": {
     "iopub.execute_input": "2022-10-01T03:53:52.775685Z",
     "iopub.status.busy": "2022-10-01T03:53:52.775367Z",
     "iopub.status.idle": "2022-10-01T03:53:52.781560Z",
     "shell.execute_reply": "2022-10-01T03:53:52.780644Z"
    },
    "papermill": {
     "duration": 0.031444,
     "end_time": "2022-10-01T03:53:52.783847",
     "exception": false,
     "start_time": "2022-10-01T03:53:52.752403",
     "status": "completed"
    },
    "tags": []
   },
   "outputs": [
    {
     "data": {
      "text/plain": [
       "['Decision and Control',\n",
       " 'Neural Computation',\n",
       " 'INFOCOM',\n",
       " 'Encyclopedia of Cryptography and Security (2nd Ed.)',\n",
       " 'Multimedia Tools Appl.',\n",
       " 'Bell System Technical Journal, The',\n",
       " 'Geoscience and Remote Sensing Symposium',\n",
       " 'Commun. ACM',\n",
       " 'Datenschutz und Datensicherheit',\n",
       " 'Scholarpedia',\n",
       " 'ISCC',\n",
       " 'Encyclopedia of Parallel Computing',\n",
       " 'SIGGRAPH Electronic Art and Animation Catalog',\n",
       " 'IJCNN',\n",
       " 'ICASSP), 2002 IEEE International Conference',\n",
       " 'Neural Computing and Applications',\n",
       " 'Electronics, Circuits, and Systems',\n",
       " 'INFOCOM Workshops',\n",
       " 'Artificial Life',\n",
       " 'Image Processing']"
      ]
     },
     "execution_count": 57,
     "metadata": {},
     "output_type": "execute_result"
    }
   ],
   "source": [
    "names_of_venue[:20]"
   ]
  },
  {
   "cell_type": "code",
   "execution_count": 58,
   "id": "4592b747",
   "metadata": {
    "execution": {
     "iopub.execute_input": "2022-10-01T03:53:52.828584Z",
     "iopub.status.busy": "2022-10-01T03:53:52.828313Z",
     "iopub.status.idle": "2022-10-01T03:53:52.842924Z",
     "shell.execute_reply": "2022-10-01T03:53:52.842108Z"
    },
    "papermill": {
     "duration": 0.039168,
     "end_time": "2022-10-01T03:53:52.845186",
     "exception": false,
     "start_time": "2022-10-01T03:53:52.806018",
     "status": "completed"
    },
    "tags": []
   },
   "outputs": [],
   "source": [
    "counter_venues = defaultdict(int)\n",
    "for value in venue_ids.value_counts().values:\n",
    "    counter_venues[value] += 1"
   ]
  },
  {
   "cell_type": "code",
   "execution_count": 59,
   "id": "848aa58f",
   "metadata": {
    "execution": {
     "iopub.execute_input": "2022-10-01T03:53:52.890796Z",
     "iopub.status.busy": "2022-10-01T03:53:52.890524Z",
     "iopub.status.idle": "2022-10-01T03:53:52.965771Z",
     "shell.execute_reply": "2022-10-01T03:53:52.964730Z"
    },
    "papermill": {
     "duration": 0.100294,
     "end_time": "2022-10-01T03:53:52.968189",
     "exception": false,
     "start_time": "2022-10-01T03:53:52.867895",
     "status": "completed"
    },
    "tags": []
   },
   "outputs": [
    {
     "data": {
      "text/html": [
       "<div>                            <div id=\"383bfc4f-6f6f-4646-bd91-8afe0fbe2fc5\" class=\"plotly-graph-div\" style=\"height:800px; width:1600px;\"></div>            <script type=\"text/javascript\">                require([\"plotly\"], function(Plotly) {                    window.PLOTLYENV=window.PLOTLYENV || {};                                    if (document.getElementById(\"383bfc4f-6f6f-4646-bd91-8afe0fbe2fc5\")) {                    Plotly.newPlot(                        \"383bfc4f-6f6f-4646-bd91-8afe0fbe2fc5\",                        [{\"alignmentgroup\":\"True\",\"bingroup\":\"x\",\"histfunc\":\"sum\",\"hovertemplate\":\"number of articles=%{x}<br>sum of number of authors=%{y}<extra></extra>\",\"legendgroup\":\"\",\"marker\":{\"color\":\"rgb(158,202,225)\",\"pattern\":{\"shape\":\"\"},\"line\":{\"color\":\"rgb(8,48,107)\"}},\"name\":\"\",\"nbinsx\":100,\"offsetgroup\":\"\",\"orientation\":\"v\",\"showlegend\":false,\"texttemplate\":\"%{value:.1s}\",\"x\":[385,374,270,241,228,224,221,214,208,199,196,194,192,182,177,173,169,163,161,159,156,150,145,141,140,136,134,132,129,128,124,121,117,116,114,113,111,105,104,103,102,100,99,98,97,95,94,90,88,87,84,83,82,81,79,77,76,73,72,71,70,64,63,62,61,60,59,58,57,56,55,54,51,50,49,48,47,46,45,44,43,42,41,40,39,38,37,36,35,34,33,32,31,30,29,28,27,26,25,24,23,22,21,20,19,18,17,16,15,14,13,12,11,10,9,8,7,6,5,4,3,2,1],\"xaxis\":\"x\",\"y\":[1,1,1,1,1,1,1,1,1,1,1,1,1,1,1,1,1,1,1,1,1,1,1,1,1,2,1,1,1,1,1,2,1,1,1,2,2,1,1,1,3,1,1,2,1,4,3,1,1,1,1,1,1,1,1,1,3,1,3,3,1,1,2,2,5,1,2,1,4,3,4,1,1,3,4,2,1,4,4,5,5,4,2,8,2,6,6,5,3,3,6,8,9,11,5,19,9,13,10,19,19,14,22,18,20,34,21,48,28,43,50,49,58,77,86,102,149,158,255,397,538,1078,3032],\"yaxis\":\"y\",\"type\":\"histogram\",\"opacity\":0.7}],                        {\"template\":{\"data\":{\"histogram2dcontour\":[{\"type\":\"histogram2dcontour\",\"colorbar\":{\"outlinewidth\":0,\"ticks\":\"\"},\"colorscale\":[[0.0,\"#0d0887\"],[0.1111111111111111,\"#46039f\"],[0.2222222222222222,\"#7201a8\"],[0.3333333333333333,\"#9c179e\"],[0.4444444444444444,\"#bd3786\"],[0.5555555555555556,\"#d8576b\"],[0.6666666666666666,\"#ed7953\"],[0.7777777777777778,\"#fb9f3a\"],[0.8888888888888888,\"#fdca26\"],[1.0,\"#f0f921\"]]}],\"choropleth\":[{\"type\":\"choropleth\",\"colorbar\":{\"outlinewidth\":0,\"ticks\":\"\"}}],\"histogram2d\":[{\"type\":\"histogram2d\",\"colorbar\":{\"outlinewidth\":0,\"ticks\":\"\"},\"colorscale\":[[0.0,\"#0d0887\"],[0.1111111111111111,\"#46039f\"],[0.2222222222222222,\"#7201a8\"],[0.3333333333333333,\"#9c179e\"],[0.4444444444444444,\"#bd3786\"],[0.5555555555555556,\"#d8576b\"],[0.6666666666666666,\"#ed7953\"],[0.7777777777777778,\"#fb9f3a\"],[0.8888888888888888,\"#fdca26\"],[1.0,\"#f0f921\"]]}],\"heatmap\":[{\"type\":\"heatmap\",\"colorbar\":{\"outlinewidth\":0,\"ticks\":\"\"},\"colorscale\":[[0.0,\"#0d0887\"],[0.1111111111111111,\"#46039f\"],[0.2222222222222222,\"#7201a8\"],[0.3333333333333333,\"#9c179e\"],[0.4444444444444444,\"#bd3786\"],[0.5555555555555556,\"#d8576b\"],[0.6666666666666666,\"#ed7953\"],[0.7777777777777778,\"#fb9f3a\"],[0.8888888888888888,\"#fdca26\"],[1.0,\"#f0f921\"]]}],\"heatmapgl\":[{\"type\":\"heatmapgl\",\"colorbar\":{\"outlinewidth\":0,\"ticks\":\"\"},\"colorscale\":[[0.0,\"#0d0887\"],[0.1111111111111111,\"#46039f\"],[0.2222222222222222,\"#7201a8\"],[0.3333333333333333,\"#9c179e\"],[0.4444444444444444,\"#bd3786\"],[0.5555555555555556,\"#d8576b\"],[0.6666666666666666,\"#ed7953\"],[0.7777777777777778,\"#fb9f3a\"],[0.8888888888888888,\"#fdca26\"],[1.0,\"#f0f921\"]]}],\"contourcarpet\":[{\"type\":\"contourcarpet\",\"colorbar\":{\"outlinewidth\":0,\"ticks\":\"\"}}],\"contour\":[{\"type\":\"contour\",\"colorbar\":{\"outlinewidth\":0,\"ticks\":\"\"},\"colorscale\":[[0.0,\"#0d0887\"],[0.1111111111111111,\"#46039f\"],[0.2222222222222222,\"#7201a8\"],[0.3333333333333333,\"#9c179e\"],[0.4444444444444444,\"#bd3786\"],[0.5555555555555556,\"#d8576b\"],[0.6666666666666666,\"#ed7953\"],[0.7777777777777778,\"#fb9f3a\"],[0.8888888888888888,\"#fdca26\"],[1.0,\"#f0f921\"]]}],\"surface\":[{\"type\":\"surface\",\"colorbar\":{\"outlinewidth\":0,\"ticks\":\"\"},\"colorscale\":[[0.0,\"#0d0887\"],[0.1111111111111111,\"#46039f\"],[0.2222222222222222,\"#7201a8\"],[0.3333333333333333,\"#9c179e\"],[0.4444444444444444,\"#bd3786\"],[0.5555555555555556,\"#d8576b\"],[0.6666666666666666,\"#ed7953\"],[0.7777777777777778,\"#fb9f3a\"],[0.8888888888888888,\"#fdca26\"],[1.0,\"#f0f921\"]]}],\"mesh3d\":[{\"type\":\"mesh3d\",\"colorbar\":{\"outlinewidth\":0,\"ticks\":\"\"}}],\"scatter\":[{\"fillpattern\":{\"fillmode\":\"overlay\",\"size\":10,\"solidity\":0.2},\"type\":\"scatter\"}],\"parcoords\":[{\"type\":\"parcoords\",\"line\":{\"colorbar\":{\"outlinewidth\":0,\"ticks\":\"\"}}}],\"scatterpolargl\":[{\"type\":\"scatterpolargl\",\"marker\":{\"colorbar\":{\"outlinewidth\":0,\"ticks\":\"\"}}}],\"bar\":[{\"error_x\":{\"color\":\"#2a3f5f\"},\"error_y\":{\"color\":\"#2a3f5f\"},\"marker\":{\"line\":{\"color\":\"#E5ECF6\",\"width\":0.5},\"pattern\":{\"fillmode\":\"overlay\",\"size\":10,\"solidity\":0.2}},\"type\":\"bar\"}],\"scattergeo\":[{\"type\":\"scattergeo\",\"marker\":{\"colorbar\":{\"outlinewidth\":0,\"ticks\":\"\"}}}],\"scatterpolar\":[{\"type\":\"scatterpolar\",\"marker\":{\"colorbar\":{\"outlinewidth\":0,\"ticks\":\"\"}}}],\"histogram\":[{\"marker\":{\"pattern\":{\"fillmode\":\"overlay\",\"size\":10,\"solidity\":0.2}},\"type\":\"histogram\"}],\"scattergl\":[{\"type\":\"scattergl\",\"marker\":{\"colorbar\":{\"outlinewidth\":0,\"ticks\":\"\"}}}],\"scatter3d\":[{\"type\":\"scatter3d\",\"line\":{\"colorbar\":{\"outlinewidth\":0,\"ticks\":\"\"}},\"marker\":{\"colorbar\":{\"outlinewidth\":0,\"ticks\":\"\"}}}],\"scattermapbox\":[{\"type\":\"scattermapbox\",\"marker\":{\"colorbar\":{\"outlinewidth\":0,\"ticks\":\"\"}}}],\"scatterternary\":[{\"type\":\"scatterternary\",\"marker\":{\"colorbar\":{\"outlinewidth\":0,\"ticks\":\"\"}}}],\"scattercarpet\":[{\"type\":\"scattercarpet\",\"marker\":{\"colorbar\":{\"outlinewidth\":0,\"ticks\":\"\"}}}],\"carpet\":[{\"aaxis\":{\"endlinecolor\":\"#2a3f5f\",\"gridcolor\":\"white\",\"linecolor\":\"white\",\"minorgridcolor\":\"white\",\"startlinecolor\":\"#2a3f5f\"},\"baxis\":{\"endlinecolor\":\"#2a3f5f\",\"gridcolor\":\"white\",\"linecolor\":\"white\",\"minorgridcolor\":\"white\",\"startlinecolor\":\"#2a3f5f\"},\"type\":\"carpet\"}],\"table\":[{\"cells\":{\"fill\":{\"color\":\"#EBF0F8\"},\"line\":{\"color\":\"white\"}},\"header\":{\"fill\":{\"color\":\"#C8D4E3\"},\"line\":{\"color\":\"white\"}},\"type\":\"table\"}],\"barpolar\":[{\"marker\":{\"line\":{\"color\":\"#E5ECF6\",\"width\":0.5},\"pattern\":{\"fillmode\":\"overlay\",\"size\":10,\"solidity\":0.2}},\"type\":\"barpolar\"}],\"pie\":[{\"automargin\":true,\"type\":\"pie\"}]},\"layout\":{\"autotypenumbers\":\"strict\",\"colorway\":[\"#636efa\",\"#EF553B\",\"#00cc96\",\"#ab63fa\",\"#FFA15A\",\"#19d3f3\",\"#FF6692\",\"#B6E880\",\"#FF97FF\",\"#FECB52\"],\"font\":{\"color\":\"#2a3f5f\"},\"hovermode\":\"closest\",\"hoverlabel\":{\"align\":\"left\"},\"paper_bgcolor\":\"white\",\"plot_bgcolor\":\"#E5ECF6\",\"polar\":{\"bgcolor\":\"#E5ECF6\",\"angularaxis\":{\"gridcolor\":\"white\",\"linecolor\":\"white\",\"ticks\":\"\"},\"radialaxis\":{\"gridcolor\":\"white\",\"linecolor\":\"white\",\"ticks\":\"\"}},\"ternary\":{\"bgcolor\":\"#E5ECF6\",\"aaxis\":{\"gridcolor\":\"white\",\"linecolor\":\"white\",\"ticks\":\"\"},\"baxis\":{\"gridcolor\":\"white\",\"linecolor\":\"white\",\"ticks\":\"\"},\"caxis\":{\"gridcolor\":\"white\",\"linecolor\":\"white\",\"ticks\":\"\"}},\"coloraxis\":{\"colorbar\":{\"outlinewidth\":0,\"ticks\":\"\"}},\"colorscale\":{\"sequential\":[[0.0,\"#0d0887\"],[0.1111111111111111,\"#46039f\"],[0.2222222222222222,\"#7201a8\"],[0.3333333333333333,\"#9c179e\"],[0.4444444444444444,\"#bd3786\"],[0.5555555555555556,\"#d8576b\"],[0.6666666666666666,\"#ed7953\"],[0.7777777777777778,\"#fb9f3a\"],[0.8888888888888888,\"#fdca26\"],[1.0,\"#f0f921\"]],\"sequentialminus\":[[0.0,\"#0d0887\"],[0.1111111111111111,\"#46039f\"],[0.2222222222222222,\"#7201a8\"],[0.3333333333333333,\"#9c179e\"],[0.4444444444444444,\"#bd3786\"],[0.5555555555555556,\"#d8576b\"],[0.6666666666666666,\"#ed7953\"],[0.7777777777777778,\"#fb9f3a\"],[0.8888888888888888,\"#fdca26\"],[1.0,\"#f0f921\"]],\"diverging\":[[0,\"#8e0152\"],[0.1,\"#c51b7d\"],[0.2,\"#de77ae\"],[0.3,\"#f1b6da\"],[0.4,\"#fde0ef\"],[0.5,\"#f7f7f7\"],[0.6,\"#e6f5d0\"],[0.7,\"#b8e186\"],[0.8,\"#7fbc41\"],[0.9,\"#4d9221\"],[1,\"#276419\"]]},\"xaxis\":{\"gridcolor\":\"white\",\"linecolor\":\"white\",\"ticks\":\"\",\"title\":{\"standoff\":15},\"zerolinecolor\":\"white\",\"automargin\":true,\"zerolinewidth\":2},\"yaxis\":{\"gridcolor\":\"white\",\"linecolor\":\"white\",\"ticks\":\"\",\"title\":{\"standoff\":15},\"zerolinecolor\":\"white\",\"automargin\":true,\"zerolinewidth\":2},\"scene\":{\"xaxis\":{\"backgroundcolor\":\"#E5ECF6\",\"gridcolor\":\"white\",\"linecolor\":\"white\",\"showbackground\":true,\"ticks\":\"\",\"zerolinecolor\":\"white\",\"gridwidth\":2},\"yaxis\":{\"backgroundcolor\":\"#E5ECF6\",\"gridcolor\":\"white\",\"linecolor\":\"white\",\"showbackground\":true,\"ticks\":\"\",\"zerolinecolor\":\"white\",\"gridwidth\":2},\"zaxis\":{\"backgroundcolor\":\"#E5ECF6\",\"gridcolor\":\"white\",\"linecolor\":\"white\",\"showbackground\":true,\"ticks\":\"\",\"zerolinecolor\":\"white\",\"gridwidth\":2}},\"shapedefaults\":{\"line\":{\"color\":\"#2a3f5f\"}},\"annotationdefaults\":{\"arrowcolor\":\"#2a3f5f\",\"arrowhead\":0,\"arrowwidth\":1},\"geo\":{\"bgcolor\":\"white\",\"landcolor\":\"#E5ECF6\",\"subunitcolor\":\"white\",\"showland\":true,\"showlakes\":true,\"lakecolor\":\"white\"},\"title\":{\"x\":0.05},\"mapbox\":{\"style\":\"light\"}}},\"xaxis\":{\"anchor\":\"y\",\"domain\":[0.0,1.0],\"title\":{\"text\":\"number of articles\"}},\"yaxis\":{\"anchor\":\"x\",\"domain\":[0.0,1.0],\"title\":{\"text\":\"sum of number of authors\"}},\"legend\":{\"tracegroupgap\":0},\"title\":{\"text\":\"Distribution of authors by number of articles\"},\"barmode\":\"relative\",\"height\":800,\"width\":1600},                        {\"responsive\": true}                    ).then(function(){\n",
       "                            \n",
       "var gd = document.getElementById('383bfc4f-6f6f-4646-bd91-8afe0fbe2fc5');\n",
       "var x = new MutationObserver(function (mutations, observer) {{\n",
       "        var display = window.getComputedStyle(gd).display;\n",
       "        if (!display || display === 'none') {{\n",
       "            console.log([gd, 'removed!']);\n",
       "            Plotly.purge(gd);\n",
       "            observer.disconnect();\n",
       "        }}\n",
       "}});\n",
       "\n",
       "// Listen for the removal of the full notebook cells\n",
       "var notebookContainer = gd.closest('#notebook-container');\n",
       "if (notebookContainer) {{\n",
       "    x.observe(notebookContainer, {childList: true});\n",
       "}}\n",
       "\n",
       "// Listen for the clearing of the current output cell\n",
       "var outputEl = gd.closest('.output');\n",
       "if (outputEl) {{\n",
       "    x.observe(outputEl, {childList: true});\n",
       "}}\n",
       "\n",
       "                        })                };                });            </script>        </div>"
      ]
     },
     "metadata": {},
     "output_type": "display_data"
    }
   ],
   "source": [
    "keys, values = list(counter_venues.keys()), list(counter_venues.values())\n",
    "\n",
    "fig = px.histogram(x=keys, y=values, \n",
    "             title = 'Distribution of authors by number of articles', \n",
    "             width=1600, height=800, \n",
    "             labels={'x': 'number of articles', 'y': 'number of authors'}, nbins=100, text_auto='.1s')\n",
    "\n",
    "fig.update_traces(marker_color='rgb(158,202,225)', marker_line_color='rgb(8,48,107)',\n",
    "                  opacity=0.7)\n",
    "\n",
    "fig.show()"
   ]
  },
  {
   "cell_type": "code",
   "execution_count": 60,
   "id": "61c16569",
   "metadata": {
    "execution": {
     "iopub.execute_input": "2022-10-01T03:53:53.012677Z",
     "iopub.status.busy": "2022-10-01T03:53:53.012389Z",
     "iopub.status.idle": "2022-10-01T03:53:53.028518Z",
     "shell.execute_reply": "2022-10-01T03:53:53.027522Z"
    },
    "papermill": {
     "duration": 0.040391,
     "end_time": "2022-10-01T03:53:53.030663",
     "exception": false,
     "start_time": "2022-10-01T03:53:52.990272",
     "status": "completed"
    },
    "tags": []
   },
   "outputs": [
    {
     "data": {
      "text/plain": [
       "(6578, (6578,))"
      ]
     },
     "execution_count": 60,
     "metadata": {},
     "output_type": "execute_result"
    }
   ],
   "source": [
    "len(names_of_venue), venue_ids.value_counts().shape"
   ]
  },
  {
   "cell_type": "code",
   "execution_count": 61,
   "id": "93bb7d11",
   "metadata": {
    "execution": {
     "iopub.execute_input": "2022-10-01T03:53:53.074641Z",
     "iopub.status.busy": "2022-10-01T03:53:53.073904Z",
     "iopub.status.idle": "2022-10-01T03:53:53.132176Z",
     "shell.execute_reply": "2022-10-01T03:53:53.131193Z"
    },
    "papermill": {
     "duration": 0.082439,
     "end_time": "2022-10-01T03:53:53.134201",
     "exception": false,
     "start_time": "2022-10-01T03:53:53.051762",
     "status": "completed"
    },
    "tags": []
   },
   "outputs": [
    {
     "data": {
      "text/html": [
       "<div>                            <div id=\"52846018-9412-4982-9f65-0365cc38c1e7\" class=\"plotly-graph-div\" style=\"height:525px; width:100%;\"></div>            <script type=\"text/javascript\">                require([\"plotly\"], function(Plotly) {                    window.PLOTLYENV=window.PLOTLYENV || {};                                    if (document.getElementById(\"52846018-9412-4982-9f65-0365cc38c1e7\")) {                    Plotly.newPlot(                        \"52846018-9412-4982-9f65-0365cc38c1e7\",                        [{\"alignmentgroup\":\"True\",\"hovertemplate\":\"name of venue=%{x}<br>number of articles=%{y}<extra></extra>\",\"legendgroup\":\"\",\"marker\":{\"color\":\"rgb(158,202,225)\",\"pattern\":{\"shape\":\"\"},\"line\":{\"color\":\"rgb(8,48,107)\",\"width\":1.5}},\"name\":\"\",\"offsetgroup\":\"\",\"orientation\":\"v\",\"showlegend\":false,\"textposition\":\"auto\",\"texttemplate\":\"%{y:.3s}\",\"x\":[\"Decision and Control\",\"Neural Computation\",\"INFOCOM\",\"Encyclopedia of Cryptography and Security (2nd Ed.)\",\"Multimedia Tools Appl.\",\"Bell System Technical Journal, The\",\"Geoscience and Remote Sensing Symposium\",\"Commun. ACM\",\"Datenschutz und Datensicherheit\",\"Scholarpedia\"],\"xaxis\":\"x\",\"y\":[385,374,270,241,228,224,221,214,208,199],\"yaxis\":\"y\",\"type\":\"bar\",\"opacity\":0.7}],                        {\"template\":{\"data\":{\"histogram2dcontour\":[{\"type\":\"histogram2dcontour\",\"colorbar\":{\"outlinewidth\":0,\"ticks\":\"\"},\"colorscale\":[[0.0,\"#0d0887\"],[0.1111111111111111,\"#46039f\"],[0.2222222222222222,\"#7201a8\"],[0.3333333333333333,\"#9c179e\"],[0.4444444444444444,\"#bd3786\"],[0.5555555555555556,\"#d8576b\"],[0.6666666666666666,\"#ed7953\"],[0.7777777777777778,\"#fb9f3a\"],[0.8888888888888888,\"#fdca26\"],[1.0,\"#f0f921\"]]}],\"choropleth\":[{\"type\":\"choropleth\",\"colorbar\":{\"outlinewidth\":0,\"ticks\":\"\"}}],\"histogram2d\":[{\"type\":\"histogram2d\",\"colorbar\":{\"outlinewidth\":0,\"ticks\":\"\"},\"colorscale\":[[0.0,\"#0d0887\"],[0.1111111111111111,\"#46039f\"],[0.2222222222222222,\"#7201a8\"],[0.3333333333333333,\"#9c179e\"],[0.4444444444444444,\"#bd3786\"],[0.5555555555555556,\"#d8576b\"],[0.6666666666666666,\"#ed7953\"],[0.7777777777777778,\"#fb9f3a\"],[0.8888888888888888,\"#fdca26\"],[1.0,\"#f0f921\"]]}],\"heatmap\":[{\"type\":\"heatmap\",\"colorbar\":{\"outlinewidth\":0,\"ticks\":\"\"},\"colorscale\":[[0.0,\"#0d0887\"],[0.1111111111111111,\"#46039f\"],[0.2222222222222222,\"#7201a8\"],[0.3333333333333333,\"#9c179e\"],[0.4444444444444444,\"#bd3786\"],[0.5555555555555556,\"#d8576b\"],[0.6666666666666666,\"#ed7953\"],[0.7777777777777778,\"#fb9f3a\"],[0.8888888888888888,\"#fdca26\"],[1.0,\"#f0f921\"]]}],\"heatmapgl\":[{\"type\":\"heatmapgl\",\"colorbar\":{\"outlinewidth\":0,\"ticks\":\"\"},\"colorscale\":[[0.0,\"#0d0887\"],[0.1111111111111111,\"#46039f\"],[0.2222222222222222,\"#7201a8\"],[0.3333333333333333,\"#9c179e\"],[0.4444444444444444,\"#bd3786\"],[0.5555555555555556,\"#d8576b\"],[0.6666666666666666,\"#ed7953\"],[0.7777777777777778,\"#fb9f3a\"],[0.8888888888888888,\"#fdca26\"],[1.0,\"#f0f921\"]]}],\"contourcarpet\":[{\"type\":\"contourcarpet\",\"colorbar\":{\"outlinewidth\":0,\"ticks\":\"\"}}],\"contour\":[{\"type\":\"contour\",\"colorbar\":{\"outlinewidth\":0,\"ticks\":\"\"},\"colorscale\":[[0.0,\"#0d0887\"],[0.1111111111111111,\"#46039f\"],[0.2222222222222222,\"#7201a8\"],[0.3333333333333333,\"#9c179e\"],[0.4444444444444444,\"#bd3786\"],[0.5555555555555556,\"#d8576b\"],[0.6666666666666666,\"#ed7953\"],[0.7777777777777778,\"#fb9f3a\"],[0.8888888888888888,\"#fdca26\"],[1.0,\"#f0f921\"]]}],\"surface\":[{\"type\":\"surface\",\"colorbar\":{\"outlinewidth\":0,\"ticks\":\"\"},\"colorscale\":[[0.0,\"#0d0887\"],[0.1111111111111111,\"#46039f\"],[0.2222222222222222,\"#7201a8\"],[0.3333333333333333,\"#9c179e\"],[0.4444444444444444,\"#bd3786\"],[0.5555555555555556,\"#d8576b\"],[0.6666666666666666,\"#ed7953\"],[0.7777777777777778,\"#fb9f3a\"],[0.8888888888888888,\"#fdca26\"],[1.0,\"#f0f921\"]]}],\"mesh3d\":[{\"type\":\"mesh3d\",\"colorbar\":{\"outlinewidth\":0,\"ticks\":\"\"}}],\"scatter\":[{\"fillpattern\":{\"fillmode\":\"overlay\",\"size\":10,\"solidity\":0.2},\"type\":\"scatter\"}],\"parcoords\":[{\"type\":\"parcoords\",\"line\":{\"colorbar\":{\"outlinewidth\":0,\"ticks\":\"\"}}}],\"scatterpolargl\":[{\"type\":\"scatterpolargl\",\"marker\":{\"colorbar\":{\"outlinewidth\":0,\"ticks\":\"\"}}}],\"bar\":[{\"error_x\":{\"color\":\"#2a3f5f\"},\"error_y\":{\"color\":\"#2a3f5f\"},\"marker\":{\"line\":{\"color\":\"#E5ECF6\",\"width\":0.5},\"pattern\":{\"fillmode\":\"overlay\",\"size\":10,\"solidity\":0.2}},\"type\":\"bar\"}],\"scattergeo\":[{\"type\":\"scattergeo\",\"marker\":{\"colorbar\":{\"outlinewidth\":0,\"ticks\":\"\"}}}],\"scatterpolar\":[{\"type\":\"scatterpolar\",\"marker\":{\"colorbar\":{\"outlinewidth\":0,\"ticks\":\"\"}}}],\"histogram\":[{\"marker\":{\"pattern\":{\"fillmode\":\"overlay\",\"size\":10,\"solidity\":0.2}},\"type\":\"histogram\"}],\"scattergl\":[{\"type\":\"scattergl\",\"marker\":{\"colorbar\":{\"outlinewidth\":0,\"ticks\":\"\"}}}],\"scatter3d\":[{\"type\":\"scatter3d\",\"line\":{\"colorbar\":{\"outlinewidth\":0,\"ticks\":\"\"}},\"marker\":{\"colorbar\":{\"outlinewidth\":0,\"ticks\":\"\"}}}],\"scattermapbox\":[{\"type\":\"scattermapbox\",\"marker\":{\"colorbar\":{\"outlinewidth\":0,\"ticks\":\"\"}}}],\"scatterternary\":[{\"type\":\"scatterternary\",\"marker\":{\"colorbar\":{\"outlinewidth\":0,\"ticks\":\"\"}}}],\"scattercarpet\":[{\"type\":\"scattercarpet\",\"marker\":{\"colorbar\":{\"outlinewidth\":0,\"ticks\":\"\"}}}],\"carpet\":[{\"aaxis\":{\"endlinecolor\":\"#2a3f5f\",\"gridcolor\":\"white\",\"linecolor\":\"white\",\"minorgridcolor\":\"white\",\"startlinecolor\":\"#2a3f5f\"},\"baxis\":{\"endlinecolor\":\"#2a3f5f\",\"gridcolor\":\"white\",\"linecolor\":\"white\",\"minorgridcolor\":\"white\",\"startlinecolor\":\"#2a3f5f\"},\"type\":\"carpet\"}],\"table\":[{\"cells\":{\"fill\":{\"color\":\"#EBF0F8\"},\"line\":{\"color\":\"white\"}},\"header\":{\"fill\":{\"color\":\"#C8D4E3\"},\"line\":{\"color\":\"white\"}},\"type\":\"table\"}],\"barpolar\":[{\"marker\":{\"line\":{\"color\":\"#E5ECF6\",\"width\":0.5},\"pattern\":{\"fillmode\":\"overlay\",\"size\":10,\"solidity\":0.2}},\"type\":\"barpolar\"}],\"pie\":[{\"automargin\":true,\"type\":\"pie\"}]},\"layout\":{\"autotypenumbers\":\"strict\",\"colorway\":[\"#636efa\",\"#EF553B\",\"#00cc96\",\"#ab63fa\",\"#FFA15A\",\"#19d3f3\",\"#FF6692\",\"#B6E880\",\"#FF97FF\",\"#FECB52\"],\"font\":{\"color\":\"#2a3f5f\"},\"hovermode\":\"closest\",\"hoverlabel\":{\"align\":\"left\"},\"paper_bgcolor\":\"white\",\"plot_bgcolor\":\"#E5ECF6\",\"polar\":{\"bgcolor\":\"#E5ECF6\",\"angularaxis\":{\"gridcolor\":\"white\",\"linecolor\":\"white\",\"ticks\":\"\"},\"radialaxis\":{\"gridcolor\":\"white\",\"linecolor\":\"white\",\"ticks\":\"\"}},\"ternary\":{\"bgcolor\":\"#E5ECF6\",\"aaxis\":{\"gridcolor\":\"white\",\"linecolor\":\"white\",\"ticks\":\"\"},\"baxis\":{\"gridcolor\":\"white\",\"linecolor\":\"white\",\"ticks\":\"\"},\"caxis\":{\"gridcolor\":\"white\",\"linecolor\":\"white\",\"ticks\":\"\"}},\"coloraxis\":{\"colorbar\":{\"outlinewidth\":0,\"ticks\":\"\"}},\"colorscale\":{\"sequential\":[[0.0,\"#0d0887\"],[0.1111111111111111,\"#46039f\"],[0.2222222222222222,\"#7201a8\"],[0.3333333333333333,\"#9c179e\"],[0.4444444444444444,\"#bd3786\"],[0.5555555555555556,\"#d8576b\"],[0.6666666666666666,\"#ed7953\"],[0.7777777777777778,\"#fb9f3a\"],[0.8888888888888888,\"#fdca26\"],[1.0,\"#f0f921\"]],\"sequentialminus\":[[0.0,\"#0d0887\"],[0.1111111111111111,\"#46039f\"],[0.2222222222222222,\"#7201a8\"],[0.3333333333333333,\"#9c179e\"],[0.4444444444444444,\"#bd3786\"],[0.5555555555555556,\"#d8576b\"],[0.6666666666666666,\"#ed7953\"],[0.7777777777777778,\"#fb9f3a\"],[0.8888888888888888,\"#fdca26\"],[1.0,\"#f0f921\"]],\"diverging\":[[0,\"#8e0152\"],[0.1,\"#c51b7d\"],[0.2,\"#de77ae\"],[0.3,\"#f1b6da\"],[0.4,\"#fde0ef\"],[0.5,\"#f7f7f7\"],[0.6,\"#e6f5d0\"],[0.7,\"#b8e186\"],[0.8,\"#7fbc41\"],[0.9,\"#4d9221\"],[1,\"#276419\"]]},\"xaxis\":{\"gridcolor\":\"white\",\"linecolor\":\"white\",\"ticks\":\"\",\"title\":{\"standoff\":15},\"zerolinecolor\":\"white\",\"automargin\":true,\"zerolinewidth\":2},\"yaxis\":{\"gridcolor\":\"white\",\"linecolor\":\"white\",\"ticks\":\"\",\"title\":{\"standoff\":15},\"zerolinecolor\":\"white\",\"automargin\":true,\"zerolinewidth\":2},\"scene\":{\"xaxis\":{\"backgroundcolor\":\"#E5ECF6\",\"gridcolor\":\"white\",\"linecolor\":\"white\",\"showbackground\":true,\"ticks\":\"\",\"zerolinecolor\":\"white\",\"gridwidth\":2},\"yaxis\":{\"backgroundcolor\":\"#E5ECF6\",\"gridcolor\":\"white\",\"linecolor\":\"white\",\"showbackground\":true,\"ticks\":\"\",\"zerolinecolor\":\"white\",\"gridwidth\":2},\"zaxis\":{\"backgroundcolor\":\"#E5ECF6\",\"gridcolor\":\"white\",\"linecolor\":\"white\",\"showbackground\":true,\"ticks\":\"\",\"zerolinecolor\":\"white\",\"gridwidth\":2}},\"shapedefaults\":{\"line\":{\"color\":\"#2a3f5f\"}},\"annotationdefaults\":{\"arrowcolor\":\"#2a3f5f\",\"arrowhead\":0,\"arrowwidth\":1},\"geo\":{\"bgcolor\":\"white\",\"landcolor\":\"#E5ECF6\",\"subunitcolor\":\"white\",\"showland\":true,\"showlakes\":true,\"lakecolor\":\"white\"},\"title\":{\"x\":0.05},\"mapbox\":{\"style\":\"light\"}}},\"xaxis\":{\"anchor\":\"y\",\"domain\":[0.0,1.0],\"title\":{\"text\":\"name of venue\"}},\"yaxis\":{\"anchor\":\"x\",\"domain\":[0.0,1.0],\"title\":{\"text\":\"number of articles\"}},\"legend\":{\"tracegroupgap\":0},\"title\":{\"text\":\"Top venues by number of articles\"},\"barmode\":\"relative\"},                        {\"responsive\": true}                    ).then(function(){\n",
       "                            \n",
       "var gd = document.getElementById('52846018-9412-4982-9f65-0365cc38c1e7');\n",
       "var x = new MutationObserver(function (mutations, observer) {{\n",
       "        var display = window.getComputedStyle(gd).display;\n",
       "        if (!display || display === 'none') {{\n",
       "            console.log([gd, 'removed!']);\n",
       "            Plotly.purge(gd);\n",
       "            observer.disconnect();\n",
       "        }}\n",
       "}});\n",
       "\n",
       "// Listen for the removal of the full notebook cells\n",
       "var notebookContainer = gd.closest('#notebook-container');\n",
       "if (notebookContainer) {{\n",
       "    x.observe(notebookContainer, {childList: true});\n",
       "}}\n",
       "\n",
       "// Listen for the clearing of the current output cell\n",
       "var outputEl = gd.closest('.output');\n",
       "if (outputEl) {{\n",
       "    x.observe(outputEl, {childList: true});\n",
       "}}\n",
       "\n",
       "                        })                };                });            </script>        </div>"
      ]
     },
     "metadata": {},
     "output_type": "display_data"
    }
   ],
   "source": [
    "keys, values = names_of_venue[:10], venue_ids.value_counts().values[:10]\n",
    "\n",
    "fig = px.bar(x=keys, y=values, title = 'Top venues by number of articles', text_auto='.3s', \n",
    "             labels={'x': 'name of venue', 'y': 'number of articles'})\n",
    "\n",
    "fig.update_traces(marker_color='rgb(158,202,225)', marker_line_color='rgb(8,48,107)',\n",
    "                  marker_line_width=1.5, opacity=0.7)\n",
    "\n",
    "fig.show();"
   ]
  },
  {
   "cell_type": "markdown",
   "id": "fe38d227",
   "metadata": {
    "papermill": {
     "duration": 0.021298,
     "end_time": "2022-10-01T03:53:53.177139",
     "exception": false,
     "start_time": "2022-10-01T03:53:53.155841",
     "status": "completed"
    },
    "tags": []
   },
   "source": [
    "# Citations"
   ]
  },
  {
   "cell_type": "code",
   "execution_count": 62,
   "id": "ea2622fd",
   "metadata": {
    "execution": {
     "iopub.execute_input": "2022-10-01T03:53:53.221757Z",
     "iopub.status.busy": "2022-10-01T03:53:53.221485Z",
     "iopub.status.idle": "2022-10-01T03:53:53.229656Z",
     "shell.execute_reply": "2022-10-01T03:53:53.228646Z"
    },
    "papermill": {
     "duration": 0.032818,
     "end_time": "2022-10-01T03:53:53.231834",
     "exception": false,
     "start_time": "2022-10-01T03:53:53.199016",
     "status": "completed"
    },
    "tags": []
   },
   "outputs": [
    {
     "data": {
      "text/plain": [
       "724"
      ]
     },
     "execution_count": 62,
     "metadata": {},
     "output_type": "execute_result"
    }
   ],
   "source": [
    "n_citation = data.n_citation\n",
    "n_citation.isnull().sum()"
   ]
  },
  {
   "cell_type": "code",
   "execution_count": 63,
   "id": "a147f718",
   "metadata": {
    "execution": {
     "iopub.execute_input": "2022-10-01T03:53:53.276631Z",
     "iopub.status.busy": "2022-10-01T03:53:53.276368Z",
     "iopub.status.idle": "2022-10-01T03:53:53.283473Z",
     "shell.execute_reply": "2022-10-01T03:53:53.282548Z"
    },
    "papermill": {
     "duration": 0.031747,
     "end_time": "2022-10-01T03:53:53.285697",
     "exception": false,
     "start_time": "2022-10-01T03:53:53.253950",
     "status": "completed"
    },
    "tags": []
   },
   "outputs": [
    {
     "data": {
      "text/plain": [
       "0    647.0\n",
       "1      NaN\n",
       "2      NaN\n",
       "3      NaN\n",
       "4      NaN\n",
       "5      NaN\n",
       "6      NaN\n",
       "7     41.0\n",
       "8      NaN\n",
       "9      NaN\n",
       "Name: n_citation, dtype: float64"
      ]
     },
     "execution_count": 63,
     "metadata": {},
     "output_type": "execute_result"
    }
   ],
   "source": [
    "n_citation.head(10)"
   ]
  },
  {
   "cell_type": "code",
   "execution_count": 64,
   "id": "17ae346e",
   "metadata": {
    "execution": {
     "iopub.execute_input": "2022-10-01T03:53:53.331443Z",
     "iopub.status.busy": "2022-10-01T03:53:53.330590Z",
     "iopub.status.idle": "2022-10-01T03:53:53.335997Z",
     "shell.execute_reply": "2022-10-01T03:53:53.335150Z"
    },
    "papermill": {
     "duration": 0.030249,
     "end_time": "2022-10-01T03:53:53.338022",
     "exception": false,
     "start_time": "2022-10-01T03:53:53.307773",
     "status": "completed"
    },
    "tags": []
   },
   "outputs": [],
   "source": [
    "n_citation = n_citation.fillna(0)\n",
    "data.n_citation = n_citation"
   ]
  },
  {
   "cell_type": "code",
   "execution_count": 65,
   "id": "950463f4",
   "metadata": {
    "execution": {
     "iopub.execute_input": "2022-10-01T03:53:53.383168Z",
     "iopub.status.busy": "2022-10-01T03:53:53.382895Z",
     "iopub.status.idle": "2022-10-01T03:53:53.395913Z",
     "shell.execute_reply": "2022-10-01T03:53:53.394979Z"
    },
    "papermill": {
     "duration": 0.038113,
     "end_time": "2022-10-01T03:53:53.397972",
     "exception": false,
     "start_time": "2022-10-01T03:53:53.359859",
     "status": "completed"
    },
    "tags": []
   },
   "outputs": [
    {
     "data": {
      "text/plain": [
       "232747    77820.0\n",
       "9828      26477.0\n",
       "2331      21999.0\n",
       "9125      19860.0\n",
       "3382      14570.0\n",
       "           ...   \n",
       "10089         0.0\n",
       "10091         0.0\n",
       "2487          0.0\n",
       "105268        0.0\n",
       "134509        0.0\n",
       "Name: n_citation, Length: 49995, dtype: float64"
      ]
     },
     "execution_count": 65,
     "metadata": {},
     "output_type": "execute_result"
    }
   ],
   "source": [
    "n_citation.sort_values(ascending=False)"
   ]
  },
  {
   "cell_type": "code",
   "execution_count": 66,
   "id": "754ea63e",
   "metadata": {
    "execution": {
     "iopub.execute_input": "2022-10-01T03:53:53.444339Z",
     "iopub.status.busy": "2022-10-01T03:53:53.444006Z",
     "iopub.status.idle": "2022-10-01T03:53:55.318703Z",
     "shell.execute_reply": "2022-10-01T03:53:55.317630Z"
    },
    "papermill": {
     "duration": 1.90033,
     "end_time": "2022-10-01T03:53:55.321206",
     "exception": false,
     "start_time": "2022-10-01T03:53:53.420876",
     "status": "completed"
    },
    "tags": []
   },
   "outputs": [],
   "source": [
    "citation_counter = defaultdict(int)\n",
    "for indx in data.index:\n",
    "    for author_id in data.author_ids[indx]:\n",
    "        citation_counter[author_id] += data.n_citation[indx]\n",
    "citation_counter[''] = 0"
   ]
  },
  {
   "cell_type": "code",
   "execution_count": 67,
   "id": "42a48625",
   "metadata": {
    "execution": {
     "iopub.execute_input": "2022-10-01T03:53:55.367293Z",
     "iopub.status.busy": "2022-10-01T03:53:55.366967Z",
     "iopub.status.idle": "2022-10-01T03:53:55.371231Z",
     "shell.execute_reply": "2022-10-01T03:53:55.370163Z"
    },
    "papermill": {
     "duration": 0.029909,
     "end_time": "2022-10-01T03:53:55.373858",
     "exception": false,
     "start_time": "2022-10-01T03:53:55.343949",
     "status": "completed"
    },
    "tags": []
   },
   "outputs": [],
   "source": [
    "# sorted(list(citation_counter.items()), key=lambda x: -x[1])"
   ]
  },
  {
   "cell_type": "code",
   "execution_count": 68,
   "id": "bcfc1a93",
   "metadata": {
    "execution": {
     "iopub.execute_input": "2022-10-01T03:53:55.418535Z",
     "iopub.status.busy": "2022-10-01T03:53:55.418253Z",
     "iopub.status.idle": "2022-10-01T03:53:55.450592Z",
     "shell.execute_reply": "2022-10-01T03:53:55.449633Z"
    },
    "papermill": {
     "duration": 0.056804,
     "end_time": "2022-10-01T03:53:55.452588",
     "exception": false,
     "start_time": "2022-10-01T03:53:55.395784",
     "status": "completed"
    },
    "tags": []
   },
   "outputs": [
    {
     "data": {
      "text/plain": [
       "[77820.0,\n",
       " 26477.0,\n",
       " 25215.0,\n",
       " 25215.0,\n",
       " 25111.0,\n",
       " 19860.0,\n",
       " 16449.0,\n",
       " 14570.0,\n",
       " 14570.0,\n",
       " 13133.0]"
      ]
     },
     "execution_count": 68,
     "metadata": {},
     "output_type": "execute_result"
    }
   ],
   "source": [
    "sorted(list(citation_counter.values()), reverse=True)[:10]"
   ]
  },
  {
   "cell_type": "code",
   "execution_count": 69,
   "id": "afd52ce1",
   "metadata": {
    "execution": {
     "iopub.execute_input": "2022-10-01T03:53:55.498348Z",
     "iopub.status.busy": "2022-10-01T03:53:55.497577Z",
     "iopub.status.idle": "2022-10-01T03:53:55.573370Z",
     "shell.execute_reply": "2022-10-01T03:53:55.572335Z"
    },
    "papermill": {
     "duration": 0.100986,
     "end_time": "2022-10-01T03:53:55.575751",
     "exception": false,
     "start_time": "2022-10-01T03:53:55.474765",
     "status": "completed"
    },
    "tags": []
   },
   "outputs": [
    {
     "data": {
      "text/html": [
       "<div>                            <div id=\"0af43aec-f699-4c77-a72c-1f40665dac6b\" class=\"plotly-graph-div\" style=\"height:525px; width:100%;\"></div>            <script type=\"text/javascript\">                require([\"plotly\"], function(Plotly) {                    window.PLOTLYENV=window.PLOTLYENV || {};                                    if (document.getElementById(\"0af43aec-f699-4c77-a72c-1f40665dac6b\")) {                    Plotly.newPlot(                        \"0af43aec-f699-4c77-a72c-1f40665dac6b\",                        [{\"alignmentgroup\":\"True\",\"hovertemplate\":\"x=%{x}<br>number of citations=%{y}<extra></extra>\",\"legendgroup\":\"\",\"marker\":{\"color\":\"rgb(158,202,225)\",\"pattern\":{\"shape\":\"\"},\"line\":{\"color\":\"rgb(8,48,107)\",\"width\":2}},\"name\":\"\",\"offsetgroup\":\"\",\"orientation\":\"v\",\"showlegend\":false,\"textposition\":\"auto\",\"texttemplate\":\"%{y:.4s}\",\"x\":[0,1,2,3,4,5,6,7,8,9],\"xaxis\":\"x\",\"y\":[77820.0,26477.0,25215.0,25215.0,25111.0,19860.0,16449.0,14570.0,14570.0,13133.0],\"yaxis\":\"y\",\"type\":\"bar\",\"opacity\":0.7}],                        {\"template\":{\"data\":{\"histogram2dcontour\":[{\"type\":\"histogram2dcontour\",\"colorbar\":{\"outlinewidth\":0,\"ticks\":\"\"},\"colorscale\":[[0.0,\"#0d0887\"],[0.1111111111111111,\"#46039f\"],[0.2222222222222222,\"#7201a8\"],[0.3333333333333333,\"#9c179e\"],[0.4444444444444444,\"#bd3786\"],[0.5555555555555556,\"#d8576b\"],[0.6666666666666666,\"#ed7953\"],[0.7777777777777778,\"#fb9f3a\"],[0.8888888888888888,\"#fdca26\"],[1.0,\"#f0f921\"]]}],\"choropleth\":[{\"type\":\"choropleth\",\"colorbar\":{\"outlinewidth\":0,\"ticks\":\"\"}}],\"histogram2d\":[{\"type\":\"histogram2d\",\"colorbar\":{\"outlinewidth\":0,\"ticks\":\"\"},\"colorscale\":[[0.0,\"#0d0887\"],[0.1111111111111111,\"#46039f\"],[0.2222222222222222,\"#7201a8\"],[0.3333333333333333,\"#9c179e\"],[0.4444444444444444,\"#bd3786\"],[0.5555555555555556,\"#d8576b\"],[0.6666666666666666,\"#ed7953\"],[0.7777777777777778,\"#fb9f3a\"],[0.8888888888888888,\"#fdca26\"],[1.0,\"#f0f921\"]]}],\"heatmap\":[{\"type\":\"heatmap\",\"colorbar\":{\"outlinewidth\":0,\"ticks\":\"\"},\"colorscale\":[[0.0,\"#0d0887\"],[0.1111111111111111,\"#46039f\"],[0.2222222222222222,\"#7201a8\"],[0.3333333333333333,\"#9c179e\"],[0.4444444444444444,\"#bd3786\"],[0.5555555555555556,\"#d8576b\"],[0.6666666666666666,\"#ed7953\"],[0.7777777777777778,\"#fb9f3a\"],[0.8888888888888888,\"#fdca26\"],[1.0,\"#f0f921\"]]}],\"heatmapgl\":[{\"type\":\"heatmapgl\",\"colorbar\":{\"outlinewidth\":0,\"ticks\":\"\"},\"colorscale\":[[0.0,\"#0d0887\"],[0.1111111111111111,\"#46039f\"],[0.2222222222222222,\"#7201a8\"],[0.3333333333333333,\"#9c179e\"],[0.4444444444444444,\"#bd3786\"],[0.5555555555555556,\"#d8576b\"],[0.6666666666666666,\"#ed7953\"],[0.7777777777777778,\"#fb9f3a\"],[0.8888888888888888,\"#fdca26\"],[1.0,\"#f0f921\"]]}],\"contourcarpet\":[{\"type\":\"contourcarpet\",\"colorbar\":{\"outlinewidth\":0,\"ticks\":\"\"}}],\"contour\":[{\"type\":\"contour\",\"colorbar\":{\"outlinewidth\":0,\"ticks\":\"\"},\"colorscale\":[[0.0,\"#0d0887\"],[0.1111111111111111,\"#46039f\"],[0.2222222222222222,\"#7201a8\"],[0.3333333333333333,\"#9c179e\"],[0.4444444444444444,\"#bd3786\"],[0.5555555555555556,\"#d8576b\"],[0.6666666666666666,\"#ed7953\"],[0.7777777777777778,\"#fb9f3a\"],[0.8888888888888888,\"#fdca26\"],[1.0,\"#f0f921\"]]}],\"surface\":[{\"type\":\"surface\",\"colorbar\":{\"outlinewidth\":0,\"ticks\":\"\"},\"colorscale\":[[0.0,\"#0d0887\"],[0.1111111111111111,\"#46039f\"],[0.2222222222222222,\"#7201a8\"],[0.3333333333333333,\"#9c179e\"],[0.4444444444444444,\"#bd3786\"],[0.5555555555555556,\"#d8576b\"],[0.6666666666666666,\"#ed7953\"],[0.7777777777777778,\"#fb9f3a\"],[0.8888888888888888,\"#fdca26\"],[1.0,\"#f0f921\"]]}],\"mesh3d\":[{\"type\":\"mesh3d\",\"colorbar\":{\"outlinewidth\":0,\"ticks\":\"\"}}],\"scatter\":[{\"fillpattern\":{\"fillmode\":\"overlay\",\"size\":10,\"solidity\":0.2},\"type\":\"scatter\"}],\"parcoords\":[{\"type\":\"parcoords\",\"line\":{\"colorbar\":{\"outlinewidth\":0,\"ticks\":\"\"}}}],\"scatterpolargl\":[{\"type\":\"scatterpolargl\",\"marker\":{\"colorbar\":{\"outlinewidth\":0,\"ticks\":\"\"}}}],\"bar\":[{\"error_x\":{\"color\":\"#2a3f5f\"},\"error_y\":{\"color\":\"#2a3f5f\"},\"marker\":{\"line\":{\"color\":\"#E5ECF6\",\"width\":0.5},\"pattern\":{\"fillmode\":\"overlay\",\"size\":10,\"solidity\":0.2}},\"type\":\"bar\"}],\"scattergeo\":[{\"type\":\"scattergeo\",\"marker\":{\"colorbar\":{\"outlinewidth\":0,\"ticks\":\"\"}}}],\"scatterpolar\":[{\"type\":\"scatterpolar\",\"marker\":{\"colorbar\":{\"outlinewidth\":0,\"ticks\":\"\"}}}],\"histogram\":[{\"marker\":{\"pattern\":{\"fillmode\":\"overlay\",\"size\":10,\"solidity\":0.2}},\"type\":\"histogram\"}],\"scattergl\":[{\"type\":\"scattergl\",\"marker\":{\"colorbar\":{\"outlinewidth\":0,\"ticks\":\"\"}}}],\"scatter3d\":[{\"type\":\"scatter3d\",\"line\":{\"colorbar\":{\"outlinewidth\":0,\"ticks\":\"\"}},\"marker\":{\"colorbar\":{\"outlinewidth\":0,\"ticks\":\"\"}}}],\"scattermapbox\":[{\"type\":\"scattermapbox\",\"marker\":{\"colorbar\":{\"outlinewidth\":0,\"ticks\":\"\"}}}],\"scatterternary\":[{\"type\":\"scatterternary\",\"marker\":{\"colorbar\":{\"outlinewidth\":0,\"ticks\":\"\"}}}],\"scattercarpet\":[{\"type\":\"scattercarpet\",\"marker\":{\"colorbar\":{\"outlinewidth\":0,\"ticks\":\"\"}}}],\"carpet\":[{\"aaxis\":{\"endlinecolor\":\"#2a3f5f\",\"gridcolor\":\"white\",\"linecolor\":\"white\",\"minorgridcolor\":\"white\",\"startlinecolor\":\"#2a3f5f\"},\"baxis\":{\"endlinecolor\":\"#2a3f5f\",\"gridcolor\":\"white\",\"linecolor\":\"white\",\"minorgridcolor\":\"white\",\"startlinecolor\":\"#2a3f5f\"},\"type\":\"carpet\"}],\"table\":[{\"cells\":{\"fill\":{\"color\":\"#EBF0F8\"},\"line\":{\"color\":\"white\"}},\"header\":{\"fill\":{\"color\":\"#C8D4E3\"},\"line\":{\"color\":\"white\"}},\"type\":\"table\"}],\"barpolar\":[{\"marker\":{\"line\":{\"color\":\"#E5ECF6\",\"width\":0.5},\"pattern\":{\"fillmode\":\"overlay\",\"size\":10,\"solidity\":0.2}},\"type\":\"barpolar\"}],\"pie\":[{\"automargin\":true,\"type\":\"pie\"}]},\"layout\":{\"autotypenumbers\":\"strict\",\"colorway\":[\"#636efa\",\"#EF553B\",\"#00cc96\",\"#ab63fa\",\"#FFA15A\",\"#19d3f3\",\"#FF6692\",\"#B6E880\",\"#FF97FF\",\"#FECB52\"],\"font\":{\"color\":\"#2a3f5f\"},\"hovermode\":\"closest\",\"hoverlabel\":{\"align\":\"left\"},\"paper_bgcolor\":\"white\",\"plot_bgcolor\":\"#E5ECF6\",\"polar\":{\"bgcolor\":\"#E5ECF6\",\"angularaxis\":{\"gridcolor\":\"white\",\"linecolor\":\"white\",\"ticks\":\"\"},\"radialaxis\":{\"gridcolor\":\"white\",\"linecolor\":\"white\",\"ticks\":\"\"}},\"ternary\":{\"bgcolor\":\"#E5ECF6\",\"aaxis\":{\"gridcolor\":\"white\",\"linecolor\":\"white\",\"ticks\":\"\"},\"baxis\":{\"gridcolor\":\"white\",\"linecolor\":\"white\",\"ticks\":\"\"},\"caxis\":{\"gridcolor\":\"white\",\"linecolor\":\"white\",\"ticks\":\"\"}},\"coloraxis\":{\"colorbar\":{\"outlinewidth\":0,\"ticks\":\"\"}},\"colorscale\":{\"sequential\":[[0.0,\"#0d0887\"],[0.1111111111111111,\"#46039f\"],[0.2222222222222222,\"#7201a8\"],[0.3333333333333333,\"#9c179e\"],[0.4444444444444444,\"#bd3786\"],[0.5555555555555556,\"#d8576b\"],[0.6666666666666666,\"#ed7953\"],[0.7777777777777778,\"#fb9f3a\"],[0.8888888888888888,\"#fdca26\"],[1.0,\"#f0f921\"]],\"sequentialminus\":[[0.0,\"#0d0887\"],[0.1111111111111111,\"#46039f\"],[0.2222222222222222,\"#7201a8\"],[0.3333333333333333,\"#9c179e\"],[0.4444444444444444,\"#bd3786\"],[0.5555555555555556,\"#d8576b\"],[0.6666666666666666,\"#ed7953\"],[0.7777777777777778,\"#fb9f3a\"],[0.8888888888888888,\"#fdca26\"],[1.0,\"#f0f921\"]],\"diverging\":[[0,\"#8e0152\"],[0.1,\"#c51b7d\"],[0.2,\"#de77ae\"],[0.3,\"#f1b6da\"],[0.4,\"#fde0ef\"],[0.5,\"#f7f7f7\"],[0.6,\"#e6f5d0\"],[0.7,\"#b8e186\"],[0.8,\"#7fbc41\"],[0.9,\"#4d9221\"],[1,\"#276419\"]]},\"xaxis\":{\"gridcolor\":\"white\",\"linecolor\":\"white\",\"ticks\":\"\",\"title\":{\"standoff\":15},\"zerolinecolor\":\"white\",\"automargin\":true,\"zerolinewidth\":2},\"yaxis\":{\"gridcolor\":\"white\",\"linecolor\":\"white\",\"ticks\":\"\",\"title\":{\"standoff\":15},\"zerolinecolor\":\"white\",\"automargin\":true,\"zerolinewidth\":2},\"scene\":{\"xaxis\":{\"backgroundcolor\":\"#E5ECF6\",\"gridcolor\":\"white\",\"linecolor\":\"white\",\"showbackground\":true,\"ticks\":\"\",\"zerolinecolor\":\"white\",\"gridwidth\":2},\"yaxis\":{\"backgroundcolor\":\"#E5ECF6\",\"gridcolor\":\"white\",\"linecolor\":\"white\",\"showbackground\":true,\"ticks\":\"\",\"zerolinecolor\":\"white\",\"gridwidth\":2},\"zaxis\":{\"backgroundcolor\":\"#E5ECF6\",\"gridcolor\":\"white\",\"linecolor\":\"white\",\"showbackground\":true,\"ticks\":\"\",\"zerolinecolor\":\"white\",\"gridwidth\":2}},\"shapedefaults\":{\"line\":{\"color\":\"#2a3f5f\"}},\"annotationdefaults\":{\"arrowcolor\":\"#2a3f5f\",\"arrowhead\":0,\"arrowwidth\":1},\"geo\":{\"bgcolor\":\"white\",\"landcolor\":\"#E5ECF6\",\"subunitcolor\":\"white\",\"showland\":true,\"showlakes\":true,\"lakecolor\":\"white\"},\"title\":{\"x\":0.05},\"mapbox\":{\"style\":\"light\"}}},\"xaxis\":{\"anchor\":\"y\",\"domain\":[0.0,1.0],\"title\":{\"text\":\"x\"}},\"yaxis\":{\"anchor\":\"x\",\"domain\":[0.0,1.0],\"title\":{\"text\":\"number of citations\"}},\"legend\":{\"tracegroupgap\":0},\"title\":{\"text\":\"Distribution of authors by number of citations\"},\"barmode\":\"relative\"},                        {\"responsive\": true}                    ).then(function(){\n",
       "                            \n",
       "var gd = document.getElementById('0af43aec-f699-4c77-a72c-1f40665dac6b');\n",
       "var x = new MutationObserver(function (mutations, observer) {{\n",
       "        var display = window.getComputedStyle(gd).display;\n",
       "        if (!display || display === 'none') {{\n",
       "            console.log([gd, 'removed!']);\n",
       "            Plotly.purge(gd);\n",
       "            observer.disconnect();\n",
       "        }}\n",
       "}});\n",
       "\n",
       "// Listen for the removal of the full notebook cells\n",
       "var notebookContainer = gd.closest('#notebook-container');\n",
       "if (notebookContainer) {{\n",
       "    x.observe(notebookContainer, {childList: true});\n",
       "}}\n",
       "\n",
       "// Listen for the clearing of the current output cell\n",
       "var outputEl = gd.closest('.output');\n",
       "if (outputEl) {{\n",
       "    x.observe(outputEl, {childList: true});\n",
       "}}\n",
       "\n",
       "                        })                };                });            </script>        </div>"
      ]
     },
     "metadata": {},
     "output_type": "display_data"
    }
   ],
   "source": [
    "keys, values = range(10), sorted(list(citation_counter.values()), reverse=True)[:10]\n",
    "\n",
    "fig = px.bar(x=keys, y=values, \n",
    "                  title = 'Distribution of authors by number of citations', \n",
    "                  text_auto='.4s',\n",
    "                  labels={'y': 'number of citations'})\n",
    "\n",
    "fig.update_traces(marker_color='rgb(158,202,225)', marker_line_color='rgb(8,48,107)',\n",
    "                  marker_line_width=2, opacity=0.7)\n",
    "\n",
    "fig.show()"
   ]
  },
  {
   "cell_type": "code",
   "execution_count": 70,
   "id": "f56325af",
   "metadata": {
    "execution": {
     "iopub.execute_input": "2022-10-01T03:53:55.622008Z",
     "iopub.status.busy": "2022-10-01T03:53:55.621188Z",
     "iopub.status.idle": "2022-10-01T03:53:55.634007Z",
     "shell.execute_reply": "2022-10-01T03:53:55.632932Z"
    },
    "papermill": {
     "duration": 0.037948,
     "end_time": "2022-10-01T03:53:55.636119",
     "exception": false,
     "start_time": "2022-10-01T03:53:55.598171",
     "status": "completed"
    },
    "tags": []
   },
   "outputs": [
    {
     "data": {
      "text/plain": [
       "232747                                  [Claude E. Shannon]\n",
       "9828                                         [D. L. Donoho]\n",
       "2331                                           [W S BRINES]\n",
       "9125                                          [Leo Breiman]\n",
       "3382                       [C. de L. Ryals, K. J. Fielding]\n",
       "7373                                          [John Cullen]\n",
       "117794    [Garrett M. Morris, David S. Goodsell, Robert ...\n",
       "240071      [Sch&#246, lkopf, B, Smola, A, M&#252, ller, K]\n",
       "559       [Dennis A. Benson, Mark S. Boguski, David J. L...\n",
       "230362                                [Foschini, Gerard J.]\n",
       "Name: author_names, dtype: object"
      ]
     },
     "execution_count": 70,
     "metadata": {},
     "output_type": "execute_result"
    }
   ],
   "source": [
    "data.author_names[n_citation.sort_values(ascending=False).index[:10]]"
   ]
  },
  {
   "cell_type": "code",
   "execution_count": 71,
   "id": "02014c9a",
   "metadata": {
    "execution": {
     "iopub.execute_input": "2022-10-01T03:53:55.682337Z",
     "iopub.status.busy": "2022-10-01T03:53:55.682050Z",
     "iopub.status.idle": "2022-10-01T03:53:55.739833Z",
     "shell.execute_reply": "2022-10-01T03:53:55.738926Z"
    },
    "papermill": {
     "duration": 0.083444,
     "end_time": "2022-10-01T03:53:55.741995",
     "exception": false,
     "start_time": "2022-10-01T03:53:55.658551",
     "status": "completed"
    },
    "tags": []
   },
   "outputs": [
    {
     "data": {
      "text/html": [
       "<div>                            <div id=\"77ff42ec-98eb-4d34-ae65-55927945c7e9\" class=\"plotly-graph-div\" style=\"height:525px; width:100%;\"></div>            <script type=\"text/javascript\">                require([\"plotly\"], function(Plotly) {                    window.PLOTLYENV=window.PLOTLYENV || {};                                    if (document.getElementById(\"77ff42ec-98eb-4d34-ae65-55927945c7e9\")) {                    Plotly.newPlot(                        \"77ff42ec-98eb-4d34-ae65-55927945c7e9\",                        [{\"alignmentgroup\":\"True\",\"hovertemplate\":\"x=%{x}<br>number of citations=%{y}<extra></extra>\",\"legendgroup\":\"\",\"marker\":{\"color\":\"rgb(158,202,225)\",\"pattern\":{\"shape\":\"\"},\"line\":{\"color\":\"rgb(8,48,107)\",\"width\":1.5}},\"name\":\"\",\"offsetgroup\":\"\",\"orientation\":\"v\",\"showlegend\":false,\"textposition\":\"auto\",\"texttemplate\":\"%{y:.2s}\",\"x\":[0,1,2,3,4,5,6,7,8,9],\"xaxis\":\"x\",\"y\":[77820.0,26477.0,21999.0,19860.0,14570.0,9361.0,8826.0,8800.0,8705.0,8226.0],\"yaxis\":\"y\",\"type\":\"bar\",\"opacity\":0.7}],                        {\"template\":{\"data\":{\"histogram2dcontour\":[{\"type\":\"histogram2dcontour\",\"colorbar\":{\"outlinewidth\":0,\"ticks\":\"\"},\"colorscale\":[[0.0,\"#0d0887\"],[0.1111111111111111,\"#46039f\"],[0.2222222222222222,\"#7201a8\"],[0.3333333333333333,\"#9c179e\"],[0.4444444444444444,\"#bd3786\"],[0.5555555555555556,\"#d8576b\"],[0.6666666666666666,\"#ed7953\"],[0.7777777777777778,\"#fb9f3a\"],[0.8888888888888888,\"#fdca26\"],[1.0,\"#f0f921\"]]}],\"choropleth\":[{\"type\":\"choropleth\",\"colorbar\":{\"outlinewidth\":0,\"ticks\":\"\"}}],\"histogram2d\":[{\"type\":\"histogram2d\",\"colorbar\":{\"outlinewidth\":0,\"ticks\":\"\"},\"colorscale\":[[0.0,\"#0d0887\"],[0.1111111111111111,\"#46039f\"],[0.2222222222222222,\"#7201a8\"],[0.3333333333333333,\"#9c179e\"],[0.4444444444444444,\"#bd3786\"],[0.5555555555555556,\"#d8576b\"],[0.6666666666666666,\"#ed7953\"],[0.7777777777777778,\"#fb9f3a\"],[0.8888888888888888,\"#fdca26\"],[1.0,\"#f0f921\"]]}],\"heatmap\":[{\"type\":\"heatmap\",\"colorbar\":{\"outlinewidth\":0,\"ticks\":\"\"},\"colorscale\":[[0.0,\"#0d0887\"],[0.1111111111111111,\"#46039f\"],[0.2222222222222222,\"#7201a8\"],[0.3333333333333333,\"#9c179e\"],[0.4444444444444444,\"#bd3786\"],[0.5555555555555556,\"#d8576b\"],[0.6666666666666666,\"#ed7953\"],[0.7777777777777778,\"#fb9f3a\"],[0.8888888888888888,\"#fdca26\"],[1.0,\"#f0f921\"]]}],\"heatmapgl\":[{\"type\":\"heatmapgl\",\"colorbar\":{\"outlinewidth\":0,\"ticks\":\"\"},\"colorscale\":[[0.0,\"#0d0887\"],[0.1111111111111111,\"#46039f\"],[0.2222222222222222,\"#7201a8\"],[0.3333333333333333,\"#9c179e\"],[0.4444444444444444,\"#bd3786\"],[0.5555555555555556,\"#d8576b\"],[0.6666666666666666,\"#ed7953\"],[0.7777777777777778,\"#fb9f3a\"],[0.8888888888888888,\"#fdca26\"],[1.0,\"#f0f921\"]]}],\"contourcarpet\":[{\"type\":\"contourcarpet\",\"colorbar\":{\"outlinewidth\":0,\"ticks\":\"\"}}],\"contour\":[{\"type\":\"contour\",\"colorbar\":{\"outlinewidth\":0,\"ticks\":\"\"},\"colorscale\":[[0.0,\"#0d0887\"],[0.1111111111111111,\"#46039f\"],[0.2222222222222222,\"#7201a8\"],[0.3333333333333333,\"#9c179e\"],[0.4444444444444444,\"#bd3786\"],[0.5555555555555556,\"#d8576b\"],[0.6666666666666666,\"#ed7953\"],[0.7777777777777778,\"#fb9f3a\"],[0.8888888888888888,\"#fdca26\"],[1.0,\"#f0f921\"]]}],\"surface\":[{\"type\":\"surface\",\"colorbar\":{\"outlinewidth\":0,\"ticks\":\"\"},\"colorscale\":[[0.0,\"#0d0887\"],[0.1111111111111111,\"#46039f\"],[0.2222222222222222,\"#7201a8\"],[0.3333333333333333,\"#9c179e\"],[0.4444444444444444,\"#bd3786\"],[0.5555555555555556,\"#d8576b\"],[0.6666666666666666,\"#ed7953\"],[0.7777777777777778,\"#fb9f3a\"],[0.8888888888888888,\"#fdca26\"],[1.0,\"#f0f921\"]]}],\"mesh3d\":[{\"type\":\"mesh3d\",\"colorbar\":{\"outlinewidth\":0,\"ticks\":\"\"}}],\"scatter\":[{\"fillpattern\":{\"fillmode\":\"overlay\",\"size\":10,\"solidity\":0.2},\"type\":\"scatter\"}],\"parcoords\":[{\"type\":\"parcoords\",\"line\":{\"colorbar\":{\"outlinewidth\":0,\"ticks\":\"\"}}}],\"scatterpolargl\":[{\"type\":\"scatterpolargl\",\"marker\":{\"colorbar\":{\"outlinewidth\":0,\"ticks\":\"\"}}}],\"bar\":[{\"error_x\":{\"color\":\"#2a3f5f\"},\"error_y\":{\"color\":\"#2a3f5f\"},\"marker\":{\"line\":{\"color\":\"#E5ECF6\",\"width\":0.5},\"pattern\":{\"fillmode\":\"overlay\",\"size\":10,\"solidity\":0.2}},\"type\":\"bar\"}],\"scattergeo\":[{\"type\":\"scattergeo\",\"marker\":{\"colorbar\":{\"outlinewidth\":0,\"ticks\":\"\"}}}],\"scatterpolar\":[{\"type\":\"scatterpolar\",\"marker\":{\"colorbar\":{\"outlinewidth\":0,\"ticks\":\"\"}}}],\"histogram\":[{\"marker\":{\"pattern\":{\"fillmode\":\"overlay\",\"size\":10,\"solidity\":0.2}},\"type\":\"histogram\"}],\"scattergl\":[{\"type\":\"scattergl\",\"marker\":{\"colorbar\":{\"outlinewidth\":0,\"ticks\":\"\"}}}],\"scatter3d\":[{\"type\":\"scatter3d\",\"line\":{\"colorbar\":{\"outlinewidth\":0,\"ticks\":\"\"}},\"marker\":{\"colorbar\":{\"outlinewidth\":0,\"ticks\":\"\"}}}],\"scattermapbox\":[{\"type\":\"scattermapbox\",\"marker\":{\"colorbar\":{\"outlinewidth\":0,\"ticks\":\"\"}}}],\"scatterternary\":[{\"type\":\"scatterternary\",\"marker\":{\"colorbar\":{\"outlinewidth\":0,\"ticks\":\"\"}}}],\"scattercarpet\":[{\"type\":\"scattercarpet\",\"marker\":{\"colorbar\":{\"outlinewidth\":0,\"ticks\":\"\"}}}],\"carpet\":[{\"aaxis\":{\"endlinecolor\":\"#2a3f5f\",\"gridcolor\":\"white\",\"linecolor\":\"white\",\"minorgridcolor\":\"white\",\"startlinecolor\":\"#2a3f5f\"},\"baxis\":{\"endlinecolor\":\"#2a3f5f\",\"gridcolor\":\"white\",\"linecolor\":\"white\",\"minorgridcolor\":\"white\",\"startlinecolor\":\"#2a3f5f\"},\"type\":\"carpet\"}],\"table\":[{\"cells\":{\"fill\":{\"color\":\"#EBF0F8\"},\"line\":{\"color\":\"white\"}},\"header\":{\"fill\":{\"color\":\"#C8D4E3\"},\"line\":{\"color\":\"white\"}},\"type\":\"table\"}],\"barpolar\":[{\"marker\":{\"line\":{\"color\":\"#E5ECF6\",\"width\":0.5},\"pattern\":{\"fillmode\":\"overlay\",\"size\":10,\"solidity\":0.2}},\"type\":\"barpolar\"}],\"pie\":[{\"automargin\":true,\"type\":\"pie\"}]},\"layout\":{\"autotypenumbers\":\"strict\",\"colorway\":[\"#636efa\",\"#EF553B\",\"#00cc96\",\"#ab63fa\",\"#FFA15A\",\"#19d3f3\",\"#FF6692\",\"#B6E880\",\"#FF97FF\",\"#FECB52\"],\"font\":{\"color\":\"#2a3f5f\"},\"hovermode\":\"closest\",\"hoverlabel\":{\"align\":\"left\"},\"paper_bgcolor\":\"white\",\"plot_bgcolor\":\"#E5ECF6\",\"polar\":{\"bgcolor\":\"#E5ECF6\",\"angularaxis\":{\"gridcolor\":\"white\",\"linecolor\":\"white\",\"ticks\":\"\"},\"radialaxis\":{\"gridcolor\":\"white\",\"linecolor\":\"white\",\"ticks\":\"\"}},\"ternary\":{\"bgcolor\":\"#E5ECF6\",\"aaxis\":{\"gridcolor\":\"white\",\"linecolor\":\"white\",\"ticks\":\"\"},\"baxis\":{\"gridcolor\":\"white\",\"linecolor\":\"white\",\"ticks\":\"\"},\"caxis\":{\"gridcolor\":\"white\",\"linecolor\":\"white\",\"ticks\":\"\"}},\"coloraxis\":{\"colorbar\":{\"outlinewidth\":0,\"ticks\":\"\"}},\"colorscale\":{\"sequential\":[[0.0,\"#0d0887\"],[0.1111111111111111,\"#46039f\"],[0.2222222222222222,\"#7201a8\"],[0.3333333333333333,\"#9c179e\"],[0.4444444444444444,\"#bd3786\"],[0.5555555555555556,\"#d8576b\"],[0.6666666666666666,\"#ed7953\"],[0.7777777777777778,\"#fb9f3a\"],[0.8888888888888888,\"#fdca26\"],[1.0,\"#f0f921\"]],\"sequentialminus\":[[0.0,\"#0d0887\"],[0.1111111111111111,\"#46039f\"],[0.2222222222222222,\"#7201a8\"],[0.3333333333333333,\"#9c179e\"],[0.4444444444444444,\"#bd3786\"],[0.5555555555555556,\"#d8576b\"],[0.6666666666666666,\"#ed7953\"],[0.7777777777777778,\"#fb9f3a\"],[0.8888888888888888,\"#fdca26\"],[1.0,\"#f0f921\"]],\"diverging\":[[0,\"#8e0152\"],[0.1,\"#c51b7d\"],[0.2,\"#de77ae\"],[0.3,\"#f1b6da\"],[0.4,\"#fde0ef\"],[0.5,\"#f7f7f7\"],[0.6,\"#e6f5d0\"],[0.7,\"#b8e186\"],[0.8,\"#7fbc41\"],[0.9,\"#4d9221\"],[1,\"#276419\"]]},\"xaxis\":{\"gridcolor\":\"white\",\"linecolor\":\"white\",\"ticks\":\"\",\"title\":{\"standoff\":15},\"zerolinecolor\":\"white\",\"automargin\":true,\"zerolinewidth\":2},\"yaxis\":{\"gridcolor\":\"white\",\"linecolor\":\"white\",\"ticks\":\"\",\"title\":{\"standoff\":15},\"zerolinecolor\":\"white\",\"automargin\":true,\"zerolinewidth\":2},\"scene\":{\"xaxis\":{\"backgroundcolor\":\"#E5ECF6\",\"gridcolor\":\"white\",\"linecolor\":\"white\",\"showbackground\":true,\"ticks\":\"\",\"zerolinecolor\":\"white\",\"gridwidth\":2},\"yaxis\":{\"backgroundcolor\":\"#E5ECF6\",\"gridcolor\":\"white\",\"linecolor\":\"white\",\"showbackground\":true,\"ticks\":\"\",\"zerolinecolor\":\"white\",\"gridwidth\":2},\"zaxis\":{\"backgroundcolor\":\"#E5ECF6\",\"gridcolor\":\"white\",\"linecolor\":\"white\",\"showbackground\":true,\"ticks\":\"\",\"zerolinecolor\":\"white\",\"gridwidth\":2}},\"shapedefaults\":{\"line\":{\"color\":\"#2a3f5f\"}},\"annotationdefaults\":{\"arrowcolor\":\"#2a3f5f\",\"arrowhead\":0,\"arrowwidth\":1},\"geo\":{\"bgcolor\":\"white\",\"landcolor\":\"#E5ECF6\",\"subunitcolor\":\"white\",\"showland\":true,\"showlakes\":true,\"lakecolor\":\"white\"},\"title\":{\"x\":0.05},\"mapbox\":{\"style\":\"light\"}}},\"xaxis\":{\"anchor\":\"y\",\"domain\":[0.0,1.0],\"title\":{\"text\":\"x\"}},\"yaxis\":{\"anchor\":\"x\",\"domain\":[0.0,1.0],\"title\":{\"text\":\"number of citations\"}},\"legend\":{\"tracegroupgap\":0},\"title\":{\"text\":\"Top 10 articles by number of citations\"},\"barmode\":\"relative\"},                        {\"responsive\": true}                    ).then(function(){\n",
       "                            \n",
       "var gd = document.getElementById('77ff42ec-98eb-4d34-ae65-55927945c7e9');\n",
       "var x = new MutationObserver(function (mutations, observer) {{\n",
       "        var display = window.getComputedStyle(gd).display;\n",
       "        if (!display || display === 'none') {{\n",
       "            console.log([gd, 'removed!']);\n",
       "            Plotly.purge(gd);\n",
       "            observer.disconnect();\n",
       "        }}\n",
       "}});\n",
       "\n",
       "// Listen for the removal of the full notebook cells\n",
       "var notebookContainer = gd.closest('#notebook-container');\n",
       "if (notebookContainer) {{\n",
       "    x.observe(notebookContainer, {childList: true});\n",
       "}}\n",
       "\n",
       "// Listen for the clearing of the current output cell\n",
       "var outputEl = gd.closest('.output');\n",
       "if (outputEl) {{\n",
       "    x.observe(outputEl, {childList: true});\n",
       "}}\n",
       "\n",
       "                        })                };                });            </script>        </div>"
      ]
     },
     "metadata": {},
     "output_type": "display_data"
    }
   ],
   "source": [
    "keys, values = range(10), n_citation.sort_values(ascending=False).values[:10]\n",
    "\n",
    "fig = px.bar(x=keys, y=values, title = 'Top 10 articles by number of citations', \n",
    "             text_auto='.2s',\n",
    "             labels={'y': 'number of citations'})\n",
    "\n",
    "fig.update_traces(marker_color='rgb(158,202,225)', marker_line_color='rgb(8,48,107)',\n",
    "                  marker_line_width=1.5, opacity=0.7)\n",
    "\n",
    "fig.show();"
   ]
  },
  {
   "cell_type": "markdown",
   "id": "b5e2eb5a",
   "metadata": {
    "papermill": {
     "duration": 0.02327,
     "end_time": "2022-10-01T03:53:55.789313",
     "exception": false,
     "start_time": "2022-10-01T03:53:55.766043",
     "status": "completed"
    },
    "tags": []
   },
   "source": [
    "# Word Cloud"
   ]
  },
  {
   "cell_type": "code",
   "execution_count": 72,
   "id": "13625b2b",
   "metadata": {
    "execution": {
     "iopub.execute_input": "2022-10-01T03:53:55.836352Z",
     "iopub.status.busy": "2022-10-01T03:53:55.835565Z",
     "iopub.status.idle": "2022-10-01T03:53:55.847638Z",
     "shell.execute_reply": "2022-10-01T03:53:55.846791Z"
    },
    "papermill": {
     "duration": 0.037254,
     "end_time": "2022-10-01T03:53:55.849525",
     "exception": false,
     "start_time": "2022-10-01T03:53:55.812271",
     "status": "completed"
    },
    "tags": []
   },
   "outputs": [],
   "source": [
    "data_abstract = data.abstract[data.abstract.isnull() == False]"
   ]
  },
  {
   "cell_type": "code",
   "execution_count": 73,
   "id": "1fa71f81",
   "metadata": {
    "execution": {
     "iopub.execute_input": "2022-10-01T03:53:55.895638Z",
     "iopub.status.busy": "2022-10-01T03:53:55.895361Z",
     "iopub.status.idle": "2022-10-01T03:53:57.721473Z",
     "shell.execute_reply": "2022-10-01T03:53:57.720390Z"
    },
    "papermill": {
     "duration": 1.852065,
     "end_time": "2022-10-01T03:53:57.724206",
     "exception": false,
     "start_time": "2022-10-01T03:53:55.872141",
     "status": "completed"
    },
    "tags": []
   },
   "outputs": [
    {
     "data": {
      "application/vnd.jupyter.widget-view+json": {
       "model_id": "692d3cbb85b541eeb5d4c537ca908893",
       "version_major": 2,
       "version_minor": 0
      },
      "text/plain": [
       "0it [00:00, ?it/s]"
      ]
     },
     "metadata": {},
     "output_type": "display_data"
    }
   ],
   "source": [
    "comment_words = ''\n",
    "stopwords = set(STOPWORDS)\n",
    "\n",
    "\n",
    "for val in tqdm(data_abstract.iloc):\n",
    "    val = str(val)\n",
    "    tokens = val.split()\n",
    "     \n",
    "    for i in range(len(tokens)):\n",
    "        tokens[i] = tokens[i].lower()\n",
    "     \n",
    "    comment_words += \" \".join(tokens)+\" \""
   ]
  },
  {
   "cell_type": "code",
   "execution_count": 74,
   "id": "cd9714ae",
   "metadata": {
    "execution": {
     "iopub.execute_input": "2022-10-01T03:53:57.774003Z",
     "iopub.status.busy": "2022-10-01T03:53:57.773104Z",
     "iopub.status.idle": "2022-10-01T03:54:18.166965Z",
     "shell.execute_reply": "2022-10-01T03:54:18.166135Z"
    },
    "papermill": {
     "duration": 20.424452,
     "end_time": "2022-10-01T03:54:18.172403",
     "exception": false,
     "start_time": "2022-10-01T03:53:57.747951",
     "status": "completed"
    },
    "tags": []
   },
   "outputs": [
    {
     "data": {
      "image/png": "[encoded data removed]",
      "text/plain": [
       "<Figure size 576x576 with 1 Axes>"
      ]
     },
     "metadata": {
      "needs_background": "light"
     },
     "output_type": "display_data"
    }
   ],
   "source": [
    "wordcloud = WordCloud(width = 800, height = 800,\n",
    "                     background_color ='black',\n",
    "                     stopwords = stopwords,\n",
    "                     min_font_size = 10).generate(comment_words)\n",
    "plt.figure(figsize = (8, 8), facecolor = None)\n",
    "plt.imshow(wordcloud)\n",
    "plt.axis(\"off\")\n",
    "plt.tight_layout(pad = 0)\n",
    " \n",
    "plt.show()"
   ]
  },
  {
   "cell_type": "code",
   "execution_count": null,
   "id": "3454ad29",
   "metadata": {
    "papermill": {
     "duration": 0.026708,
     "end_time": "2022-10-01T03:54:18.227430",
     "exception": false,
     "start_time": "2022-10-01T03:54:18.200722",
     "status": "completed"
    },
    "tags": []
   },
   "outputs": [],
   "source": []
  }
 ],
 "metadata": {
  "kernelspec": {
   "display_name": "Python 3 (ipykernel)",
   "language": "python",
   "name": "python3"
  },
  "language_info": {
   "codemirror_mode": {
    "name": "ipython",
    "version": 3
   },
   "file_extension": ".py",
   "mimetype": "text/x-python",
   "name": "python",
   "nbconvert_exporter": "python",
   "pygments_lexer": "ipython3",
   "version": "3.9.10"
  },
  "papermill": {
   "default_parameters": {},
   "duration": 117.127256,
   "end_time": "2022-10-01T03:54:19.778511",
   "environment_variables": {},
   "exception": null,
   "input_path": "__notebook__.ipynb",
   "output_path": "__notebook__.ipynb",
   "parameters": {},
   "start_time": "2022-10-01T03:52:22.651255",
   "version": "2.3.4"
  },
  "widgets": {
   "application/vnd.jupyter.widget-state+json": {
    "state": {
     "122fbf8314af4516ad861cbab1fad06a": {
      "model_module": "@jupyter-widgets/controls",
      "model_module_version": "1.5.0",
      "model_name": "DescriptionStyleModel",
      "state": {
       "_model_module": "@jupyter-widgets/controls",
       "_model_module_version": "1.5.0",
       "_model_name": "DescriptionStyleModel",
       "_view_count": null,
       "_view_module": "@jupyter-widgets/base",
       "_view_module_version": "1.2.0",
       "_view_name": "StyleView",
       "description_width": ""
      }
     },
     "15266b8035dc4b4c951366e3625f50fd": {
      "model_module": "@jupyter-widgets/controls",
      "model_module_version": "1.5.0",
      "model_name": "FloatProgressModel",
      "state": {
       "_dom_classes": [],
       "_model_module": "@jupyter-widgets/controls",
       "_model_module_version": "1.5.0",
       "_model_name": "FloatProgressModel",
       "_view_count": null,
       "_view_module": "@jupyter-widgets/controls",
       "_view_module_version": "1.5.0",
       "_view_name": "ProgressView",
       "bar_style": "success",
       "description": "",
       "description_tooltip": null,
       "layout": "IPY_MODEL_4148085c3c364de783f74bc1b7ec1202",
       "max": 1,
       "min": 0,
       "orientation": "horizontal",
       "style": "IPY_MODEL_b32285e7febf452187f1f295cc1a3826",
       "value": 1
      }
     },
     "4148085c3c364de783f74bc1b7ec1202": {
      "model_module": "@jupyter-widgets/base",
      "model_module_version": "1.2.0",
      "model_name": "LayoutModel",
      "state": {
       "_model_module": "@jupyter-widgets/base",
       "_model_module_version": "1.2.0",
       "_model_name": "LayoutModel",
       "_view_count": null,
       "_view_module": "@jupyter-widgets/base",
       "_view_module_version": "1.2.0",
       "_view_name": "LayoutView",
       "align_content": null,
       "align_items": null,
       "align_self": null,
       "border": null,
       "bottom": null,
       "display": null,
       "flex": null,
       "flex_flow": null,
       "grid_area": null,
       "grid_auto_columns": null,
       "grid_auto_flow": null,
       "grid_auto_rows": null,
       "grid_column": null,
       "grid_gap": null,
       "grid_row": null,
       "grid_template_areas": null,
       "grid_template_columns": null,
       "grid_template_rows": null,
       "height": null,
       "justify_content": null,
       "justify_items": null,
       "left": null,
       "margin": null,
       "max_height": null,
       "max_width": null,
       "min_height": null,
       "min_width": null,
       "object_fit": null,
       "object_position": null,
       "order": null,
       "overflow": null,
       "overflow_x": null,
       "overflow_y": null,
       "padding": null,
       "right": null,
       "top": null,
       "visibility": null,
       "width": "20px"
      }
     },
     "41cea4c997e14bccb2d1e1dde7975538": {
      "model_module": "@jupyter-widgets/base",
      "model_module_version": "1.2.0",
      "model_name": "LayoutModel",
      "state": {
       "_model_module": "@jupyter-widgets/base",
       "_model_module_version": "1.2.0",
       "_model_name": "LayoutModel",
       "_view_count": null,
       "_view_module": "@jupyter-widgets/base",
       "_view_module_version": "1.2.0",
       "_view_name": "LayoutView",
       "align_content": null,
       "align_items": null,
       "align_self": null,
       "border": null,
       "bottom": null,
       "display": null,
       "flex": null,
       "flex_flow": null,
       "grid_area": null,
       "grid_auto_columns": null,
       "grid_auto_flow": null,
       "grid_auto_rows": null,
       "grid_column": null,
       "grid_gap": null,
       "grid_row": null,
       "grid_template_areas": null,
       "grid_template_columns": null,
       "grid_template_rows": null,
       "height": null,
       "justify_content": null,
       "justify_items": null,
       "left": null,
       "margin": null,
       "max_height": null,
       "max_width": null,
       "min_height": null,
       "min_width": null,
       "object_fit": null,
       "object_position": null,
       "order": null,
       "overflow": null,
       "overflow_x": null,
       "overflow_y": null,
       "padding": null,
       "right": null,
       "top": null,
       "visibility": null,
       "width": null
      }
     },
     "5a76acf7379c407c92057c2b59ee7ee8": {
      "model_module": "@jupyter-widgets/controls",
      "model_module_version": "1.5.0",
      "model_name": "DescriptionStyleModel",
      "state": {
       "_model_module": "@jupyter-widgets/controls",
       "_model_module_version": "1.5.0",
       "_model_name": "DescriptionStyleModel",
       "_view_count": null,
       "_view_module": "@jupyter-widgets/base",
       "_view_module_version": "1.2.0",
       "_view_name": "StyleView",
       "description_width": ""
      }
     },
     "5ab4fb7d08a84aaeabe4e14bc235ce82": {
      "model_module": "@jupyter-widgets/controls",
      "model_module_version": "1.5.0",
      "model_name": "HTMLModel",
      "state": {
       "_dom_classes": [],
       "_model_module": "@jupyter-widgets/controls",
       "_model_module_version": "1.5.0",
       "_model_name": "HTMLModel",
       "_view_count": null,
       "_view_module": "@jupyter-widgets/controls",
       "_view_module_version": "1.5.0",
       "_view_name": "HTMLView",
       "description": "",
       "description_tooltip": null,
       "layout": "IPY_MODEL_709699d42b9a42d98962f9716e746cbd",
       "placeholder": "​",
       "style": "IPY_MODEL_5a76acf7379c407c92057c2b59ee7ee8",
       "value": " 44985/? [00:01&lt;00:00, 21368.52it/s]"
      }
     },
     "692d3cbb85b541eeb5d4c537ca908893": {
      "model_module": "@jupyter-widgets/controls",
      "model_module_version": "1.5.0",
      "model_name": "HBoxModel",
      "state": {
       "_dom_classes": [],
       "_model_module": "@jupyter-widgets/controls",
       "_model_module_version": "1.5.0",
       "_model_name": "HBoxModel",
       "_view_count": null,
       "_view_module": "@jupyter-widgets/controls",
       "_view_module_version": "1.5.0",
       "_view_name": "HBoxView",
       "box_style": "",
       "children": [
        "IPY_MODEL_d4c440a4d999427fbf2c6992988d2666",
        "IPY_MODEL_15266b8035dc4b4c951366e3625f50fd",
        "IPY_MODEL_5ab4fb7d08a84aaeabe4e14bc235ce82"
       ],
       "layout": "IPY_MODEL_c39a44bd7eb94a949af64bdfbc2486b3"
      }
     },
     "709699d42b9a42d98962f9716e746cbd": {
      "model_module": "@jupyter-widgets/base",
      "model_module_version": "1.2.0",
      "model_name": "LayoutModel",
      "state": {
       "_model_module": "@jupyter-widgets/base",
       "_model_module_version": "1.2.0",
       "_model_name": "LayoutModel",
       "_view_count": null,
       "_view_module": "@jupyter-widgets/base",
       "_view_module_version": "1.2.0",
       "_view_name": "LayoutView",
       "align_content": null,
       "align_items": null,
       "align_self": null,
       "border": null,
       "bottom": null,
       "display": null,
       "flex": null,
       "flex_flow": null,
       "grid_area": null,
       "grid_auto_columns": null,
       "grid_auto_flow": null,
       "grid_auto_rows": null,
       "grid_column": null,
       "grid_gap": null,
       "grid_row": null,
       "grid_template_areas": null,
       "grid_template_columns": null,
       "grid_template_rows": null,
       "height": null,
       "justify_content": null,
       "justify_items": null,
       "left": null,
       "margin": null,
       "max_height": null,
       "max_width": null,
       "min_height": null,
       "min_width": null,
       "object_fit": null,
       "object_position": null,
       "order": null,
       "overflow": null,
       "overflow_x": null,
       "overflow_y": null,
       "padding": null,
       "right": null,
       "top": null,
       "visibility": null,
       "width": null
      }
     },
     "b32285e7febf452187f1f295cc1a3826": {
      "model_module": "@jupyter-widgets/controls",
      "model_module_version": "1.5.0",
      "model_name": "ProgressStyleModel",
      "state": {
       "_model_module": "@jupyter-widgets/controls",
       "_model_module_version": "1.5.0",
       "_model_name": "ProgressStyleModel",
       "_view_count": null,
       "_view_module": "@jupyter-widgets/base",
       "_view_module_version": "1.2.0",
       "_view_name": "StyleView",
       "bar_color": null,
       "description_width": ""
      }
     },
     "c39a44bd7eb94a949af64bdfbc2486b3": {
      "model_module": "@jupyter-widgets/base",
      "model_module_version": "1.2.0",
      "model_name": "LayoutModel",
      "state": {
       "_model_module": "@jupyter-widgets/base",
       "_model_module_version": "1.2.0",
       "_model_name": "LayoutModel",
       "_view_count": null,
       "_view_module": "@jupyter-widgets/base",
       "_view_module_version": "1.2.0",
       "_view_name": "LayoutView",
       "align_content": null,
       "align_items": null,
       "align_self": null,
       "border": null,
       "bottom": null,
       "display": null,
       "flex": null,
       "flex_flow": null,
       "grid_area": null,
       "grid_auto_columns": null,
       "grid_auto_flow": null,
       "grid_auto_rows": null,
       "grid_column": null,
       "grid_gap": null,
       "grid_row": null,
       "grid_template_areas": null,
       "grid_template_columns": null,
       "grid_template_rows": null,
       "height": null,
       "justify_content": null,
       "justify_items": null,
       "left": null,
       "margin": null,
       "max_height": null,
       "max_width": null,
       "min_height": null,
       "min_width": null,
       "object_fit": null,
       "object_position": null,
       "order": null,
       "overflow": null,
       "overflow_x": null,
       "overflow_y": null,
       "padding": null,
       "right": null,
       "top": null,
       "visibility": null,
       "width": null
      }
     },
     "d4c440a4d999427fbf2c6992988d2666": {
      "model_module": "@jupyter-widgets/controls",
      "model_module_version": "1.5.0",
      "model_name": "HTMLModel",
      "state": {
       "_dom_classes": [],
       "_model_module": "@jupyter-widgets/controls",
       "_model_module_version": "1.5.0",
       "_model_name": "HTMLModel",
       "_view_count": null,
       "_view_module": "@jupyter-widgets/controls",
       "_view_module_version": "1.5.0",
       "_view_name": "HTMLView",
       "description": "",
       "description_tooltip": null,
       "layout": "IPY_MODEL_41cea4c997e14bccb2d1e1dde7975538",
       "placeholder": "​",
       "style": "IPY_MODEL_122fbf8314af4516ad861cbab1fad06a",
       "value": ""
      }
     }
    },
    "version_major": 2,
    "version_minor": 0
   }
  }
 },
 "nbformat": 4,
 "nbformat_minor": 5
}
